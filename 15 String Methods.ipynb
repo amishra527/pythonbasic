{
  "nbformat": 4,
  "nbformat_minor": 0,
  "metadata": {
    "colab": {
      "name": "Untitled32.ipynb",
      "provenance": [],
      "authorship_tag": "ABX9TyMgS4v6pFwIHBMX+Qyx0r/x",
      "include_colab_link": true
    },
    "kernelspec": {
      "name": "python3",
      "display_name": "Python 3"
    },
    "language_info": {
      "name": "python"
    },
    "accelerator": "GPU"
  },
  "cells": [
    {
      "cell_type": "markdown",
      "metadata": {
        "id": "view-in-github",
        "colab_type": "text"
      },
      "source": [
        "<a href=\"https://colab.research.google.com/github/amishra527/pythonbasic/blob/main/15%20String%20Methods.ipynb\" target=\"_parent\"><img src=\"https://colab.research.google.com/assets/colab-badge.svg\" alt=\"Open In Colab\"/></a>"
      ]
    },
    {
      "cell_type": "markdown",
      "source": [
        "##15 String Methods That Changed the Way I Work With Text in Python"
      ],
      "metadata": {
        "id": "LrNG_A6d1WTd"
      }
    },
    {
      "cell_type": "markdown",
      "source": [
        "###1 replace()\n",
        "This is one of my favorite. How often do you need to change a substring to another. This can be as simple as changing a character to another."
      ],
      "metadata": {
        "id": "Av2EgfOW1f6r"
      }
    },
    {
      "cell_type": "code",
      "execution_count": 2,
      "metadata": {
        "colab": {
          "base_uri": "https://localhost:8080/"
        },
        "id": "oU7XEb411MDj",
        "outputId": "fee20880-e370-434c-ed36-cbc3eba3f32e"
      },
      "outputs": [
        {
          "output_type": "stream",
          "name": "stdout",
          "text": [
            "this_is_my_bike\n"
          ]
        }
      ],
      "source": [
        "input_str = 'this is my bike'\n",
        "slug = input_str.replace(' ', '_')\n",
        "print(slug)"
      ]
    },
    {
      "cell_type": "markdown",
      "source": [
        "###2 split()\n",
        "You have a string and want to split it into words. This can be done with split()\n",
        "\n",
        "Notice you can set the separator as you wish, say to comma as follows: split(‘,’) then it will separate on comma."
      ],
      "metadata": {
        "id": "yUwQep7q1ybC"
      }
    },
    {
      "cell_type": "code",
      "source": [
        "input_str = 'this is my awesome string'\n",
        "words = input_str.split()\n",
        "print(words)"
      ],
      "metadata": {
        "colab": {
          "base_uri": "https://localhost:8080/"
        },
        "id": "GXQl6c0i1Y4J",
        "outputId": "c4391e5e-617c-430b-f759-0c08315ddf3c"
      },
      "execution_count": 3,
      "outputs": [
        {
          "output_type": "stream",
          "name": "stdout",
          "text": [
            "['this', 'is', 'my', 'awesome', 'string']\n"
          ]
        }
      ]
    },
    {
      "cell_type": "markdown",
      "source": [
        "###3 join()\n",
        "Another favorite. You split something than you want to join it again, right?"
      ],
      "metadata": {
        "id": "W5qPM3aa2EWy"
      }
    },
    {
      "cell_type": "code",
      "source": [
        "input_str = 'this is my awesome string'\n",
        "my_list = input_str.split()\n",
        "output_str = '_'.join(my_list)\n",
        "print(output_str)"
      ],
      "metadata": {
        "colab": {
          "base_uri": "https://localhost:8080/"
        },
        "id": "iS8AUQHz15Z0",
        "outputId": "b004d55f-58d3-435c-9a09-f4c4a44aa568"
      },
      "execution_count": 5,
      "outputs": [
        {
          "output_type": "stream",
          "name": "stdout",
          "text": [
            "this_is_my_awesome_string\n"
          ]
        }
      ]
    },
    {
      "cell_type": "markdown",
      "source": [
        "###4 in\n",
        "In what?\n",
        "\n",
        "Yes, you want to check if something is a substring of another."
      ],
      "metadata": {
        "id": "-XAmlNK_2O2h"
      }
    },
    {
      "cell_type": "code",
      "source": [
        "input_str = 'this is my awesome string'\n",
        "if 'awesome' in input_str:\n",
        "    print('awesome')\n",
        "if 'dull' in input_str:\n",
        "    print('dll')"
      ],
      "metadata": {
        "colab": {
          "base_uri": "https://localhost:8080/"
        },
        "id": "YJF8Q9oH2IIt",
        "outputId": "516276e6-f709-4ac9-93ee-a3bdd60965a1"
      },
      "execution_count": 6,
      "outputs": [
        {
          "output_type": "stream",
          "name": "stdout",
          "text": [
            "awesome\n"
          ]
        }
      ]
    },
    {
      "cell_type": "markdown",
      "source": [
        "###5 strip()\n",
        "Often when you work with strings they will contain spaces in front and at the end as well as a new line."
      ],
      "metadata": {
        "id": "cY4-YVwY2VQ6"
      }
    },
    {
      "cell_type": "code",
      "source": [
        "input_str = '   I love this    '\n",
        "output_str = input_str.strip()\n",
        "print(output_str)"
      ],
      "metadata": {
        "colab": {
          "base_uri": "https://localhost:8080/"
        },
        "id": "6uS5_noP2Sk6",
        "outputId": "67b865c6-7c3c-4a50-de77-173f9d548d66"
      },
      "execution_count": 8,
      "outputs": [
        {
          "output_type": "stream",
          "name": "stdout",
          "text": [
            "I love this\n"
          ]
        }
      ]
    },
    {
      "cell_type": "markdown",
      "source": [
        "###6 isdigit()\n",
        "Want to check if a string is a digit value?"
      ],
      "metadata": {
        "id": "8EIsNwaA2eT-"
      }
    },
    {
      "cell_type": "code",
      "source": [
        "input_str = '313'\n",
        "if input_str.isdigit():\n",
        "    print(f'{input_str} is digit')\n",
        "input_str = '313a'\n",
        "if input_str.isdigit():\n",
        "    print(f'{input_str} is digit')"
      ],
      "metadata": {
        "colab": {
          "base_uri": "https://localhost:8080/"
        },
        "id": "DfoOfvt52YkK",
        "outputId": "72fd41ba-f9fe-4c8c-b3c6-561cfdd3e41b"
      },
      "execution_count": 10,
      "outputs": [
        {
          "output_type": "stream",
          "name": "stdout",
          "text": [
            "313 is digit\n"
          ]
        }
      ]
    },
    {
      "cell_type": "markdown",
      "source": [
        "###7 Concatenate strings\n",
        "This is such a great feature of Python. Yes, you can simply concatenate strings with a plus sign."
      ],
      "metadata": {
        "id": "HgfbA48H2pXV"
      }
    },
    {
      "cell_type": "code",
      "source": [
        "str_a = 'This is Cool'\n",
        "str_b = ' and Amazing'\n",
        "output_str = str_a + str_b\n",
        "print(output_str)"
      ],
      "metadata": {
        "colab": {
          "base_uri": "https://localhost:8080/"
        },
        "id": "TYwL6vGa2h7v",
        "outputId": "93eaca7f-62a6-4fae-80b8-cae81daabcaf"
      },
      "execution_count": 12,
      "outputs": [
        {
          "output_type": "stream",
          "name": "stdout",
          "text": [
            "This is Cool and Amazing\n"
          ]
        }
      ]
    },
    {
      "cell_type": "markdown",
      "source": [
        "If you notice, this could be done with join as well."
      ],
      "metadata": {
        "id": "BrXy_O4r2z-J"
      }
    },
    {
      "cell_type": "code",
      "source": [
        "output_str = ''.join((str_a, str_b))\n",
        "print(output_str)"
      ],
      "metadata": {
        "colab": {
          "base_uri": "https://localhost:8080/"
        },
        "id": "3I4fTBPV2s-7",
        "outputId": "51575476-d024-42e6-82c4-a7dcd82a43d5"
      },
      "execution_count": 14,
      "outputs": [
        {
          "output_type": "stream",
          "name": "stdout",
          "text": [
            "This is Cool and Amazing\n"
          ]
        }
      ]
    },
    {
      "cell_type": "markdown",
      "source": [
        "###8 Formatted strings\n",
        "Formatted strings are amazing and makes it easy to output variables. Formatted strings will output string representation of a variable between curly brackets. The formatted string starts with an f."
      ],
      "metadata": {
        "id": "gl4V9bNs2_M9"
      }
    },
    {
      "cell_type": "code",
      "source": [
        "var_a = 27\n",
        "var_b = 'Icecream'\n",
        "print(f'Bought {var_a} items of {var_b}')"
      ],
      "metadata": {
        "colab": {
          "base_uri": "https://localhost:8080/"
        },
        "id": "lQYcOC0924Zo",
        "outputId": "020b79b5-4473-4826-9c98-b34cc5bbfd1f"
      },
      "execution_count": 15,
      "outputs": [
        {
          "output_type": "stream",
          "name": "stdout",
          "text": [
            "Bought 27 items of Icecream\n"
          ]
        }
      ]
    },
    {
      "cell_type": "markdown",
      "source": [
        "###9 lower()\n",
        "Want a string in lower case."
      ],
      "metadata": {
        "id": "FmwIBrso3Fak"
      }
    },
    {
      "cell_type": "code",
      "source": [
        "input_str = 'Hi My Best Friend'\n",
        "print(input_str.lower())"
      ],
      "metadata": {
        "colab": {
          "base_uri": "https://localhost:8080/"
        },
        "id": "hOJ0uBjN3CJv",
        "outputId": "c5d18873-77d4-4e07-c6a1-a3f0c5c71fe2"
      },
      "execution_count": 16,
      "outputs": [
        {
          "output_type": "stream",
          "name": "stdout",
          "text": [
            "hi my best friend\n"
          ]
        }
      ]
    },
    {
      "cell_type": "markdown",
      "source": [
        "###10 startswith()\n",
        "When processing strings, you might want to check if it starts with a specific part."
      ],
      "metadata": {
        "id": "UKdHdjTw3KW1"
      }
    },
    {
      "cell_type": "code",
      "source": [
        "url = 'https://www.ashutoshmishra.co.in/'\n",
        "if url.startswith('https://'):\n",
        "    print('HTTPS')"
      ],
      "metadata": {
        "colab": {
          "base_uri": "https://localhost:8080/"
        },
        "id": "-8sNbAes3IH4",
        "outputId": "031a2d07-61f2-49fd-f0bd-bf9b9f798b48"
      },
      "execution_count": 18,
      "outputs": [
        {
          "output_type": "stream",
          "name": "stdout",
          "text": [
            "HTTPS\n"
          ]
        }
      ]
    },
    {
      "cell_type": "markdown",
      "source": [
        "###11 endswith()\n",
        "Almost similar."
      ],
      "metadata": {
        "id": "KaH0XcEs3UMt"
      }
    },
    {
      "cell_type": "code",
      "source": [
        "url = 'https://www.ashutoshmishra.co.in/'\n",
        "if url.endswith('/'):\n",
        "    print('Slash')"
      ],
      "metadata": {
        "colab": {
          "base_uri": "https://localhost:8080/"
        },
        "id": "vkwXA-RF3Ng3",
        "outputId": "6f23e0e7-e040-4a4c-eb95-7d6be7ddb5af"
      },
      "execution_count": 19,
      "outputs": [
        {
          "output_type": "stream",
          "name": "stdout",
          "text": [
            "Slash\n"
          ]
        }
      ]
    },
    {
      "cell_type": "markdown",
      "source": [
        "###12 count()\n",
        "How many occurrences of a substring?"
      ],
      "metadata": {
        "id": "lzJG-2NF3cWl"
      }
    },
    {
      "cell_type": "code",
      "source": [
        "print('foo bar foobar barfoo'.count('foo'))"
      ],
      "metadata": {
        "colab": {
          "base_uri": "https://localhost:8080/"
        },
        "id": "Q1VYn7um3aGs",
        "outputId": "4f2a8ac8-cd13-48a7-8f38-979c281cb668"
      },
      "execution_count": 20,
      "outputs": [
        {
          "output_type": "stream",
          "name": "stdout",
          "text": [
            "3\n"
          ]
        }
      ]
    },
    {
      "cell_type": "markdown",
      "source": [
        "###13 splitlines()\n",
        "This one is amazing when you read a full text with new lines."
      ],
      "metadata": {
        "id": "SLeOC6yK3jBV"
      }
    },
    {
      "cell_type": "code",
      "source": [
        "text = '''This is my text\n",
        "and it is long\n",
        "over multiple lines'''\n",
        "lines = text.splitlines()\n",
        "print(lines)"
      ],
      "metadata": {
        "colab": {
          "base_uri": "https://localhost:8080/"
        },
        "id": "h1nS_tQI3fub",
        "outputId": "3e74354e-6819-43af-9975-63c863af369d"
      },
      "execution_count": 22,
      "outputs": [
        {
          "output_type": "stream",
          "name": "stdout",
          "text": [
            "['This is my text', 'and it is long', 'over multiple lines']\n"
          ]
        }
      ]
    },
    {
      "cell_type": "markdown",
      "source": [
        "###14 Check if string only contains certain characters\n",
        "I use this all the time. You need to check if a string only contains specific characters. These characters are not standard or very specific to your use case.\n",
        "\n",
        "Here is how you can solve it."
      ],
      "metadata": {
        "id": "vHd3mGOe3ve7"
      }
    },
    {
      "cell_type": "code",
      "source": [
        "def valid_characters(string: str):\n",
        "    legal_characters = 'abcdefghijklmnopqrstuvwxyz0123456789._-'\n",
        "    if set(string) <= set(legal_characters):\n",
        "        return True\n",
        "    else:\n",
        "        return False\n",
        "print(valid_characters('FooBar'))\n",
        "print(valid_characters('foobar'))\n",
        "print(valid_characters('foo_bar')) "
      ],
      "metadata": {
        "colab": {
          "base_uri": "https://localhost:8080/"
        },
        "id": "O66JGmK93j-j",
        "outputId": "69586a43-6e28-47f5-e7ca-f77e09e6ef0c"
      },
      "execution_count": 25,
      "outputs": [
        {
          "output_type": "stream",
          "name": "stdout",
          "text": [
            "False\n",
            "True\n",
            "True\n"
          ]
        }
      ]
    },
    {
      "cell_type": "markdown",
      "source": [
        "###15 Replace and remove last item in itemized string\n",
        "Am I the only one, which uses this all the time?\n",
        "\n",
        "It could be comma separated string, and you need to remove the "
      ],
      "metadata": {
        "id": "ZHrhPBY_4KTh"
      }
    },
    {
      "cell_type": "code",
      "source": [
        "def convert(string: str):\n",
        "    return '_'.join(string.split(',')[:-1])\n",
        "print(convert('this,is,my,test,remove_me'))"
      ],
      "metadata": {
        "colab": {
          "base_uri": "https://localhost:8080/"
        },
        "id": "wfKLA_i431os",
        "outputId": "a604897f-8119-4924-fbfa-360653b24a61"
      },
      "execution_count": 29,
      "outputs": [
        {
          "output_type": "stream",
          "name": "stdout",
          "text": [
            "this_is_my_test\n"
          ]
        }
      ]
    },
    {
      "cell_type": "code",
      "source": [
        ""
      ],
      "metadata": {
        "id": "Xwby5iDV4NRo"
      },
      "execution_count": null,
      "outputs": []
    }
  ]
}