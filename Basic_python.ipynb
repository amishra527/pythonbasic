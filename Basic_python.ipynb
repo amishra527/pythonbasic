{
  "nbformat": 4,
  "nbformat_minor": 0,
  "metadata": {
    "colab": {
      "name": "Copy of Basic python.ipynb",
      "provenance": [],
      "authorship_tag": "ABX9TyPIQ89n/AOLVi5HXRp+3+rN",
      "include_colab_link": true
    },
    "kernelspec": {
      "name": "python3",
      "display_name": "Python 3"
    }
  },
  "cells": [
    {
      "cell_type": "markdown",
      "metadata": {
        "id": "view-in-github",
        "colab_type": "text"
      },
      "source": [
        "<a href=\"https://colab.research.google.com/github/amishra527/pythonbasic/blob/main/Basic_python.ipynb\" target=\"_parent\"><img src=\"https://colab.research.google.com/assets/colab-badge.svg\" alt=\"Open In Colab\"/></a>"
      ]
    },
    {
      "cell_type": "code",
      "metadata": {
        "colab": {
          "base_uri": "https://localhost:8080/"
        },
        "id": "Ea9Py9o7a6W9",
        "outputId": "9898b6cf-4d43-43a6-92a2-9a79b90ea6f0"
      },
      "source": [
        "# Exercise 1\n",
        "print(\"My name is Ashutosh\")"
      ],
      "execution_count": null,
      "outputs": [
        {
          "output_type": "stream",
          "text": [
            "My name is Ashutosh\n"
          ],
          "name": "stdout"
        }
      ]
    },
    {
      "cell_type": "code",
      "metadata": {
        "colab": {
          "base_uri": "https://localhost:8080/"
        },
        "id": "MotfDMWXcueb",
        "outputId": "f40a1ed5-01e1-4f4d-ed17-5fab67b1c806"
      },
      "source": [
        "#Exercise 2(maths)\n",
        "2+2"
      ],
      "execution_count": null,
      "outputs": [
        {
          "output_type": "execute_result",
          "data": {
            "text/plain": [
              "4"
            ]
          },
          "metadata": {
            "tags": []
          },
          "execution_count": 3
        }
      ]
    },
    {
      "cell_type": "code",
      "metadata": {
        "colab": {
          "base_uri": "https://localhost:8080/"
        },
        "id": "NY8a5hhVdCQ7",
        "outputId": "33648a45-1651-4705-f5f0-54fbf036e480"
      },
      "source": [
        "2-2"
      ],
      "execution_count": null,
      "outputs": [
        {
          "output_type": "execute_result",
          "data": {
            "text/plain": [
              "0"
            ]
          },
          "metadata": {
            "tags": []
          },
          "execution_count": 4
        }
      ]
    },
    {
      "cell_type": "code",
      "metadata": {
        "colab": {
          "base_uri": "https://localhost:8080/"
        },
        "id": "FhOhLuWjdGLL",
        "outputId": "eea2c482-0742-46cf-e5fd-03dd41a0958f"
      },
      "source": [
        "2*2"
      ],
      "execution_count": null,
      "outputs": [
        {
          "output_type": "execute_result",
          "data": {
            "text/plain": [
              "4"
            ]
          },
          "metadata": {
            "tags": []
          },
          "execution_count": 5
        }
      ]
    },
    {
      "cell_type": "code",
      "metadata": {
        "colab": {
          "base_uri": "https://localhost:8080/"
        },
        "id": "zd_d5pH-dHlz",
        "outputId": "8ac712cb-ccaa-4968-e371-f6c6e91bc1ca"
      },
      "source": [
        "2/2"
      ],
      "execution_count": null,
      "outputs": [
        {
          "output_type": "execute_result",
          "data": {
            "text/plain": [
              "1.0"
            ]
          },
          "metadata": {
            "tags": []
          },
          "execution_count": 6
        }
      ]
    },
    {
      "cell_type": "code",
      "metadata": {
        "colab": {
          "base_uri": "https://localhost:8080/"
        },
        "id": "oySFcnWfdIuE",
        "outputId": "0f37d660-6e0c-44f3-9876-424d173af2ca"
      },
      "source": [
        "#Exercise 3(sq. and cube)\n",
        "256**256"
      ],
      "execution_count": null,
      "outputs": [
        {
          "output_type": "execute_result",
          "data": {
            "text/plain": [
              "32317006071311007300714876688669951960444102669715484032130345427524655138867890893197201411522913463688717960921898019494119559150490921095088152386448283120630877367300996091750197750389652106796057638384067568276792218642619756161838094338476170470581645852036305042887575891541065808607552399123930385521914333389668342420684974786564569494856176035326322058077805659331026192708460314150258592864177116725943603718461857357598351152301645904403697613233287231227125684710820209725157101726931323469678542580656697935045997268352998638215525166389437335543602135433229604645318478604952148193555853611059596230656"
            ]
          },
          "metadata": {
            "tags": []
          },
          "execution_count": 7
        }
      ]
    },
    {
      "cell_type": "code",
      "metadata": {
        "colab": {
          "base_uri": "https://localhost:8080/"
        },
        "id": "vDyReeZNecKo",
        "outputId": "5714db2a-c339-4b31-aa21-0a44f3f62131"
      },
      "source": [
        "256**2"
      ],
      "execution_count": null,
      "outputs": [
        {
          "output_type": "execute_result",
          "data": {
            "text/plain": [
              "65536"
            ]
          },
          "metadata": {
            "tags": []
          },
          "execution_count": 8
        }
      ]
    },
    {
      "cell_type": "code",
      "metadata": {
        "colab": {
          "base_uri": "https://localhost:8080/"
        },
        "id": "6K_Un6-Gehox",
        "outputId": "0e1b764b-7166-472e-b9cc-acedb9810e4f"
      },
      "source": [
        "12**3"
      ],
      "execution_count": null,
      "outputs": [
        {
          "output_type": "execute_result",
          "data": {
            "text/plain": [
              "1728"
            ]
          },
          "metadata": {
            "tags": []
          },
          "execution_count": 9
        }
      ]
    },
    {
      "cell_type": "code",
      "metadata": {
        "colab": {
          "base_uri": "https://localhost:8080/"
        },
        "id": "vY5dG3KBenrw",
        "outputId": "208af460-eae1-4561-de06-7ede6c2d2030"
      },
      "source": [
        "#Exercise 4(BODMAS)\n",
        "2+3*4/5"
      ],
      "execution_count": null,
      "outputs": [
        {
          "output_type": "execute_result",
          "data": {
            "text/plain": [
              "4.4"
            ]
          },
          "metadata": {
            "tags": []
          },
          "execution_count": 12
        }
      ]
    },
    {
      "cell_type": "code",
      "metadata": {
        "colab": {
          "base_uri": "https://localhost:8080/"
        },
        "id": "J0kX9GAvfDh9",
        "outputId": "dc3fc8e6-41cc-4e3f-ae4a-52e73587fccf"
      },
      "source": [
        "#Exercise 5 calculator\n",
        "a=int(input(\"enter your first number,\"))\n",
        "b=int(input(\"enter your Second number,\"))\n",
        "c=int(input(\"enter your third number,\"))\n",
        "d=int(input(\"enter your forth number,\"))\n",
        "e=a+b*c/d\n",
        "print(e)"
      ],
      "execution_count": null,
      "outputs": [
        {
          "output_type": "stream",
          "text": [
            "enter your first number,14\n",
            "enter your Second number,25\n",
            "enter your third number,75\n",
            "enter your forth number,100\n",
            "32.75\n"
          ],
          "name": "stdout"
        }
      ]
    },
    {
      "cell_type": "code",
      "metadata": {
        "colab": {
          "base_uri": "https://localhost:8080/"
        },
        "id": "-CfxeT2NgsOF",
        "outputId": "1a008046-38c2-46fc-844c-d7ec4786d3b5"
      },
      "source": [
        "#Exercise 6(predictive model- odd/even)\n",
        "x=int(input(\"Enter your number,\"))\n",
        "if x%2==0:\n",
        "  print(\"your number is Even.\")\n",
        "else:\n",
        "  print(\"your number is Odd\") "
      ],
      "execution_count": null,
      "outputs": [
        {
          "output_type": "stream",
          "text": [
            "Enter your number,44\n",
            "your number is Even.\n"
          ],
          "name": "stdout"
        }
      ]
    },
    {
      "cell_type": "code",
      "metadata": {
        "id": "hp8_olesh442"
      },
      "source": [
        ""
      ],
      "execution_count": null,
      "outputs": []
    }
  ]
}