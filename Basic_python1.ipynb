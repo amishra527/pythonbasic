{
  "nbformat": 4,
  "nbformat_minor": 0,
  "metadata": {
    "colab": {
      "name": "Basic python.ipynb",
      "provenance": [],
      "collapsed_sections": [],
      "authorship_tag": "ABX9TyMhueuIOeHv1VB0Y8w2I2Pm",
      "include_colab_link": true
    },
    "kernelspec": {
      "name": "python3",
      "display_name": "Python 3"
    }
  },
  "cells": [
    {
      "cell_type": "markdown",
      "metadata": {
        "id": "view-in-github",
        "colab_type": "text"
      },
      "source": [
        "<a href=\"https://colab.research.google.com/github/amishra527/pythonbasic/blob/main/Basic_python1.ipynb\" target=\"_parent\"><img src=\"https://colab.research.google.com/assets/colab-badge.svg\" alt=\"Open In Colab\"/></a>"
      ]
    },
    {
      "cell_type": "code",
      "metadata": {
        "colab": {
          "base_uri": "https://localhost:8080/"
        },
        "id": "Ea9Py9o7a6W9",
        "outputId": "9898b6cf-4d43-43a6-92a2-9a79b90ea6f0"
      },
      "source": [
        "# Exercise 1\n",
        "print(\"My name is Ashutosh\")"
      ],
      "execution_count": null,
      "outputs": [
        {
          "output_type": "stream",
          "text": [
            "My name is Ashutosh\n"
          ],
          "name": "stdout"
        }
      ]
    },
    {
      "cell_type": "code",
      "metadata": {
        "colab": {
          "base_uri": "https://localhost:8080/"
        },
        "id": "MotfDMWXcueb",
        "outputId": "f40a1ed5-01e1-4f4d-ed17-5fab67b1c806"
      },
      "source": [
        "#Exercise 2(maths)\n",
        "2+2"
      ],
      "execution_count": null,
      "outputs": [
        {
          "output_type": "execute_result",
          "data": {
            "text/plain": [
              "4"
            ]
          },
          "metadata": {
            "tags": []
          },
          "execution_count": 3
        }
      ]
    },
    {
      "cell_type": "code",
      "metadata": {
        "colab": {
          "base_uri": "https://localhost:8080/"
        },
        "id": "NY8a5hhVdCQ7",
        "outputId": "33648a45-1651-4705-f5f0-54fbf036e480"
      },
      "source": [
        "2-2"
      ],
      "execution_count": null,
      "outputs": [
        {
          "output_type": "execute_result",
          "data": {
            "text/plain": [
              "0"
            ]
          },
          "metadata": {
            "tags": []
          },
          "execution_count": 4
        }
      ]
    },
    {
      "cell_type": "code",
      "metadata": {
        "colab": {
          "base_uri": "https://localhost:8080/"
        },
        "id": "FhOhLuWjdGLL",
        "outputId": "eea2c482-0742-46cf-e5fd-03dd41a0958f"
      },
      "source": [
        "2*2"
      ],
      "execution_count": null,
      "outputs": [
        {
          "output_type": "execute_result",
          "data": {
            "text/plain": [
              "4"
            ]
          },
          "metadata": {
            "tags": []
          },
          "execution_count": 5
        }
      ]
    },
    {
      "cell_type": "code",
      "metadata": {
        "colab": {
          "base_uri": "https://localhost:8080/"
        },
        "id": "zd_d5pH-dHlz",
        "outputId": "8ac712cb-ccaa-4968-e371-f6c6e91bc1ca"
      },
      "source": [
        "2/2"
      ],
      "execution_count": null,
      "outputs": [
        {
          "output_type": "execute_result",
          "data": {
            "text/plain": [
              "1.0"
            ]
          },
          "metadata": {
            "tags": []
          },
          "execution_count": 6
        }
      ]
    },
    {
      "cell_type": "code",
      "metadata": {
        "colab": {
          "base_uri": "https://localhost:8080/"
        },
        "id": "oySFcnWfdIuE",
        "outputId": "0f37d660-6e0c-44f3-9876-424d173af2ca"
      },
      "source": [
        "#Exercise 3(sq. and cube)\n",
        "256**256"
      ],
      "execution_count": null,
      "outputs": [
        {
          "output_type": "execute_result",
          "data": {
            "text/plain": [
              "32317006071311007300714876688669951960444102669715484032130345427524655138867890893197201411522913463688717960921898019494119559150490921095088152386448283120630877367300996091750197750389652106796057638384067568276792218642619756161838094338476170470581645852036305042887575891541065808607552399123930385521914333389668342420684974786564569494856176035326322058077805659331026192708460314150258592864177116725943603718461857357598351152301645904403697613233287231227125684710820209725157101726931323469678542580656697935045997268352998638215525166389437335543602135433229604645318478604952148193555853611059596230656"
            ]
          },
          "metadata": {
            "tags": []
          },
          "execution_count": 7
        }
      ]
    },
    {
      "cell_type": "code",
      "metadata": {
        "colab": {
          "base_uri": "https://localhost:8080/"
        },
        "id": "vDyReeZNecKo",
        "outputId": "5714db2a-c339-4b31-aa21-0a44f3f62131"
      },
      "source": [
        "256**2"
      ],
      "execution_count": null,
      "outputs": [
        {
          "output_type": "execute_result",
          "data": {
            "text/plain": [
              "65536"
            ]
          },
          "metadata": {
            "tags": []
          },
          "execution_count": 8
        }
      ]
    },
    {
      "cell_type": "code",
      "metadata": {
        "colab": {
          "base_uri": "https://localhost:8080/"
        },
        "id": "6K_Un6-Gehox",
        "outputId": "0e1b764b-7166-472e-b9cc-acedb9810e4f"
      },
      "source": [
        "12**3"
      ],
      "execution_count": null,
      "outputs": [
        {
          "output_type": "execute_result",
          "data": {
            "text/plain": [
              "1728"
            ]
          },
          "metadata": {
            "tags": []
          },
          "execution_count": 9
        }
      ]
    },
    {
      "cell_type": "code",
      "metadata": {
        "colab": {
          "base_uri": "https://localhost:8080/"
        },
        "id": "vY5dG3KBenrw",
        "outputId": "208af460-eae1-4561-de06-7ede6c2d2030"
      },
      "source": [
        "#Exercise 4(BODMAS)\n",
        "2+3*4/5"
      ],
      "execution_count": null,
      "outputs": [
        {
          "output_type": "execute_result",
          "data": {
            "text/plain": [
              "4.4"
            ]
          },
          "metadata": {
            "tags": []
          },
          "execution_count": 12
        }
      ]
    },
    {
      "cell_type": "code",
      "metadata": {
        "colab": {
          "base_uri": "https://localhost:8080/"
        },
        "id": "J0kX9GAvfDh9",
        "outputId": "dc3fc8e6-41cc-4e3f-ae4a-52e73587fccf"
      },
      "source": [
        "#Exercise 5 calculator\n",
        "a=int(input(\"enter your first number,\"))\n",
        "b=int(input(\"enter your Second number,\"))\n",
        "c=int(input(\"enter your third number,\"))\n",
        "d=int(input(\"enter your forth number,\"))\n",
        "e=a+b*c/d\n",
        "print(e)"
      ],
      "execution_count": null,
      "outputs": [
        {
          "output_type": "stream",
          "text": [
            "enter your first number,14\n",
            "enter your Second number,25\n",
            "enter your third number,75\n",
            "enter your forth number,100\n",
            "32.75\n"
          ],
          "name": "stdout"
        }
      ]
    },
    {
      "cell_type": "code",
      "metadata": {
        "colab": {
          "base_uri": "https://localhost:8080/"
        },
        "id": "va8Ge0Fcr6-g",
        "outputId": "ccb3eeee-7c3b-41e9-e87d-c1d694e85349"
      },
      "source": [
        "import numpy as np\n",
        "array_1 = [1, 2, 3, 5, 4, 6, 7, 8, 5, 3, 2]\n",
        "print(array_1[2:-3])"
      ],
      "execution_count": null,
      "outputs": [
        {
          "output_type": "stream",
          "text": [
            "[3, 5, 4, 6, 7, 8]\n"
          ],
          "name": "stdout"
        }
      ]
    },
    {
      "cell_type": "code",
      "metadata": {
        "colab": {
          "base_uri": "https://localhost:8080/"
        },
        "id": "hv95ZUe2sU8b",
        "outputId": "475bb195-2131-4faf-94db-0b9bd9838ed5"
      },
      "source": [
        "array_1 = [1, 2, 3, 5, 4, 6, 7, 8, 5, 3, 2]\n",
        "print(array_1[ : : -2])"
      ],
      "execution_count": null,
      "outputs": [
        {
          "output_type": "stream",
          "text": [
            "[2, 5, 7, 4, 3, 1]\n"
          ],
          "name": "stdout"
        }
      ]
    },
    {
      "cell_type": "code",
      "metadata": {
        "id": "DZ36yrW0eVa4",
        "colab": {
          "base_uri": "https://localhost:8080/"
        },
        "outputId": "178d80a9-810c-46a6-d268-ddff9d10a729"
      },
      "source": [
        "d = {'Python':40, 'R':45}\n",
        "print(list(d.keys()))"
      ],
      "execution_count": null,
      "outputs": [
        {
          "output_type": "stream",
          "text": [
            "['Python', 'R']\n"
          ],
          "name": "stdout"
        }
      ]
    },
    {
      "cell_type": "code",
      "metadata": {
        "colab": {
          "base_uri": "https://localhost:8080/"
        },
        "id": "-CfxeT2NgsOF",
        "outputId": "1a008046-38c2-46fc-844c-d7ec4786d3b5"
      },
      "source": [
        "#Exercise 6(predictive model- odd/even)\n",
        "x=int(input(\"Enter your number,\"))\n",
        "if x%2==0:\n",
        "  print(\"your number is Even.\")\n",
        "else:\n",
        "  print(\"your number is Odd\") "
      ],
      "execution_count": null,
      "outputs": [
        {
          "output_type": "stream",
          "text": [
            "Enter your number,44\n",
            "your number is Even.\n"
          ],
          "name": "stdout"
        }
      ]
    },
    {
      "cell_type": "code",
      "metadata": {
        "id": "hp8_olesh442",
        "colab": {
          "base_uri": "https://localhost:8080/"
        },
        "outputId": "459360a8-2c51-43df-f81d-4858f434784b"
      },
      "source": [
        "t = (1, 2, 4, 3)\n",
        "print(len(t))"
      ],
      "execution_count": null,
      "outputs": [
        {
          "output_type": "stream",
          "text": [
            "4\n"
          ],
          "name": "stdout"
        }
      ]
    },
    {
      "cell_type": "code",
      "metadata": {
        "colab": {
          "base_uri": "https://localhost:8080/"
        },
        "id": "RbMWCsctllmW",
        "outputId": "27d39d5e-cb15-45d0-d88a-1e56ec89b114"
      },
      "source": [
        "input_tuple = ('Monty Python', 'British', 1969)\n",
        "input_tuple\n",
        "l= list(input_tuple)\n",
        "l.insert(3, \"python\")\n",
        "l\n",
        "tuple_2 = (* l,)\n",
        "tuple_2"
      ],
      "execution_count": null,
      "outputs": [
        {
          "output_type": "execute_result",
          "data": {
            "text/plain": [
              "('Monty Python', 'British', 1969, 'python')"
            ]
          },
          "metadata": {
            "tags": []
          },
          "execution_count": 20
        }
      ]
    },
    {
      "cell_type": "code",
      "metadata": {
        "colab": {
          "base_uri": "https://localhost:8080/"
        },
        "id": "nxBlzJaRml7m",
        "outputId": "9e6834c0-7969-4f68-c244-baea4c029103"
      },
      "source": [
        "import ast,sys\n",
        "input_str = input( 'Kumar_Ravi_003\\n')\n",
        "input_str = sys.stdin.read()\n",
        "splits = input_str.split('_')\n",
        "if len(splits) >= 3: \n",
        " first_name = splits[1]#write your answer here\n",
        " second_name = splits[0]#write your answer here\n",
        " customer_code = splits[2]#write your answer here\n",
        " print(first_name)\n",
        " print(second_name)\n",
        " print(customer_code)\n",
        "else:\n",
        "    print('Error in input')\n"
      ],
      "execution_count": null,
      "outputs": [
        {
          "output_type": "stream",
          "text": [
            "Kumar_Ravi_003\n",
            "Kumar_Ravi_003\n",
            "Error in input\n"
          ],
          "name": "stdout"
        }
      ]
    },
    {
      "cell_type": "code",
      "metadata": {
        "colab": {
          "base_uri": "https://localhost:8080/"
        },
        "id": "uvHSpxfd1itJ",
        "outputId": "ac307bff-2dba-4147-87fb-3230419b8f5e"
      },
      "source": [
        "input_str = input('Enter the lastname_firstname_customercode: ')\n",
        "splits = input_str.split('_')\n",
        "if len(splits) >= 3: \n",
        "   data = {'first_name': splits[1],\n",
        "           'second_name': splits[0], \n",
        "           'customer_code': splits[2]}\n",
        "   print(data)\n",
        "else:\n",
        "    print(\"Can you enter the correct details\")"
      ],
      "execution_count": null,
      "outputs": [
        {
          "output_type": "stream",
          "text": [
            "Enter the lastname_firstname_customercode: Kumar_Ravi_003\n",
            "{'first_name': 'Ravi', 'second_name': 'Kumar', 'customer_code': '003'}\n"
          ],
          "name": "stdout"
        }
      ]
    },
    {
      "cell_type": "code",
      "metadata": {
        "colab": {
          "base_uri": "https://localhost:8080/",
          "height": 265
        },
        "id": "OqwwPaHo2wck",
        "outputId": "46483797-f6de-47d8-d760-6cc8fadbc525"
      },
      "source": [
        "import ast,sys\n",
        "input_str = input( 'Kumar_Ravi_003\\n')\n",
        "input_str = sys.stdin.read()\n",
        "first_name = input_str.split(\"_\")[1]\n",
        "\n",
        "second_name = input_str.split(\"_\")[0]\n",
        "\n",
        "customer_code = input_str.split(\"_\")[2]\n",
        "print(first_name)\n",
        "print(second_name)\n",
        "print(customer_code)"
      ],
      "execution_count": null,
      "outputs": [
        {
          "output_type": "stream",
          "text": [
            "Kumar_Ravi_003\n",
            "kumar\n"
          ],
          "name": "stdout"
        },
        {
          "output_type": "error",
          "ename": "IndexError",
          "evalue": "ignored",
          "traceback": [
            "\u001b[0;31m---------------------------------------------------------------------------\u001b[0m",
            "\u001b[0;31mIndexError\u001b[0m                                Traceback (most recent call last)",
            "\u001b[0;32m<ipython-input-37-9bfde4f5f0a5>\u001b[0m in \u001b[0;36m<module>\u001b[0;34m()\u001b[0m\n\u001b[1;32m      2\u001b[0m \u001b[0minput_str\u001b[0m \u001b[0;34m=\u001b[0m \u001b[0minput\u001b[0m\u001b[0;34m(\u001b[0m \u001b[0;34m'Kumar_Ravi_003\\n'\u001b[0m\u001b[0;34m)\u001b[0m\u001b[0;34m\u001b[0m\u001b[0;34m\u001b[0m\u001b[0m\n\u001b[1;32m      3\u001b[0m \u001b[0minput_str\u001b[0m \u001b[0;34m=\u001b[0m \u001b[0msys\u001b[0m\u001b[0;34m.\u001b[0m\u001b[0mstdin\u001b[0m\u001b[0;34m.\u001b[0m\u001b[0mread\u001b[0m\u001b[0;34m(\u001b[0m\u001b[0;34m)\u001b[0m\u001b[0;34m\u001b[0m\u001b[0;34m\u001b[0m\u001b[0m\n\u001b[0;32m----> 4\u001b[0;31m \u001b[0mfirst_name\u001b[0m \u001b[0;34m=\u001b[0m \u001b[0minput_str\u001b[0m\u001b[0;34m.\u001b[0m\u001b[0msplit\u001b[0m\u001b[0;34m(\u001b[0m\u001b[0;34m\"_\"\u001b[0m\u001b[0;34m)\u001b[0m\u001b[0;34m[\u001b[0m\u001b[0;36m1\u001b[0m\u001b[0;34m]\u001b[0m\u001b[0;34m\u001b[0m\u001b[0;34m\u001b[0m\u001b[0m\n\u001b[0m\u001b[1;32m      5\u001b[0m \u001b[0;34m\u001b[0m\u001b[0m\n\u001b[1;32m      6\u001b[0m \u001b[0msecond_name\u001b[0m \u001b[0;34m=\u001b[0m \u001b[0minput_str\u001b[0m\u001b[0;34m.\u001b[0m\u001b[0msplit\u001b[0m\u001b[0;34m(\u001b[0m\u001b[0;34m\"_\"\u001b[0m\u001b[0;34m)\u001b[0m\u001b[0;34m[\u001b[0m\u001b[0;36m0\u001b[0m\u001b[0;34m]\u001b[0m\u001b[0;34m\u001b[0m\u001b[0;34m\u001b[0m\u001b[0m\n",
            "\u001b[0;31mIndexError\u001b[0m: list index out of range"
          ]
        }
      ]
    },
    {
      "cell_type": "code",
      "metadata": {
        "colab": {
          "base_uri": "https://localhost:8080/"
        },
        "id": "Cfmxu_owm8JA",
        "outputId": "90c83850-3499-451b-84c7-766eb5ee089b"
      },
      "source": [
        "from collections import OrderedDict \n",
        "  \n",
        "dict = {'ravi':'10','rajnish':'9','sanjeev':'15','yash':'2','suraj':'32'} \n",
        "dict1 = OrderedDict(sorted(dict.items())) \n",
        "print(dict1)"
      ],
      "execution_count": null,
      "outputs": [
        {
          "output_type": "stream",
          "text": [
            "OrderedDict([('rajnish', '9'), ('ravi', '10'), ('sanjeev', '15'), ('suraj', '32'), ('yash', '2')])\n"
          ],
          "name": "stdout"
        }
      ]
    },
    {
      "cell_type": "code",
      "metadata": {
        "colab": {
          "base_uri": "https://localhost:8080/"
        },
        "id": "pgdKIVxM9qFS",
        "outputId": "23ab70f3-0691-49e6-8dc4-fdc546641c0f"
      },
      "source": [
        "sentence = ['this','is','a','sentence']\n",
        "sent_str = \"\"\n",
        "for i in sentence:\n",
        "    sent_str += str(i) + \"-\"\n",
        "sent_str = sent_str[:-1]\n",
        "print(sent_str)"
      ],
      "execution_count": null,
      "outputs": [
        {
          "output_type": "stream",
          "text": [
            "this-is-a-sentence\n"
          ],
          "name": "stdout"
        }
      ]
    },
    {
      "cell_type": "code",
      "metadata": {
        "colab": {
          "base_uri": "https://localhost:8080/"
        },
        "id": "unuGR__iEv2O",
        "outputId": "711dafbb-6b03-4cb9-d414-7e96b39d3435"
      },
      "source": [
        "colors1 = [\"red\", \"blue\"]\n",
        "colors2 = [\"purple\", \"silver\"]\n",
        "concatenated = colors1 + colors2\n",
        "concatenated"
      ],
      "execution_count": null,
      "outputs": [
        {
          "output_type": "execute_result",
          "data": {
            "text/plain": [
              "['red', 'blue', 'purple', 'silver']"
            ]
          },
          "metadata": {
            "tags": []
          },
          "execution_count": 43
        }
      ]
    },
    {
      "cell_type": "code",
      "metadata": {
        "colab": {
          "base_uri": "https://localhost:8080/"
        },
        "id": "sywwu6r7G73E",
        "outputId": "7535f97b-c838-48e7-b065-497c701da2de"
      },
      "source": [
        "# Python program to convert a list to string \n",
        "    \n",
        "# Function to convert   \n",
        "def listToString(s):  \n",
        "    \n",
        "    # initialize an empty string \n",
        "    str1 = \"\"  \n",
        "    \n",
        "    # traverse in the string   \n",
        "    for ele in s:  \n",
        "        str1 += ele   \n",
        "    \n",
        "    # return string   \n",
        "    return str1  \n",
        "        \n",
        "        \n",
        "# Driver code     \n",
        "s = ['Geeks', 'for', 'Geeks'] \n",
        "print((s)) "
      ],
      "execution_count": null,
      "outputs": [
        {
          "output_type": "stream",
          "text": [
            "GeeksforGeeks\n"
          ],
          "name": "stdout"
        }
      ]
    },
    {
      "cell_type": "code",
      "metadata": {
        "id": "CMZW6tECOfSg",
        "colab": {
          "base_uri": "https://localhost:8080/",
          "height": 35
        },
        "outputId": "cb80c0fc-d00d-4d94-c7c2-daf2f02725f7"
      },
      "source": [
        "input_list =  [['SAS','R'],['Tableau','SQL'],['Python','Java']]\n",
        "input_list[2][0]"
      ],
      "execution_count": null,
      "outputs": [
        {
          "output_type": "execute_result",
          "data": {
            "application/vnd.google.colaboratory.intrinsic+json": {
              "type": "string"
            },
            "text/plain": [
              "'Python'"
            ]
          },
          "metadata": {
            "tags": []
          },
          "execution_count": 46
        }
      ]
    },
    {
      "cell_type": "code",
      "metadata": {
        "colab": {
          "base_uri": "https://localhost:8080/"
        },
        "id": "-qrosXZ_3iLU",
        "outputId": "086ff149-f09e-4928-bb12-39ac0db5d4e6"
      },
      "source": [
        "word = ['1','2','3','4']\n",
        "word[ : ] = [ ] \n",
        "print(word)"
      ],
      "execution_count": null,
      "outputs": [
        {
          "output_type": "stream",
          "text": [
            "[]\n"
          ],
          "name": "stdout"
        }
      ]
    },
    {
      "cell_type": "code",
      "metadata": {
        "colab": {
          "base_uri": "https://localhost:8080/"
        },
        "id": "5y-Pl96f3nim",
        "outputId": "6ad137d3-f2a0-4190-992b-caea0c45f12b"
      },
      "source": [
        "L = ['one','two','three', 'four', 'five', 'six']\n",
        "print(sorted(L))\n",
        "print (L)"
      ],
      "execution_count": null,
      "outputs": [
        {
          "output_type": "stream",
          "text": [
            "['five', 'four', 'one', 'six', 'three', 'two']\n",
            "['one', 'two', 'three', 'four', 'five', 'six']\n"
          ],
          "name": "stdout"
        }
      ]
    },
    {
      "cell_type": "markdown",
      "metadata": {
        "id": "IoSYkH0kmh_E"
      },
      "source": [
        ""
      ]
    },
    {
      "cell_type": "markdown",
      "metadata": {
        "id": "-flZjgazmiOd"
      },
      "source": [
        "Add the element ‘Python’ to a tuple input_tuple = ('Monty Python', 'British', 1969). Since tuples are immutable, one way to do this is to convert the tuple to a list, add the element, and convert it back to a tuple.\n",
        "Sample Input:\n",
        "\n",
        "('Monty Python', 'British', 1969)\n",
        "\n",
        "\n",
        "\n",
        "Sample Output:\n",
        "\n",
        "﻿('Monty Python', 'British', 1969, 'Python')"
      ]
    }
  ]
}