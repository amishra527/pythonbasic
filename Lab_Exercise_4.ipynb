{
  "nbformat": 4,
  "nbformat_minor": 0,
  "metadata": {
    "colab": {
      "name": "Lab Exercise 4.ipynb",
      "provenance": [],
      "authorship_tag": "ABX9TyMS61MWmltEwA8CGZFClIHp"
    },
    "kernelspec": {
      "name": "python3",
      "display_name": "Python 3"
    },
    "language_info": {
      "name": "python"
    }
  },
  "cells": [
    {
      "cell_type": "markdown",
      "metadata": {
        "id": "LubhyNB6viKN"
      },
      "source": [
        "Q1: Write a Program to make a simple calculator that can add, subtract, multiply and divide using functions "
      ]
    },
    {
      "cell_type": "code",
      "metadata": {
        "colab": {
          "base_uri": "https://localhost:8080/"
        },
        "id": "t2FFK3fhwdtC",
        "outputId": "2f834fcd-93e7-4290-ea7d-d7db83499051"
      },
      "source": [
        "\n",
        "def add(x, y):\n",
        "    return x + y\n",
        "\n",
        "def subtract(x, y):\n",
        "    return x - y\n",
        "\n",
        "def multiply(x, y):\n",
        "    return x * y\n",
        "\n",
        "def divide(x, y):\n",
        "    return x / y\n",
        "\n",
        "print(\"Select operation.\")\n",
        "print(\"1.Add\")\n",
        "print(\"2.Subtract\")\n",
        "print(\"3.Multiply\")\n",
        "print(\"4.Divide\")\n",
        "c = input(\"Enter choice(1/2/3/4): \")\n",
        "if c in ('1', '2', '3', '4'):\n",
        "        num1 = float(input(\"Enter first number: \"))\n",
        "        num2 = float(input(\"Enter second number: \"))\n",
        "\n",
        "        if c == '1':\n",
        "            print(num1, \"+\", num2, \"=\", add(num1, num2))\n",
        "\n",
        "        elif c == '2':\n",
        "            print(num1, \"-\", num2, \"=\", subtract(num1, num2))\n",
        "\n",
        "        elif c == '3':\n",
        "            print(num1, \"*\", num2, \"=\", multiply(num1, num2))\n",
        "\n",
        "        elif c == '4':\n",
        "            print(num1, \"/\", num2, \"=\", divide(num1, num2))\n",
        "else:\n",
        "        print(\"Invalid Input\")\n"
      ],
      "execution_count": null,
      "outputs": [
        {
          "output_type": "stream",
          "text": [
            "Select operation.\n",
            "1.Add\n",
            "2.Subtract\n",
            "3.Multiply\n",
            "4.Divide\n",
            "Enter choice(1/2/3/4): 3\n",
            "Enter first number: 4\n",
            "Enter second number: 4\n",
            "4.0 * 4.0 = 16.0\n"
          ],
          "name": "stdout"
        }
      ]
    },
    {
      "cell_type": "code",
      "metadata": {
        "id": "F90BP2lvzzcC"
      },
      "source": [
        "\"\"\" Question \n",
        "def calculate():\n",
        "  print(\"+\")\n",
        "  print(\"-\")\n",
        "  print(\"*\")\n",
        "  print(\"/\")\n",
        "  operation = input(\"Select an operator:n\")\n",
        "  print(\"Enter two numbers\")\n",
        "  number_1 = int(input())\n",
        "  number_2 = int(input())\n",
        "\n",
        "  if operation == '+': \n",
        "    print(number_1 + number_2)\n",
        "\n",
        "  elif operation == '-': \n",
        "    print(number_1 - number_2)\n",
        "\n",
        "  elif operation == '*': \n",
        "    print(number_1 * number_2)\n",
        "\n",
        "  elif operation == '/':\n",
        "    print(number_1 / number_2)\n",
        "\n",
        "  else:\n",
        "    print('Invalid Input')\n",
        "\n",
        "calculate()\n",
        "\"\"\""
      ],
      "execution_count": null,
      "outputs": []
    },
    {
      "cell_type": "markdown",
      "metadata": {
        "id": "SB5uFysXweDn"
      },
      "source": [
        "Q2 : Write a Program to display the Fibonacci sequence up to n-th term where n is provided by the user"
      ]
    },
    {
      "cell_type": "code",
      "metadata": {
        "id": "pQtBwRpF8Lef"
      },
      "source": [
        "n = int(input(\"Enter the value of 'n': \"))\n",
        "a = 0\n",
        "b = 1\n",
        "sum = 0\n",
        "count = 1\n",
        "print(\"Fibonacci Series: \", end = \" \")\n",
        "while(count <= n):\n",
        "  print(sum, end = \" \")\n",
        "  count += 1\n",
        "  a = b\n",
        "  b = sum\n",
        "  sum = a + b"
      ],
      "execution_count": null,
      "outputs": []
    },
    {
      "cell_type": "code",
      "metadata": {
        "id": "po3kHOwY3f2T"
      },
      "source": [
        "def Fibonacci(n):\n",
        "    if n<0:\n",
        "        print(\"Incorrect input\")\n",
        "\n",
        "    elif n==1:\n",
        "        return 0\n",
        "\n",
        "    elif n==2:\n",
        "        return 1\n",
        "    else:\n",
        "        return Fibonacci(n-1)+Fibonacci(n-2)\n",
        "print(Fibonacci(9))"
      ],
      "execution_count": null,
      "outputs": []
    },
    {
      "cell_type": "code",
      "metadata": {
        "id": "UVzZzlNE31zr"
      },
      "source": [
        "\"\"\"Question\n",
        "nterms = int(input(\"How many terms? \"))\n",
        "n1, n2 = 0, 1\n",
        "count = 0\n",
        "\n",
        "if nterms <= 0:\n",
        "   print(\"Please enter a positive integer\")\n",
        "elif nterms == 1:\n",
        "   print(\"Fibonacci sequence upto\",nterms,\":\")\n",
        "   print(n1)\n",
        "else:\n",
        "   print(\"Fibonacci sequence:\")\n",
        "   while count < nterms:\n",
        "       print(n1)\n",
        "       nth = n1 + n2\n",
        "       n1 = n2\n",
        "       n2 = nth\n",
        "       count += 1\n",
        "\"\"\""
      ],
      "execution_count": null,
      "outputs": []
    },
    {
      "cell_type": "code",
      "metadata": {
        "id": "5JBZYpxFwgOG"
      },
      "source": [
        "\"\"\" Question\n",
        "def recur_fibo(n):\n",
        "   if n <= 1:\n",
        "       return n\n",
        "   else:\n",
        "       return(recur_fibo(n-1) + recur_fibo(n-2))\n",
        "\n",
        "nterms = 10\n",
        "\n",
        "# check if the number of terms is valid\n",
        "if nterms <= 0:\n",
        "   print(\"Plese enter a positive integer\")\n",
        "else:\n",
        "   print(\"Fibonacci sequence:\")\n",
        "   for i in range(nterms):\n",
        "       print(recur_fibo(i))\n",
        "\"\"\""
      ],
      "execution_count": null,
      "outputs": []
    },
    {
      "cell_type": "markdown",
      "metadata": {
        "id": "-qzkr4IBwgcI"
      },
      "source": [
        "Q3: Write a Python Program To Display Powers of 2 Using Anonymous Function  \n",
        "(lambda function). Take number of terms from user\n"
      ]
    },
    {
      "cell_type": "code",
      "metadata": {
        "colab": {
          "base_uri": "https://localhost:8080/"
        },
        "id": "AY80ktGGwjTb",
        "outputId": "d882ca22-90c6-420e-c685-0ddbdee52f66"
      },
      "source": [
        "\"\"\"\n",
        "from functools import reduce\n",
        "fib = lambda n: reduce(lambda x, _: x+[x[-1]+x[-2]], range(n-2), [0, 1])\n",
        "print(fib(5))\n",
        "\"\"\""
      ],
      "execution_count": null,
      "outputs": [
        {
          "output_type": "stream",
          "text": [
            "[0, 1, 1, 2, 3]\n"
          ],
          "name": "stdout"
        }
      ]
    },
    {
      "cell_type": "code",
      "metadata": {
        "id": "c0l7xWPX7NBl"
      },
      "source": [
        "def fibonacci(count):\n",
        "    fib_list = [0, 1]\n",
        "    any(map(lambda _: fib_list.append(sum(fib_list[-2:])), range(2, count)))\n",
        "    return fib_list[:count]\n",
        "print(fibonacci(10))"
      ],
      "execution_count": null,
      "outputs": []
    },
    {
      "cell_type": "markdown",
      "metadata": {
        "id": "c4JTcwopwjkM"
      },
      "source": [
        "Q4: Write a Python Program to find numbers divisible by thirteen from a list using anonymous function"
      ]
    },
    {
      "cell_type": "code",
      "metadata": {
        "colab": {
          "base_uri": "https://localhost:8080/"
        },
        "id": "OjPyAYXMwmPh",
        "outputId": "87e8f9bc-4b10-40de-8d02-fa14dd6ece3c"
      },
      "source": [
        "num_list = [45, 55, 65, 39, 130, 117, 220]\n",
        "result = list(filter(lambda x: (x % 13 == 0), num_list))\n",
        "print(\"Numbers divisible by 13 are\",result)"
      ],
      "execution_count": null,
      "outputs": [
        {
          "output_type": "stream",
          "text": [
            "Numbers divisible by 13 are [65, 39, 130, 117]\n"
          ],
          "name": "stdout"
        }
      ]
    },
    {
      "cell_type": "markdown",
      "metadata": {
        "id": "Gjb35BJZwmiv"
      },
      "source": [
        "Q5: Write a Python program to display the Fibonacci sequence up to n-th term by using recursive functions"
      ]
    },
    {
      "cell_type": "code",
      "metadata": {
        "colab": {
          "base_uri": "https://localhost:8080/"
        },
        "id": "1K4xMy2X-MdZ",
        "outputId": "ba3dfb6f-c07a-4df1-fbac-fe4c2eb624fb"
      },
      "source": [
        "def fsr(N):\n",
        "  if(N == 0):\n",
        "    return 0 \n",
        "  elif(N == 1):\n",
        "    return 1 \n",
        "  else:\n",
        "    return (fsr(N - 2) + fsr(N - 1))\n",
        "\n",
        "n = int(input(\"Enter the value of 'n': \"))\n",
        "print(\"Fibonacci Series:\", end = ' ')\n",
        "for n in range(0, n):\n",
        "  print(fsr(n), end = ' ')"
      ],
      "execution_count": null,
      "outputs": [
        {
          "output_type": "stream",
          "text": [
            "Enter the value of 'n': 4\n",
            "Fibonacci Series: 0 1 1 2 "
          ],
          "name": "stdout"
        }
      ]
    },
    {
      "cell_type": "code",
      "metadata": {
        "id": "4paQLpumwpPe"
      },
      "source": [
        "\"\"\"\n",
        "def recur_fibo(n):\n",
        "   if n <= 1:\n",
        "       return n\n",
        "   else:\n",
        "       return(recur_fibo(n-1) + recur_fibo(n-2))\n",
        "\n",
        "nterms = 10\n",
        "\n",
        "# check if the number of terms is valid\n",
        "if nterms <= 0:\n",
        "   print(\"Plese enter a positive integer\")\n",
        "else:\n",
        "   print(\"Fibonacci sequence:\")\n",
        "   for i in range(nterms):\n",
        "       print(recur_fibo(i))\n",
        "\"\"\""
      ],
      "execution_count": null,
      "outputs": []
    },
    {
      "cell_type": "markdown",
      "metadata": {
        "id": "8dsnPia9wpjD"
      },
      "source": [
        "Q6: Write a Python program to find the sum of natural numbers up to n using recursive function"
      ]
    },
    {
      "cell_type": "code",
      "metadata": {
        "id": "4Cj4LKgFwsKp"
      },
      "source": [
        "def s1(n):\n",
        "    if n<= 1:\n",
        "        return n\n",
        "    else:\n",
        "        return n+ s1(n-1)\n",
        "num=int(input(\"Enter a number: \"))\n",
        "if num < 0:\n",
        "    print(\"Enter a positive number\")\n",
        "else:\n",
        "    print(\"The sum is :\",s1(num))"
      ],
      "execution_count": null,
      "outputs": []
    },
    {
      "cell_type": "code",
      "metadata": {
        "id": "qN9wXk8n_7oP"
      },
      "source": [
        "def rsum(n):\n",
        "    if n <= 1:\n",
        "        return n\n",
        "    else:\n",
        "        return n + rsum(n-1)\n",
        "\n",
        "num = int(input(\"Enter a number: \"))\n",
        "ttl=rsum(num)\n",
        "print(\"The sum is\",ttl)"
      ],
      "execution_count": null,
      "outputs": []
    },
    {
      "cell_type": "markdown",
      "metadata": {
        "id": "culvOZmPwsXE"
      },
      "source": [
        "Q7: Write a Python program to convert decimal number into binary number using recursive function"
      ]
    },
    {
      "cell_type": "code",
      "metadata": {
        "id": "1dYa1C8Mwu9X"
      },
      "source": [
        "def dTob(n):\n",
        "    if n > 1:\n",
        "        dTob(n//2)\n",
        "    print(n % 2,end = '')\n",
        "\n",
        "num = int(input(\"Enter the Number: \"))\n",
        "print(num,\"in Binary is:\",end=\" \")\n",
        "dTob(num)"
      ],
      "execution_count": null,
      "outputs": []
    }
  ]
}