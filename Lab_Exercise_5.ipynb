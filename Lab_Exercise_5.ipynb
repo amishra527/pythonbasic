{
  "nbformat": 4,
  "nbformat_minor": 0,
  "metadata": {
    "colab": {
      "name": "Lab Exercise 5.ipynb",
      "provenance": [],
      "authorship_tag": "ABX9TyPM8qaaOnahabZ4kFGDHbFe"
    },
    "kernelspec": {
      "name": "python3",
      "display_name": "Python 3"
    },
    "language_info": {
      "name": "python"
    }
  },
  "cells": [
    {
      "cell_type": "markdown",
      "metadata": {
        "id": "VdzUCyM2zvou"
      },
      "source": [
        "Lab Exercises 5 (Based on Modules & Packages)\n",
        "1. Write a program that counts lines and characters in a file. With your favorite text editor, code a Python module called mymod.py, which exports three top-level names:\n",
        "\n",
        "  a) A countLines(name) function that reads an input file and counts the number of lines in it \n",
        "\n",
        "  b) A countChars(name) function that reads an input file and counts the number of characters in it \n",
        "\n",
        "  c) A test(name) function that calls both counting functions with a given input filename. \n",
        "\n",
        "  All three mymod functions should expect a filename string to be passed in.\n",
        "Now, test your module interactively, using import and name qualification to fetch your exports. \n"
      ]
    },
    {
      "cell_type": "code",
      "metadata": {
        "id": "4NTRpWoFyPNH"
      },
      "source": [
        "\n",
        "def countLines(name):\n",
        "    file = open(name, 'r')\n",
        "    return len(file.readlines())\n",
        "def countChars(name):\n",
        "    return len(open(name, 'r').read())\n",
        "def test(name):                               \n",
        "    return countLines(name), countChars(name)\n",
        "    "
      ],
      "execution_count": null,
      "outputs": []
    },
    {
      "cell_type": "code",
      "metadata": {
        "id": "guMJ_mmK6j1A"
      },
      "source": [
        "import mymod\n",
        "mymod.test('mymod.py')"
      ],
      "execution_count": null,
      "outputs": []
    },
    {
      "cell_type": "code",
      "metadata": {
        "id": "wNBFFfjhG-vE"
      },
      "source": [
        "filename=input(\"Enter the name of file\")\n",
        "f=open(filename)\n",
        "countchar=0\n",
        "countword=0\n",
        "countline=0\n",
        "f.seek(0)\n",
        "for i in f:\n",
        "  line=i.split(\"\\n\")\n",
        "  countline=countline+1\n",
        "word=i.split(\" \")\n",
        "countword=countword+len(word)\n",
        "char=i.split\n",
        "print(countline)\n",
        "print(countword)\n",
        "print(countchar)"
      ],
      "execution_count": null,
      "outputs": []
    },
    {
      "cell_type": "markdown",
      "metadata": {
        "id": "5UCpbSsm0FmS"
      },
      "source": [
        "2. Test your mymod module from Exercise 1 interactively, by using from to load the exports directly, first by name, then using the from* variant to fetch everything."
      ]
    },
    {
      "cell_type": "code",
      "metadata": {
        "id": "JtW3E1qq0IeU"
      },
      "source": [
        "def countLines(file):\n",
        "    file.seek(0)\n",
        "    return len(file.readlines(  ))\n",
        "\n",
        "def countChars(file): \n",
        "    file.seek(0)\n",
        "    return len(file.read(  ))\n",
        "\n",
        "def test(name):\n",
        "    file = open(name, 'r') \n",
        "    return countLines(file), countChars(file) "
      ],
      "execution_count": null,
      "outputs": []
    },
    {
      "cell_type": "code",
      "metadata": {
        "id": "t-sVQTuy_k_M"
      },
      "source": [
        "import mymod2\n",
        "mymod2.test(\"mymod2.py\")"
      ],
      "execution_count": null,
      "outputs": []
    },
    {
      "cell_type": "code",
      "metadata": {
        "id": "41rXbW-__sF8"
      },
      "source": [
        "from mymod import *\n",
        "countChars(\"mymod.py\")"
      ],
      "execution_count": null,
      "outputs": []
    },
    {
      "cell_type": "markdown",
      "metadata": {
        "id": "Trud3IgD0IqD"
      },
      "source": [
        "3.    Now, add a line in your mymod module that calls the test function automatically only when the module is run as a script, not when it is imported The line you add will probably test the value of __name__ for the string \"__main__\", as shown in this unit. Try running your module from the system command line; then, import the module and test its functions interactively. \n"
      ]
    },
    {
      "cell_type": "code",
      "metadata": {
        "id": "VfcFNWGe0LqS"
      },
      "source": [
        "def countLines(name):\n",
        "    file = open(name, 'r')\n",
        "    return len(file.readlines(  ))\n",
        "\n",
        "def countChars(name):\n",
        "    return len(open(name, 'r').read(  ))\n",
        "\n",
        "def test(name):                                  \n",
        "    return countLines(name), countChars(name)    \n",
        "\n",
        "if __name__ == '__main__':\n",
        "    print test('mymod.py')\n",
        "\n",
        "#% python mymod.py"
      ],
      "execution_count": null,
      "outputs": []
    },
    {
      "cell_type": "markdown",
      "metadata": {
        "id": "OsppdtAO0MAT"
      },
      "source": [
        "4.    Write a second module, myclient.py, which imports mymod and tests its functions; run myclient from the system command line. If myclient uses from to fetch from mymod, will mymod’s functions be accessible from the top level of myclient? What if it imports with import instead? Try coding both variations in myclient and test interactively, by importing myclient and inspecting its __dict__.\n"
      ]
    },
    {
      "cell_type": "code",
      "metadata": {
        "id": "yASlXqv50OmF"
      },
      "source": [
        "from mymod import countLines, countChars\n",
        "print countLines('mymod.py'), countChars('mymod.py')\n",
        "\n",
        "#% python myclient.py"
      ],
      "execution_count": null,
      "outputs": []
    },
    {
      "cell_type": "code",
      "metadata": {
        "id": "pZ9GOJjKAGdu"
      },
      "source": [
        "import myclient\n",
        "myclient.countLines(...)\n",
        "\n",
        "from myclient import countChars\n",
        "countChars(...)"
      ],
      "execution_count": null,
      "outputs": []
    },
    {
      "cell_type": "code",
      "metadata": {
        "id": "YJ4d8qCLAJKV"
      },
      "source": [
        "import myclient\n",
        "myclient.mymod.countLines(...)\n",
        "\n",
        "from myclient import mymod\n",
        "mymod.countChars(...)"
      ],
      "execution_count": null,
      "outputs": []
    },
    {
      "cell_type": "code",
      "metadata": {
        "id": "iG4DELphANtd"
      },
      "source": [
        "#File: mod1.py\n",
        "somename = 42\n",
        "\n",
        "#File: collector.py\n",
        "from mod1 import *       # Collect lots of names here.\n",
        "from mod2 import *       # from assigns to my names.\n",
        "from mod3 import *\n",
        "\n",
        "from collector import somename"
      ],
      "execution_count": null,
      "outputs": []
    },
    {
      "cell_type": "markdown",
      "metadata": {
        "id": "0x0jMP6h0Oyl"
      },
      "source": [
        "5.      Package imports. Finally, import your file from a package. Create a subdirectory called mypkg nested in a directory on your module import search path, move the mymod.py module file you created in exercises 1 or 3 into the new directory, and try to import it with a package import of the form: import mypkg.mymod."
      ]
    },
    {
      "cell_type": "code",
      "metadata": {
        "id": "fE5S7Agu0Sl8"
      },
      "source": [
        "C:\\python22> mkdir mypkg\n",
        "\n",
        "C:\\Python22> move mymod.py mypkg\\mymod.py\n",
        "\n",
        "C:\\Python22> edit mypkg\\__init__.py\n",
        "\n",
        "...coded a print statement...\n",
        "\n",
        "C:\\Python22> python\n",
        "\n",
        ">> import mypkg.mymod\n",
        "\n",
        "initializing mypkg\n",
        "\n",
        ">>> mypkg.mymod.countLines('mypkg\\mymod.py')\n",
        "13\n",
        "\n",
        ">>> from mypkg.mymod import countChars\n",
        "\n",
        ">>> countChars('mypkg\\mymod.py')"
      ],
      "execution_count": null,
      "outputs": []
    },
    {
      "cell_type": "markdown",
      "metadata": {
        "id": "f8KaDmM80S6X"
      },
      "source": [
        "6.   Experiment with module reloads: perform the tests in the changer.py example, changing the called function’s message and/or behavior repeatedly, without stopping the Python interpreter. Depending on your system, you might be able to edit changer in another window.\n"
      ]
    },
    {
      "cell_type": "code",
      "metadata": {
        "id": "iTZ0g7lI0Vqx"
      },
      "source": [
        ""
      ],
      "execution_count": null,
      "outputs": []
    }
  ]
}