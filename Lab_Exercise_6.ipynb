{
  "nbformat": 4,
  "nbformat_minor": 0,
  "metadata": {
    "colab": {
      "name": "Lab Exercise 6.ipynb",
      "provenance": [],
      "collapsed_sections": [],
      "authorship_tag": "ABX9TyPCoXkSwFhXsz3bHE3e8YNF"
    },
    "kernelspec": {
      "name": "python3",
      "display_name": "Python 3"
    },
    "language_info": {
      "name": "python"
    }
  },
  "cells": [
    {
      "cell_type": "markdown",
      "metadata": {
        "id": "cyld_Xn-VN7N"
      },
      "source": [
        "1. Write a program to prompt for a file name, and then read through the file line-by-line. \n",
        "\n",
        "  Note: the file name is Erle.txtand its content is,\n",
        "\n",
        "  Erle is the enabling technology for the\n",
        "\n",
        "  next generation of aerial and terrestrial\n",
        "\n",
        "  robots that will be used in cities solving\n",
        "\n",
        "  tasks such as surveillance, enviromental\n",
        "\n",
        "  monitoring or even providing aid at catastrophes.\n",
        "\n",
        "  Ensure you create the file.\n"
      ]
    },
    {
      "cell_type": "code",
      "metadata": {
        "id": "K3TPDIpE1YFR"
      },
      "source": [
        ""
      ],
      "execution_count": null,
      "outputs": []
    },
    {
      "cell_type": "markdown",
      "metadata": {
        "id": "HAuThU3lWA1W"
      },
      "source": [
        "2. Create a file called new_world.txt. First add a new line to the file:Welcome to robotics time.. And then print the content of new_world.txt"
      ]
    },
    {
      "cell_type": "code",
      "metadata": {
        "id": "x8-TKzMRWCCA"
      },
      "source": [
        ""
      ],
      "execution_count": null,
      "outputs": []
    },
    {
      "cell_type": "markdown",
      "metadata": {
        "id": "eMcHY7OLWCes"
      },
      "source": [
        "3. Write a Python program to read an entire text file."
      ]
    },
    {
      "cell_type": "code",
      "metadata": {
        "id": "z8YIURJGWEyC"
      },
      "source": [
        ""
      ],
      "execution_count": null,
      "outputs": []
    },
    {
      "cell_type": "markdown",
      "metadata": {
        "id": "OjOb-ZQC_0_H"
      },
      "source": [
        "4.  Write a Python program to read first n lines of a file."
      ]
    },
    {
      "cell_type": "code",
      "metadata": {
        "id": "pHTzd6eH__Vi"
      },
      "source": [
        ""
      ],
      "execution_count": null,
      "outputs": []
    },
    {
      "cell_type": "markdown",
      "metadata": {
        "id": "v2MpEgVC__i3"
      },
      "source": [
        "5. Write a Python program to append text to a file and display the text."
      ]
    },
    {
      "cell_type": "code",
      "metadata": {
        "id": "5Iu90XZlABrk"
      },
      "source": [
        ""
      ],
      "execution_count": null,
      "outputs": []
    },
    {
      "cell_type": "markdown",
      "metadata": {
        "id": "n4TvZrEQAB4I"
      },
      "source": [
        "6. Write a Python program to read a file line by line and store it into a list."
      ]
    },
    {
      "cell_type": "code",
      "metadata": {
        "id": "5BeGatMfADx1"
      },
      "source": [
        ""
      ],
      "execution_count": null,
      "outputs": []
    },
    {
      "cell_type": "markdown",
      "metadata": {
        "id": "sVEqKWzmAECF"
      },
      "source": [
        "7.  Write a program to print each line of a file in reverse order"
      ]
    },
    {
      "cell_type": "code",
      "metadata": {
        "id": "2XuasJ-hAGRd"
      },
      "source": [
        ""
      ],
      "execution_count": null,
      "outputs": []
    },
    {
      "cell_type": "markdown",
      "metadata": {
        "id": "xqxMXKHXAGqW"
      },
      "source": [
        "8. Write a Python program to write a list content to a file."
      ]
    },
    {
      "cell_type": "code",
      "metadata": {
        "id": "FyiSfSnLAIod"
      },
      "source": [
        ""
      ],
      "execution_count": null,
      "outputs": []
    },
    {
      "cell_type": "markdown",
      "metadata": {
        "id": "iCpehNLBAJA8"
      },
      "source": [
        "9. Write a program to compute the number of characters, words and lines in a file."
      ]
    },
    {
      "cell_type": "code",
      "metadata": {
        "id": "XYxy37QrALNV"
      },
      "source": [
        ""
      ],
      "execution_count": null,
      "outputs": []
    }
  ]
}