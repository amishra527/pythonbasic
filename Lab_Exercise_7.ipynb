{
  "nbformat": 4,
  "nbformat_minor": 0,
  "metadata": {
    "colab": {
      "name": "Lab Exercise 7.ipynb",
      "provenance": [],
      "authorship_tag": "ABX9TyO2H1uJmiOtvyw70AnrtMUa"
    },
    "kernelspec": {
      "name": "python3",
      "display_name": "Python 3"
    },
    "language_info": {
      "name": "python"
    }
  },
  "cells": [
    {
      "cell_type": "markdown",
      "metadata": {
        "id": "SPCjRT-OEe5m"
      },
      "source": [
        "Exercise 1: Subtract a week ( 7 days)  from a given date in Python"
      ]
    },
    {
      "cell_type": "code",
      "metadata": {
        "colab": {
          "base_uri": "https://localhost:8080/"
        },
        "id": "UzMZrSNmEdv4",
        "outputId": "3a348280-c721-4f77-f290-215a8016f70d"
      },
      "source": [
        "from datetime import date, timedelta\n",
        "dt = date.today() - timedelta(7)\n",
        "print('Current Date :',date.today())\n",
        "print('7 days before Current Date :',dt)"
      ],
      "execution_count": null,
      "outputs": [
        {
          "output_type": "stream",
          "text": [
            "Current Date : 2021-05-25\n",
            "7 days before Current Date : 2021-05-18\n"
          ],
          "name": "stdout"
        }
      ]
    },
    {
      "cell_type": "markdown",
      "metadata": {
        "id": "wUD5L6B2El50"
      },
      "source": [
        "Exercise 2: Add week ( 7 days) and 12 hours to a given date\n",
        "\n",
        "Given:\n",
        "\n",
        "# 2020-03-22 10:00:00\n",
        "\n",
        "given_date = datetime(2020, 3, 22, 10, 0, 0)\n",
        "\n",
        "Expected output:\n",
        "\n",
        "2020-03-29 22:00:00\n"
      ]
    },
    {
      "cell_type": "code",
      "metadata": {
        "colab": {
          "base_uri": "https://localhost:8080/"
        },
        "id": "O51edY54Eskl",
        "outputId": "e79ae771-725f-4c21-893b-08bc5ae8a1a6"
      },
      "source": [
        "from datetime import datetime, timedelta\n",
        "given_date = datetime(2020, 3, 22, 10, 00, 00)\n",
        "print(\"Given date\")\n",
        "print(given_date)\n",
        "days_to_add = 7\n",
        "res_date = given_date + timedelta(days=days_to_add, hours=12)\n",
        "print(\"New Date\")\n",
        "print(res_date)"
      ],
      "execution_count": null,
      "outputs": [
        {
          "output_type": "stream",
          "text": [
            "Given date\n",
            "2020-03-22 10:00:00\n",
            "New Date\n",
            "2020-03-29 22:00:00\n"
          ],
          "name": "stdout"
        }
      ]
    },
    {
      "cell_type": "markdown",
      "metadata": {
        "id": "TIYzQgyLEtc0"
      },
      "source": [
        "Exercise 3: Print ten dates, each two a week apart, starting from today, in the form YYYY-MM-DD."
      ]
    },
    {
      "cell_type": "code",
      "metadata": {
        "id": "uCmg_X9aSUit"
      },
      "source": [
        "import datetime\n",
        "dates = []\n",
        "now = datetime.datetime.today()\n",
        "for i in range(0, 10):\n",
        "     day = now.day + i\n",
        "     date = now.strftime('%Y-%m-' + str(day))\n",
        "     dates.append(date)\n",
        "     print(date)"
      ],
      "execution_count": null,
      "outputs": []
    },
    {
      "cell_type": "markdown",
      "metadata": {
        "id": "cQAiFHHPEv7s"
      },
      "source": [
        "Exercise 4: Print ten dates, each two a week apart, starting from today, in the form YYYY-MM-DD."
      ]
    },
    {
      "cell_type": "code",
      "metadata": {
        "id": "2IyD3z5SuIkR"
      },
      "source": [
        "import datetime\n",
        "dates = []\n",
        "now = datetime.datetime.today()\n",
        "for i in range(0, 10):\n",
        "     day = now.day + i\n",
        "     date = now.strftime('%Y-%m-' + str(day))\n",
        "     dates.append(date)\n",
        "     print(date)"
      ],
      "execution_count": null,
      "outputs": []
    },
    {
      "cell_type": "markdown",
      "metadata": {
        "id": "2twpDhzGEyNj"
      },
      "source": [
        "Exercise 5: Calculate number of days between two given dates\n",
        "\n",
        "Given:\n",
        "\n",
        "# 2020-02-25\n",
        "\n",
        "date_1 = datetime(2020, 2, 25)\n",
        "\n",
        "# 2020-09-17\n",
        "\n",
        "date_2 = datetime(2020, 9, 17)\n",
        "\n",
        "Expected output:\n",
        "\n",
        "205 days\n"
      ]
    },
    {
      "cell_type": "code",
      "metadata": {
        "colab": {
          "base_uri": "https://localhost:8080/"
        },
        "id": "pdR0iQSIE3wL",
        "outputId": "9559d6c5-de93-4647-d02c-eb0e10759e72"
      },
      "source": [
        "from datetime import datetime\n",
        "date_1 = datetime(2020, 2, 25).date()\n",
        "date_2 = datetime(2020, 9, 17).date()\n",
        "\n",
        "delta = None\n",
        "if date_1 > date_2:\n",
        "    print(\"date_1 is greater\")\n",
        "    delta = date_1 - date_2\n",
        "else:\n",
        "    print(\"date_2 is greater\")\n",
        "    delta = date_2 - date_1\n",
        "print(\"Difference is\", delta.days, \"days\")"
      ],
      "execution_count": null,
      "outputs": [
        {
          "output_type": "stream",
          "text": [
            "date_2 is greater\n",
            "Difference is 205 days\n"
          ],
          "name": "stdout"
        }
      ]
    },
    {
      "cell_type": "markdown",
      "metadata": {
        "id": "xH5Nwe59E4RW"
      },
      "source": [
        "Exercise 6:  Write a Python script to display the\n",
        "\n",
        "a) Current date and time\n",
        "\n",
        "b) Current year in full\n",
        "\n",
        "c) Month of year full name\n",
        "\n",
        "d) Weekday of the week\n",
        "\n",
        "e) Day of year\n",
        "\n",
        "f) Day of the month\n",
        "\n",
        "g) Day of week in full name\n"
      ]
    },
    {
      "cell_type": "code",
      "metadata": {
        "id": "Si7sZ5B2MiGM"
      },
      "source": [
        "import time\n",
        "import datetime\n",
        "print(\"Current date and time: \" , datetime.datetime.now())\n",
        "print(\"Current year: \", datetime.date.today().strftime(\"%Y\"))\n",
        "print(\"Month of year: \", datetime.date.today().strftime(\"%B\"))\n",
        "print(\"Week number of the year: \", datetime.date.today().strftime(\"%W\"))\n",
        "print(\"Weekday of the week: \", datetime.date.today().strftime(\"%w\"))\n",
        "print(\"Day of year: \", datetime.date.today().strftime(\"%j\"))\n",
        "print(\"Day of the month : \", datetime.date.today().strftime(\"%d\"))\n",
        "print(\"Day of week: \", datetime.date.today().strftime(\"%A\"))"
      ],
      "execution_count": null,
      "outputs": []
    },
    {
      "cell_type": "markdown",
      "metadata": {
        "id": "iQPQci2BFBlu"
      },
      "source": [
        "Exercise7: Write a Python program to display calendar of given month of the year."
      ]
    },
    {
      "cell_type": "code",
      "metadata": {
        "id": "Vy4P6PM3FEEl"
      },
      "source": [
        "import calendar  \n",
        "yy = int(input(\"Enter year: \"))  \n",
        "mm = int(input(\"Enter month: \"))  \n",
        "print(calendar.month(yy,mm))  "
      ],
      "execution_count": null,
      "outputs": []
    },
    {
      "cell_type": "code",
      "metadata": {
        "id": "tJrqfZcZtF66"
      },
      "source": [
        "import calendar\n",
        "a=int(input(\"Enter Year\"))\n",
        "b=int(input(\"Enter month\"))\n",
        "c=calendar.prmonth(a,b)\n",
        "print(c)"
      ],
      "execution_count": null,
      "outputs": []
    },
    {
      "cell_type": "markdown",
      "metadata": {
        "id": "3eUn8JcMFEVi"
      },
      "source": [
        "Exercise8: Python program to convert a string to datetime:\n",
        "\n",
        "          'Jul 1 2016  2:43AM' into 2016-07-01 02:43:00"
      ]
    },
    {
      "cell_type": "code",
      "metadata": {
        "id": "985A73z4FI54"
      },
      "source": [
        "from datetime import datetime\n",
        "date_object = datetime.strptime('may 25 2021 4:43PM', '%b %d %Y %I:%M%p')\n",
        "print(date_object)"
      ],
      "execution_count": null,
      "outputs": []
    },
    {
      "cell_type": "markdown",
      "metadata": {
        "id": "fiUN8MODFKq4"
      },
      "source": [
        "Exercise 9: Program to select all the Sundays of a specified year"
      ]
    },
    {
      "cell_type": "code",
      "metadata": {
        "id": "Ud2ycTc5FM2u"
      },
      "source": [
        "from datetime import date\n",
        "import calendar\n",
        "Year= 2021\n",
        "A=calendar.TextCalendar(calendar.SUNDAY)\n",
        "for b in range(1,13):\n",
        "    for k in A.itermonthdays(Year,b):\n",
        "        if k!=0:\n",
        "            day=date(Year,b,k)\n",
        "            if day.weekday()==6:\n",
        "                print(\"%s,%d-%d-%d\" % (calendar.day_name[6] ,k,b,Year))"
      ],
      "execution_count": null,
      "outputs": []
    },
    {
      "cell_type": "markdown",
      "metadata": {
        "id": "v4zo99wVFNIm"
      },
      "source": [
        "Exercise 10: Python program to convert Year/Month/Day to Day of Year."
      ]
    },
    {
      "cell_type": "code",
      "metadata": {
        "colab": {
          "base_uri": "https://localhost:8080/"
        },
        "id": "bJGnNDBQFOzO",
        "outputId": "30ea0bda-3247-4047-f474-83b5a525ef84"
      },
      "source": [
        "import datetime\n",
        "today = datetime.datetime.now()\n",
        "day_of_year = (today - datetime.datetime(today.year, 1, 1)).days + 1\n",
        "print(day_of_year)"
      ],
      "execution_count": null,
      "outputs": [
        {
          "output_type": "stream",
          "text": [
            "145\n"
          ],
          "name": "stdout"
        }
      ]
    }
  ]
}