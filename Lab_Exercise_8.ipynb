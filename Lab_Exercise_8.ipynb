{
  "nbformat": 4,
  "nbformat_minor": 0,
  "metadata": {
    "colab": {
      "name": "Lab Exercise 8.ipynb",
      "provenance": [],
      "authorship_tag": "ABX9TyMxE3WmsbkUIG44yurVy1u3"
    },
    "kernelspec": {
      "name": "python3",
      "display_name": "Python 3"
    },
    "language_info": {
      "name": "python"
    }
  },
  "cells": [
    {
      "cell_type": "markdown",
      "metadata": {
        "id": "Msuse97YgZsx"
      },
      "source": [
        "Q1: Follow the steps:\n",
        "\n",
        "Create a class, Triangle. Its __init__() method should take self, angle1, angle2, and angle3 as arguments. Make sure to set these appropriately in the body of the __init__()method.\n",
        "\n",
        "Create a variable named number_of_sides and set it equal to 3.\n",
        "\n",
        "Create a method named check_angles. The sum of a triangle's three angles is It should return True if the sum of self.angle1, self.angle2, and self.angle3 is equal 180, and False otherwise.\n",
        "\n",
        "Create a variable named my_triangle and set it equal to a new instance of your Triangle class. Pass it three angles that sum to 180 (e.g. 90, 30, 60).\n",
        "\n",
        "Print out my_triangle.number_of_sides and print out my_triangle.check_angles().\n",
        "\n",
        "\n",
        "\n",
        "\n"
      ]
    },
    {
      "cell_type": "code",
      "metadata": {
        "colab": {
          "base_uri": "https://localhost:8080/"
        },
        "id": "FMONit_kohqc",
        "outputId": "c6a023a5-fd8a-4fea-af88-e3c8525cde38"
      },
      "source": [
        "class Triangle(object):\n",
        "    def __init__(self,angle1,angle2,angle3):\n",
        "        self.angle1=angle1\n",
        "        self.angle2=angle2\n",
        "        self.angle3=angle3\n",
        "    number_of_sides=3\n",
        "    def check_angles(self):\n",
        "       if self.angle1+self.angle2+self.angle3 ==180:\n",
        "             return True\n",
        "       else:\n",
        "             return False\n",
        "class Equilateral(Triangle):\n",
        "  angle = 60\n",
        "  def __init__(self):\n",
        "        self.angle1 = self.angle2 = self.angle3 = self.angle\n",
        "\n",
        "my_triangle=Triangle(90,30,60)\n",
        "print(my_triangle.number_of_sides)\n",
        "print(my_triangle.check_angles())"
      ],
      "execution_count": null,
      "outputs": [
        {
          "output_type": "stream",
          "text": [
            "3\n",
            "True\n"
          ],
          "name": "stdout"
        }
      ]
    },
    {
      "cell_type": "markdown",
      "metadata": {
        "id": "8OhJJ4J7hIrB"
      },
      "source": [
        "Q2: Define a class called Songs, it will show the lyrics of a song. Its __init__() method should have two arguments:self and lyrics.lyricsis a list. Inside your class create a method called sing_me_a_song that prints each element of lyricson his own line. Define a varible:\n",
        "\n",
        "happy_bday = Song([\"May god bless you, \",\n",
        "\n",
        "                   \"Have a sunshine on you,\",\n",
        "\n",
        "                   \"Happy Birthday to you !\"])\n",
        "\n",
        "Call the sing_me_song method on this variable.\n"
      ]
    },
    {
      "cell_type": "code",
      "metadata": {
        "colab": {
          "base_uri": "https://localhost:8080/"
        },
        "id": "_zmhEZZDgZZb",
        "outputId": "5744a31d-8d40-429c-e5b5-3e1528a16c86"
      },
      "source": [
        "class Song(object):\n",
        "   def __init__(self, lyrics):\n",
        "      self.lyrics=lyrics\n",
        "   def sing_me_a_song(self):\n",
        "      for line in self.lyrics:\n",
        "           print(line)\n",
        "happy_bday = Song([\"May god bless you, \",\n",
        "                    \"Have a sunshine on you,\",\n",
        "                    \"Happy Birthday to you !\"])\n",
        "print(happy_bday.sing_me_a_song())"
      ],
      "execution_count": null,
      "outputs": [
        {
          "output_type": "stream",
          "text": [
            "May god bless you, \n",
            "Have a sunshine on you,\n",
            "Happy Birthday to you !\n",
            "None\n"
          ],
          "name": "stdout"
        }
      ]
    },
    {
      "cell_type": "markdown",
      "metadata": {
        "id": "b3yaLqPShX_c"
      },
      "source": [
        "Q 3: Define a class called Lunch.Its __init__() method should have two arguments:selfanf menu.Where menu is a string. Add a method called menu_price.It will involve a if statement:\n",
        "\n",
        "if \"menu 1\" print \"Your choice:\", menu, \"Price 12.00\", if \"menu 2\" print \"Your choice:\", menu, \"Price 13.40\", else print \"Error in menu\".\n",
        "\n",
        "To check if it works define: Paul=Lunch(\"menu 1\") and call Paul.menu_price().\n"
      ]
    },
    {
      "cell_type": "code",
      "metadata": {
        "colab": {
          "base_uri": "https://localhost:8080/"
        },
        "id": "Av1cAtaD9upV",
        "outputId": "9eb52c04-1bf4-49fd-b880-69f9cca1862e"
      },
      "source": [
        "class Lunch:\n",
        "    def __init__(self, menu):\n",
        "        self.menu = int(menu.strip()[-1])\n",
        "    def menu_price(self):\n",
        "        if (self.menu == 1):\n",
        "            print(\"Your choice:\", self.menu, \"Price 12.00\")\n",
        "        elif (self.menu == 2):\n",
        "            print(\"Your choice:\", self.menu, \"Price 13.40\")\n",
        "        else:\n",
        "            print(\"Error in menu.\")\n",
        "paul = Lunch(\"menu 1\")\n",
        "paul.menu_price()"
      ],
      "execution_count": null,
      "outputs": [
        {
          "output_type": "stream",
          "text": [
            "Your choice: 1 Price 12.00\n"
          ],
          "name": "stdout"
        }
      ]
    },
    {
      "cell_type": "markdown",
      "metadata": {
        "id": "GTWR_DWChgOj"
      },
      "source": [
        "Q 4: Define a Point3D class that inherits from object Inside the Point3D class, define an __init__() function that accepts self, x, y, and z, and assigns these numbers to the member variables self.x,self.y,self.z. \n",
        "\n",
        "Define a __repr__() method that returns \"(%d, %d, %d)\" % (self.x, self.y, self.z). \n",
        "\n",
        "This tells Python to represent this object in the following format: (x, y, z). \n",
        "\n",
        "Outside the class definition, create a variable named my_point containing a new instance of Point3D with x=1, y=2, and z=3. Finally, print my_point."
      ]
    },
    {
      "cell_type": "code",
      "metadata": {
        "colab": {
          "base_uri": "https://localhost:8080/"
        },
        "id": "2X4Zxdmnhr3c",
        "outputId": "fd33143b-45c2-4687-f5c5-82cbf7ca7e9b"
      },
      "source": [
        "class Point3D(object):\n",
        "    def __init__(self,x,y,z):\n",
        "        self.x=x\n",
        "        self.y=y\n",
        "        self.z=z\n",
        "\n",
        "    def __repr__(self) :\n",
        "       return \"(%d, %d, %d)\" % (self.x, self.y, self.z)\n",
        "\n",
        "\n",
        "\n",
        "my_point=Point3D(1,2,3)\n",
        "print(my_point)"
      ],
      "execution_count": null,
      "outputs": [
        {
          "output_type": "stream",
          "text": [
            "(1, 2, 3)\n"
          ],
          "name": "stdout"
        }
      ]
    },
    {
      "cell_type": "markdown",
      "metadata": {
        "id": "zpL4UTSYhsg-"
      },
      "source": [
        "Q5: Write a Python class to implement pow(x, n)"
      ]
    },
    {
      "cell_type": "code",
      "metadata": {
        "colab": {
          "base_uri": "https://localhost:8080/"
        },
        "id": "Pjg7XMlohvfG",
        "outputId": "28e8eead-447b-4d7d-bff9-c175e89974bb"
      },
      "source": [
        "class abc:\n",
        "    def f(x,y):\n",
        "        return pow(x,y)\n",
        "print(abc.f(2,3))"
      ],
      "execution_count": null,
      "outputs": [
        {
          "output_type": "stream",
          "text": [
            "8\n"
          ],
          "name": "stdout"
        }
      ]
    },
    {
      "cell_type": "markdown",
      "metadata": {
        "id": "iVIgw9h8hvwW"
      },
      "source": [
        "Q6: Write a Python class which has two methods get_String and print_String. get_String accept a string from the user and print_String print the string in upper case."
      ]
    },
    {
      "cell_type": "code",
      "metadata": {
        "colab": {
          "base_uri": "https://localhost:8080/"
        },
        "id": "bDQI_6FQhy62",
        "outputId": "d52cffb7-c0bb-4094-8e6d-229ca6a11f72"
      },
      "source": [
        "class IOString():\n",
        "    def __init__(self):\n",
        "        self.str1 = \"\"\n",
        "\n",
        "    def get_String(self):\n",
        "        self.str1 = input()\n",
        "\n",
        "    def print_String(self):\n",
        "        print(self.str1.upper())\n",
        "\n",
        "str1 = IOString()\n",
        "str1.get_String()\n",
        "str1.print_String()"
      ],
      "execution_count": null,
      "outputs": [
        {
          "output_type": "stream",
          "text": [
            "hi how are you ashu\n",
            "HI HOW ARE YOU ASHU\n"
          ],
          "name": "stdout"
        }
      ]
    },
    {
      "cell_type": "markdown",
      "metadata": {
        "id": "79g5qc6shzLg"
      },
      "source": [
        "Q7: Write a Python class to get all possible unique subsets from a set of distinct integers.\n",
        "\n",
        "Input : [4, 5, 6]\n",
        "\n",
        "Output : [ [ ], [6], [5], [5, 6], [4], [4, 6], [4, 5], [4, 5, 6] ]"
      ]
    },
    {
      "cell_type": "code",
      "metadata": {
        "colab": {
          "base_uri": "https://localhost:8080/"
        },
        "id": "Lh4F_-uRh80E",
        "outputId": "a63072fa-93de-4877-9a79-2dd9c9234db7"
      },
      "source": [
        "class py_solution:\n",
        "    def sub_sets(self, sset):\n",
        "        return self.subsetsRecur([], sorted(sset))\n",
        "    \n",
        "    def subsetsRecur(self, current, sset):\n",
        "        if sset:\n",
        "            return self.subsetsRecur(current, sset[1:]) + self.subsetsRecur(current + [sset[0]], sset[1:])\n",
        "        return [current]\n",
        "\n",
        "print(py_solution().sub_sets([4,5,6]))"
      ],
      "execution_count": null,
      "outputs": [
        {
          "output_type": "stream",
          "text": [
            "[[], [6], [5], [5, 6], [4], [4, 6], [4, 5], [4, 5, 6]]\n"
          ],
          "name": "stdout"
        }
      ]
    }
  ]
}