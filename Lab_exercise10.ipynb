{
  "nbformat": 4,
  "nbformat_minor": 0,
  "metadata": {
    "colab": {
      "name": "Lab exercise10.ipynb",
      "provenance": [],
      "collapsed_sections": [],
      "authorship_tag": "ABX9TyMQB5+YqgmDgObi9XbIW3Hm"
    },
    "kernelspec": {
      "name": "python3",
      "display_name": "Python 3"
    },
    "language_info": {
      "name": "python"
    }
  },
  "cells": [
    {
      "cell_type": "markdown",
      "metadata": {
        "id": "mSlW62m_Sane"
      },
      "source": [
        "Q1: Write a function to compute 5/0 and use try/except to catch the exceptions."
      ]
    },
    {
      "cell_type": "code",
      "metadata": {
        "colab": {
          "base_uri": "https://localhost:8080/"
        },
        "id": "ZtNBSK9cTrXn",
        "outputId": "e729a751-9536-453a-fd9d-71bc37fdda96"
      },
      "source": [
        "def divide():\n",
        "    return 5/0\n",
        "try:\n",
        "    divide()\n",
        "except ZeroDivisionError as ze:\n",
        "    print(\"Why on earth you are dividing a number by ZERO!!\")\n",
        "except:\n",
        "    print(\"Any other exception\")"
      ],
      "execution_count": null,
      "outputs": [
        {
          "output_type": "stream",
          "text": [
            "Why on earth you are dividing a number by ZERO!!\n"
          ],
          "name": "stdout"
        }
      ]
    },
    {
      "cell_type": "markdown",
      "metadata": {
        "id": "Rjj-gl_SSggb"
      },
      "source": [
        "Q2: Write a Python program to access the array element whose index is out of bound and handle the corresponding exception"
      ]
    },
    {
      "cell_type": "code",
      "metadata": {
        "id": "aK1XmUjkSoBm",
        "colab": {
          "base_uri": "https://localhost:8080/"
        },
        "outputId": "5ec48376-447e-466c-dcb6-f14d9ca684f5"
      },
      "source": [
        "try:\n",
        "    list = [1,2,3,5,6,7]\n",
        "    print(list[8])\n",
        "except IndexError as e:\n",
        "    print(e)\n",
        "print(\"index error\")"
      ],
      "execution_count": null,
      "outputs": [
        {
          "output_type": "stream",
          "text": [
            "list index out of range\n",
            "index error\n"
          ],
          "name": "stdout"
        }
      ]
    },
    {
      "cell_type": "code",
      "metadata": {
        "colab": {
          "base_uri": "https://localhost:8080/"
        },
        "id": "ywfDKKxQPp45",
        "outputId": "1c356d94-87e4-42a3-d381-5a766fcabebd"
      },
      "source": [
        "a = [1, 2, 3]\n",
        "try: \n",
        "    print(\"Second element = %d\" %(a[1]))\n",
        "\n",
        "    print(\"Fourth element = %d\" %(a[3]))\n",
        "  \n",
        "except IndexError:\n",
        "    print(\"An index is out of bound error occurred\")"
      ],
      "execution_count": null,
      "outputs": [
        {
          "output_type": "stream",
          "text": [
            "Second element = 2\n",
            "An index is out of bound error occurred\n"
          ],
          "name": "stdout"
        }
      ]
    },
    {
      "cell_type": "markdown",
      "metadata": {
        "id": "N_IR5IQBSoRU"
      },
      "source": [
        "Q 3: Write a Python  Program to handle multiple errors with one except statement"
      ]
    },
    {
      "cell_type": "code",
      "metadata": {
        "colab": {
          "base_uri": "https://localhost:8080/"
        },
        "id": "rZjO1p6nSp-R",
        "outputId": "0d4fd37b-3e58-4db5-ef45-9f9dccdc938e"
      },
      "source": [
        "try:\n",
        "    if (3 + 4 - 5) < 0:\n",
        "        a = 3\n",
        "        print(a + 5)  # simple addition\n",
        "    else:\n",
        "        print(\"hello\" + \"4\")  # string concatenation\n",
        "except (AttributeError, TypeError) as e:\n",
        "    print(\"Error occurred:\", e)\n",
        "finally:\n",
        "    print(\"try except block successfully executed\")"
      ],
      "execution_count": null,
      "outputs": [
        {
          "output_type": "stream",
          "text": [
            "hello4\n",
            "try except block successfully executed\n"
          ],
          "name": "stdout"
        }
      ]
    },
    {
      "cell_type": "markdown",
      "metadata": {
        "id": "Yf7hzuWWSqJH"
      },
      "source": [
        "Q 4: Write a Python Program to depict else clause with try-except"
      ]
    },
    {
      "cell_type": "code",
      "metadata": {
        "id": "kqN6uIJ8SsFB",
        "colab": {
          "base_uri": "https://localhost:8080/"
        },
        "outputId": "9aadc903-2efc-40cc-c76a-47e0f7d714ea"
      },
      "source": [
        "def divide(x, y):\n",
        "    try:\n",
        "        result = x // y\n",
        "    except ZeroDivisionError:\n",
        "        print(\"why are You dividing by zero \")\n",
        "    else:\n",
        "        print(\"wow Your answer is :\", result)\n",
        "divide(3, 2)\n",
        "divide(3, 0)"
      ],
      "execution_count": null,
      "outputs": [
        {
          "output_type": "stream",
          "text": [
            "wow Your answer is : 1\n",
            "why are You dividing by zero \n"
          ],
          "name": "stdout"
        }
      ]
    },
    {
      "cell_type": "markdown",
      "metadata": {
        "id": "tbgidOktSsPV"
      },
      "source": [
        "Q5: Write a Python Program to depict Raising Exception"
      ]
    },
    {
      "cell_type": "code",
      "metadata": {
        "id": "NlBXJafASvGu"
      },
      "source": [
        "x = -1\n",
        "if x < 0:\n",
        "  raise Exception(\"Sorry, no numbers below zero\")"
      ],
      "execution_count": null,
      "outputs": []
    },
    {
      "cell_type": "code",
      "metadata": {
        "id": "eYj93PWYQUwV"
      },
      "source": [
        "x = \"hello\"\n",
        "\n",
        "if not type(x) is int:\n",
        "  raise TypeError(\"Only integers are allowed\")"
      ],
      "execution_count": null,
      "outputs": []
    },
    {
      "cell_type": "markdown",
      "metadata": {
        "id": "yZSJPiRRSvSP"
      },
      "source": [
        "Q6: Write a python program to create user-defined exception"
      ]
    },
    {
      "cell_type": "code",
      "metadata": {
        "id": "6N6qeF8mSxCy",
        "colab": {
          "base_uri": "https://localhost:8080/"
        },
        "outputId": "40ff3914-59e6-4a24-ea3f-a897307ac848"
      },
      "source": [
        "class YourException(Exception):\n",
        "  def __init__(self, message, level):\n",
        "    self.message = message\n",
        "    self.level = level\n",
        " \n",
        "try:\n",
        "  raise YourException(\"what! did you do?\", \"Level 5 error\")\n",
        " \n",
        "except YourException as err:\n",
        "  print(\"Message:\", err.message)\n",
        "  print(\"Difficulty Level: \", err.level)"
      ],
      "execution_count": null,
      "outputs": [
        {
          "output_type": "stream",
          "text": [
            "Message: what! did you do?\n",
            "Difficulty Level:  Level 5 error\n"
          ],
          "name": "stdout"
        }
      ]
    },
    {
      "cell_type": "markdown",
      "metadata": {
        "id": "k9vAD162SxT5"
      },
      "source": [
        "Q7: Print one message if the try block raises a NameError and another for other errors:"
      ]
    },
    {
      "cell_type": "code",
      "metadata": {
        "id": "Rau8hmLgSzd4",
        "colab": {
          "base_uri": "https://localhost:8080/"
        },
        "outputId": "3139edfa-cb94-43f2-ae9c-1b3e71400531"
      },
      "source": [
        "name='Smith'\n",
        "try:\n",
        "  print(\"Hello\" \" \"+ name)\n",
        "except NameError:\n",
        "  print(\"Name is not denoted\")\n",
        "finally:\n",
        "  print(\"Have a nice day\")"
      ],
      "execution_count": null,
      "outputs": [
        {
          "output_type": "stream",
          "text": [
            "Hello Smith\n",
            "Have a nice day\n"
          ],
          "name": "stdout"
        }
      ]
    },
    {
      "cell_type": "markdown",
      "metadata": {
        "id": "VnnNniHbSzxN"
      },
      "source": [
        "Q8: Try to open and write to a file that is not writable:"
      ]
    },
    {
      "cell_type": "code",
      "metadata": {
        "id": "PpjQpTEZVjJ5",
        "colab": {
          "base_uri": "https://localhost:8080/",
          "height": 231
        },
        "outputId": "1190e537-136c-400b-8e8c-7a3d51ce2622"
      },
      "source": [
        "file = open(class_name , 'r')      \n",
        "name = (name)\n",
        "file.write(str(name + \" : \" ))\n",
        "file.write(str(score))\n",
        "file.write('\\n')\n",
        "lineList = file.readlines()\n",
        "for line in sorted(lineList):\n",
        "    print(line.rstrip());\n",
        "    file.close()"
      ],
      "execution_count": null,
      "outputs": [
        {
          "output_type": "error",
          "ename": "NameError",
          "evalue": "ignored",
          "traceback": [
            "\u001b[0;31m---------------------------------------------------------------------------\u001b[0m",
            "\u001b[0;31mNameError\u001b[0m                                 Traceback (most recent call last)",
            "\u001b[0;32m<ipython-input-2-e79fd9465ad9>\u001b[0m in \u001b[0;36m<module>\u001b[0;34m()\u001b[0m\n\u001b[0;32m----> 1\u001b[0;31m \u001b[0mfile\u001b[0m \u001b[0;34m=\u001b[0m \u001b[0mopen\u001b[0m\u001b[0;34m(\u001b[0m\u001b[0mclass_name\u001b[0m \u001b[0;34m,\u001b[0m \u001b[0;34m'r'\u001b[0m\u001b[0;34m)\u001b[0m       \u001b[0;31m#opens the file in 'append' mode so you don't delete all the information\u001b[0m\u001b[0;34m\u001b[0m\u001b[0;34m\u001b[0m\u001b[0m\n\u001b[0m\u001b[1;32m      2\u001b[0m \u001b[0mname\u001b[0m \u001b[0;34m=\u001b[0m \u001b[0;34m(\u001b[0m\u001b[0mname\u001b[0m\u001b[0;34m)\u001b[0m\u001b[0;34m\u001b[0m\u001b[0;34m\u001b[0m\u001b[0m\n\u001b[1;32m      3\u001b[0m \u001b[0mfile\u001b[0m\u001b[0;34m.\u001b[0m\u001b[0mwrite\u001b[0m\u001b[0;34m(\u001b[0m\u001b[0mstr\u001b[0m\u001b[0;34m(\u001b[0m\u001b[0mname\u001b[0m \u001b[0;34m+\u001b[0m \u001b[0;34m\" : \"\u001b[0m \u001b[0;34m)\u001b[0m\u001b[0;34m)\u001b[0m \u001b[0;31m#writes the information to the file\u001b[0m\u001b[0;34m\u001b[0m\u001b[0;34m\u001b[0m\u001b[0m\n\u001b[1;32m      4\u001b[0m \u001b[0mfile\u001b[0m\u001b[0;34m.\u001b[0m\u001b[0mwrite\u001b[0m\u001b[0;34m(\u001b[0m\u001b[0mstr\u001b[0m\u001b[0;34m(\u001b[0m\u001b[0mscore\u001b[0m\u001b[0;34m)\u001b[0m\u001b[0;34m)\u001b[0m\u001b[0;34m\u001b[0m\u001b[0;34m\u001b[0m\u001b[0m\n\u001b[1;32m      5\u001b[0m \u001b[0mfile\u001b[0m\u001b[0;34m.\u001b[0m\u001b[0mwrite\u001b[0m\u001b[0;34m(\u001b[0m\u001b[0;34m'\\n'\u001b[0m\u001b[0;34m)\u001b[0m\u001b[0;34m\u001b[0m\u001b[0;34m\u001b[0m\u001b[0m\n",
            "\u001b[0;31mNameError\u001b[0m: name 'class_name' is not defined"
          ]
        }
      ]
    },
    {
      "cell_type": "markdown",
      "metadata": {
        "id": "XGDyGKFfS1xf"
      },
      "source": [
        "Q9: Write a python program to raise an error and stop the program if x is lower than 0."
      ]
    },
    {
      "cell_type": "code",
      "metadata": {
        "id": "7F41Sx-bS3ty",
        "colab": {
          "base_uri": "https://localhost:8080/"
        },
        "outputId": "22ee0b4b-77c4-47d1-887e-77ab0be262c6"
      },
      "source": [
        "try: \n",
        "    k = 5//0  \n",
        "    print(k) \n",
        "    \n",
        "except ZeroDivisionError:    \n",
        "    print(\"Can't divide by zero\") \n",
        "        \n",
        "finally: \n",
        "    print('This is always executed') "
      ],
      "execution_count": null,
      "outputs": [
        {
          "output_type": "stream",
          "text": [
            "Can't divide by zero\n",
            "This is always executed\n"
          ],
          "name": "stdout"
        }
      ]
    },
    {
      "cell_type": "markdown",
      "metadata": {
        "id": "SRZOsLgJS330"
      },
      "source": [
        "Q10: Write a python program to raise a TypeError if x is not an integer:"
      ]
    },
    {
      "cell_type": "code",
      "metadata": {
        "id": "4ArMPx4eS5mS"
      },
      "source": [
        "list1 = 's';\n",
        "list2 = [3, 4, 5, 8, 9];\n",
        "print(list1 + list2)"
      ],
      "execution_count": null,
      "outputs": []
    }
  ]
}