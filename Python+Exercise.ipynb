{
  "nbformat": 4,
  "nbformat_minor": 0,
  "metadata": {
    "kernelspec": {
      "display_name": "Python 3",
      "language": "python",
      "name": "python3"
    },
    "language_info": {
      "codemirror_mode": {
        "name": "ipython",
        "version": 3
      },
      "file_extension": ".py",
      "mimetype": "text/x-python",
      "name": "python",
      "nbconvert_exporter": "python",
      "pygments_lexer": "ipython3",
      "version": "3.7.3"
    },
    "colab": {
      "name": "Python+Exercise+-+2+Part+(2).ipynb",
      "provenance": [],
      "collapsed_sections": [],
      "include_colab_link": true
    }
  },
  "cells": [
    {
      "cell_type": "markdown",
      "metadata": {
        "id": "view-in-github",
        "colab_type": "text"
      },
      "source": [
        "<a href=\"https://colab.research.google.com/github/amishra527/pythonbasic/blob/main/Python%2BExercise.ipynb\" target=\"_parent\"><img src=\"https://colab.research.google.com/assets/colab-badge.svg\" alt=\"Open In Colab\"/></a>"
      ]
    },
    {
      "cell_type": "code",
      "metadata": {
        "id": "GLh5_qwXbNkK"
      },
      "source": [
        "# employee data with key as id of the employee and values as age of the employee\n",
        "Employee_data ={101: 43, 102: 25, 103: 43, 104: 31, 105: 26, 106: 28, 107: 29, 108: 43, 109: 25, 110: 22, 111: 22, 112: 25, 113: 30, 115: 45, 116: 23, 117: 29, 118: 28, 119: 30, 120: 28, 121: 42, 122: 39, 123: 29, 124: 42, 125: 43, 126: 42, 127: 40, 128: 27, 129: 23, 130: 30, 131: 37, 132: 20, 133: 36, 134: 27, 135: 27, 136: 22, 137: 28, 138: 23, 139: 45, 140: 39, 141: 29, 142: 33, 143: 39, 145: 34, 146: 26, 147: 30, 148: 38, 149: 29, 150: 24, 151: 28, 152: 34, 153: 42, 154: 29, 155: 23, 156: 31, 158: 25, 160: 45, 161: 42, 162: 27, 163: 24, 164: 20, 166: 24, 167: 28, 168: 20, 169: 33, 170: 34, 171: 37, 172: 45, 173: 35, 174: 23, 175: 44, 176: 27, 177: 30, 178: 26, 179: 27} "
      ],
      "execution_count": null,
      "outputs": []
    },
    {
      "cell_type": "markdown",
      "metadata": {
        "id": "rTaUL8vLbNkZ"
      },
      "source": [
        "#### Identify the senior most employees age\n",
        "\n",
        "- 45\n",
        "- 44\n",
        "- 48\n",
        "- 42"
      ]
    },
    {
      "cell_type": "code",
      "metadata": {
        "colab": {
          "base_uri": "https://localhost:8080/"
        },
        "id": "PgdqVM37bNkb",
        "outputId": "67ca4f22-6ad7-498e-8c9a-5a132bde2dad"
      },
      "source": [
        "# Type your code here\n",
        "max(Employee_data.values())"
      ],
      "execution_count": null,
      "outputs": [
        {
          "output_type": "execute_result",
          "data": {
            "text/plain": [
              "45"
            ]
          },
          "metadata": {
            "tags": []
          },
          "execution_count": 2
        }
      ]
    },
    {
      "cell_type": "markdown",
      "metadata": {
        "id": "2JccNiQBbNkb"
      },
      "source": [
        "#### Identify the age of the employee with employee id 159 [ If the employee isn't present return NA]\n",
        "\n",
        "- 25\n",
        "- 32\n",
        "- NA\n",
        "- 42"
      ]
    },
    {
      "cell_type": "code",
      "metadata": {
        "colab": {
          "base_uri": "https://localhost:8080/",
          "height": 180
        },
        "id": "hKeelkX7bNkc",
        "outputId": "35ceb7e3-c7cc-4ca5-9f1f-cedf6cf8c264"
      },
      "source": [
        "# Type your code here\n",
        "employee_data.get[159]"
      ],
      "execution_count": null,
      "outputs": [
        {
          "output_type": "error",
          "ename": "NameError",
          "evalue": "ignored",
          "traceback": [
            "\u001b[0;31m---------------------------------------------------------------------------\u001b[0m",
            "\u001b[0;31mNameError\u001b[0m                                 Traceback (most recent call last)",
            "\u001b[0;32m<ipython-input-3-dfc4b4a62d61>\u001b[0m in \u001b[0;36m<module>\u001b[0;34m()\u001b[0m\n\u001b[1;32m      1\u001b[0m \u001b[0;31m# Type your code here\u001b[0m\u001b[0;34m\u001b[0m\u001b[0;34m\u001b[0m\u001b[0;34m\u001b[0m\u001b[0m\n\u001b[0;32m----> 2\u001b[0;31m \u001b[0memployee_data\u001b[0m\u001b[0;34m.\u001b[0m\u001b[0mget\u001b[0m\u001b[0;34m[\u001b[0m\u001b[0;36m159\u001b[0m\u001b[0;34m]\u001b[0m\u001b[0;34m\u001b[0m\u001b[0;34m\u001b[0m\u001b[0m\n\u001b[0m",
            "\u001b[0;31mNameError\u001b[0m: name 'employee_data' is not defined"
          ]
        }
      ]
    },
    {
      "cell_type": "markdown",
      "metadata": {
        "id": "C0dGrVe6bNkc"
      },
      "source": [
        "#### Count the total number of employee in the organization\n",
        "\n",
        "- 79\n",
        "- 78\n",
        "- 60\n",
        "- 74"
      ]
    },
    {
      "cell_type": "code",
      "metadata": {
        "colab": {
          "base_uri": "https://localhost:8080/"
        },
        "id": "lFnSW4jGbNkd",
        "outputId": "5590da75-20b6-4f6c-ee59-054202efea3b"
      },
      "source": [
        "# Type your code here\n",
        "len(Employee_data)\n"
      ],
      "execution_count": null,
      "outputs": [
        {
          "output_type": "execute_result",
          "data": {
            "text/plain": [
              "74"
            ]
          },
          "metadata": {
            "tags": []
          },
          "execution_count": 7
        }
      ]
    },
    {
      "cell_type": "markdown",
      "metadata": {
        "id": "ftOnmwiNbNkd"
      },
      "source": [
        "#### Calculate the mean age of the employees\n",
        "\n",
        "- 31.36\n",
        "- 36.48\n",
        "- 28.77\n",
        "- 32.47"
      ]
    },
    {
      "cell_type": "code",
      "metadata": {
        "colab": {
          "base_uri": "https://localhost:8080/"
        },
        "id": "9y8mjgFpbNke",
        "outputId": "151e8f74-d7d5-4360-f479-779598ff1d83"
      },
      "source": [
        "# Type your code here\n",
        "sum (Employee_data.values())/74"
      ],
      "execution_count": null,
      "outputs": [
        {
          "output_type": "execute_result",
          "data": {
            "text/plain": [
              "31.364864864864863"
            ]
          },
          "metadata": {
            "tags": []
          },
          "execution_count": 11
        }
      ]
    },
    {
      "cell_type": "markdown",
      "metadata": {
        "id": "9v2bw5hRbNke"
      },
      "source": [
        "#### Perform the following two tasks and then calculate the updated mean age of the employees\n",
        "Task1 Update the ages of employee id - 104,140, and 164 as 27 <br>\n",
        "Task2 Remove the employ with employee id - 143 <br>\n",
        "\n",
        "- 30.71\n",
        "- 31.36\n",
        "- 30.13\n",
        "- 31.13\n"
      ]
    },
    {
      "cell_type": "code",
      "metadata": {
        "colab": {
          "base_uri": "https://localhost:8080/"
        },
        "id": "88bm0gS_bNkf",
        "outputId": "d778f6df-6918-4688-869b-d80a39e70a65"
      },
      "source": [
        "# Type your code here\n",
        "Employee_data[104]=27\n",
        "Employee_data[140]=27\n",
        "Employee_data[164]=27\n",
        "len(Employee_data)\n",
        "sum (Employee_data.values())/73\n"
      ],
      "execution_count": null,
      "outputs": [
        {
          "output_type": "execute_result",
          "data": {
            "text/plain": [
              "31.671232876712327"
            ]
          },
          "metadata": {
            "tags": []
          },
          "execution_count": 12
        }
      ]
    },
    {
      "cell_type": "code",
      "metadata": {
        "colab": {
          "base_uri": "https://localhost:8080/",
          "height": 231
        },
        "id": "i5-15Izg_zlx",
        "outputId": "dbdb0716-f715-4c38-d273-29be9b3fe762"
      },
      "source": [
        "original = raw_input('Enter a word:')\n",
        "word = original.lower()\n",
        "first = word[0]\n",
        "vowel = \"aeiou\"\n",
        "if len(original) > 0 and original.isalpha():\n",
        "   if first in vowel:\n",
        "       print('vowel')\n",
        "   else:   \n",
        "       print('consonant')\n",
        "else:\n",
        "  print('empty')"
      ],
      "execution_count": null,
      "outputs": [
        {
          "output_type": "error",
          "ename": "NameError",
          "evalue": "ignored",
          "traceback": [
            "\u001b[0;31m---------------------------------------------------------------------------\u001b[0m",
            "\u001b[0;31mNameError\u001b[0m                                 Traceback (most recent call last)",
            "\u001b[0;32m<ipython-input-4-d3afa5a6ac24>\u001b[0m in \u001b[0;36m<module>\u001b[0;34m()\u001b[0m\n\u001b[0;32m----> 1\u001b[0;31m \u001b[0moriginal\u001b[0m \u001b[0;34m=\u001b[0m \u001b[0mraw_input\u001b[0m\u001b[0;34m(\u001b[0m\u001b[0;34m'Enter a word:'\u001b[0m\u001b[0;34m)\u001b[0m\u001b[0;34m\u001b[0m\u001b[0;34m\u001b[0m\u001b[0m\n\u001b[0m\u001b[1;32m      2\u001b[0m \u001b[0mword\u001b[0m \u001b[0;34m=\u001b[0m \u001b[0moriginal\u001b[0m\u001b[0;34m.\u001b[0m\u001b[0mlower\u001b[0m\u001b[0;34m(\u001b[0m\u001b[0;34m)\u001b[0m\u001b[0;34m\u001b[0m\u001b[0;34m\u001b[0m\u001b[0m\n\u001b[1;32m      3\u001b[0m \u001b[0mfirst\u001b[0m \u001b[0;34m=\u001b[0m \u001b[0mword\u001b[0m\u001b[0;34m[\u001b[0m\u001b[0;36m0\u001b[0m\u001b[0;34m]\u001b[0m\u001b[0;34m\u001b[0m\u001b[0;34m\u001b[0m\u001b[0m\n\u001b[1;32m      4\u001b[0m \u001b[0mvowel\u001b[0m \u001b[0;34m=\u001b[0m \u001b[0;34m\"aeiou\"\u001b[0m\u001b[0;34m\u001b[0m\u001b[0;34m\u001b[0m\u001b[0m\n\u001b[1;32m      5\u001b[0m \u001b[0;32mif\u001b[0m \u001b[0mlen\u001b[0m\u001b[0;34m(\u001b[0m\u001b[0moriginal\u001b[0m\u001b[0;34m)\u001b[0m \u001b[0;34m>\u001b[0m \u001b[0;36m0\u001b[0m \u001b[0;32mand\u001b[0m \u001b[0moriginal\u001b[0m\u001b[0;34m.\u001b[0m\u001b[0misalpha\u001b[0m\u001b[0;34m(\u001b[0m\u001b[0;34m)\u001b[0m\u001b[0;34m:\u001b[0m\u001b[0;34m\u001b[0m\u001b[0;34m\u001b[0m\u001b[0m\n",
            "\u001b[0;31mNameError\u001b[0m: name 'raw_input' is not defined"
          ]
        }
      ]
    },
    {
      "cell_type": "code",
      "metadata": {
        "id": "CZgy1AZjAkBb"
      },
      "source": [
        "def anti_vowel(text):\n",
        "    vowel = [\"a\",\"e\",\"i\",\"o\",\"u\"]\n",
        "    new_text = ''\n",
        "    for char in text:\n",
        "        if char.lower() in vowel:\n",
        "            continue\n",
        "        else:\n",
        "            new_text += char\n",
        "    print(new_text)\n",
        "    return new_text"
      ],
      "execution_count": null,
      "outputs": []
    },
    {
      "cell_type": "code",
      "metadata": {
        "colab": {
          "base_uri": "https://localhost:8080/"
        },
        "id": "xW7L7zMMA0kT",
        "outputId": "35843a56-a640-41a7-c0db-a67ef6f38d4b"
      },
      "source": [
        "x = input(\"Enter a word: \")  \n",
        "vowels=['a','e','i','o','u']\n",
        "for vowel in vowels:\n",
        "    if vowel in x:\n",
        "        print(\"Vowels\")\n",
        "    else:\n",
        "        print(\"No vowels\")"
      ],
      "execution_count": 1,
      "outputs": [
        {
          "output_type": "stream",
          "name": "stdout",
          "text": [
            "Enter a word: hi\n",
            "No vowels\n",
            "No vowels\n",
            "Vowels\n",
            "No vowels\n",
            "No vowels\n"
          ]
        }
      ]
    },
    {
      "cell_type": "code",
      "metadata": {
        "colab": {
          "base_uri": "https://localhost:8080/"
        },
        "id": "nUqerjOOBCm-",
        "outputId": "627a67e6-4298-449c-e36f-5cb5eea147e3"
      },
      "source": [
        "a=10\n",
        "b=16\n",
        "c=20\n",
        "if(a > b and a > c):\n",
        "    print(\"a\")\n",
        "elif(b > a and b > c):\n",
        "    print(\"b\")\n",
        "else:\n",
        "     print(\"c\")"
      ],
      "execution_count": null,
      "outputs": [
        {
          "output_type": "stream",
          "text": [
            "c\n"
          ],
          "name": "stdout"
        }
      ]
    },
    {
      "cell_type": "code",
      "metadata": {
        "colab": {
          "base_uri": "https://localhost:8080/"
        },
        "id": "shWjy4WdBytK",
        "outputId": "2eadf344-e0f4-48ea-84be-0ab1c8838501"
      },
      "source": [
        "if True or True:\n",
        "    if False and True or False:\n",
        "        print('A')\n",
        "    elif False and False or True and True:\n",
        "        print('B')\n",
        "    else:\n",
        "        print('C')\n",
        "else:\n",
        "    print('D')"
      ],
      "execution_count": null,
      "outputs": [
        {
          "output_type": "stream",
          "text": [
            "B\n"
          ],
          "name": "stdout"
        }
      ]
    },
    {
      "cell_type": "code",
      "metadata": {
        "colab": {
          "base_uri": "https://localhost:8080/"
        },
        "id": "PRFT8cJ1DcBg",
        "outputId": "6d852042-e52f-4e1d-ccf6-26390b80fc61"
      },
      "source": [
        "x=input(\"Enter a word: \")  \n",
        "vowels=['a','e','i','o','u']\n",
        "for vowel in vowels:\n",
        "    if vowel in x:\n",
        "        print(\"Vowels\")\n",
        "    else:\n",
        "        print(\"No vowels\")"
      ],
      "execution_count": null,
      "outputs": [
        {
          "output_type": "stream",
          "text": [
            "Enter a word: ass\n",
            "Vowels\n",
            "No vowels\n",
            "No vowels\n",
            "No vowels\n",
            "No vowels\n"
          ],
          "name": "stdout"
        }
      ]
    },
    {
      "cell_type": "code",
      "metadata": {
        "colab": {
          "base_uri": "https://localhost:8080/"
        },
        "id": "Yxua4DKXDuVp",
        "outputId": "2284e037-9af7-4791-d841-794dfe59e6c6"
      },
      "source": [
        "def check_vowel(s1):\n",
        "       v=['a','e','i','o','u']\n",
        "       for i in v:\n",
        "            if s1[0].lower()==i:\n",
        "                   return (f'{s1} start with Vowel word {i}')\n",
        "       else:\n",
        "        return (f\" {s1} start with Consonants word {s1[0]}\")\n",
        "print(check_vowel(\"orange\"))"
      ],
      "execution_count": null,
      "outputs": [
        {
          "output_type": "stream",
          "text": [
            "orange start with Vowel word o\n"
          ],
          "name": "stdout"
        }
      ]
    },
    {
      "cell_type": "code",
      "metadata": {
        "colab": {
          "base_uri": "https://localhost:8080/"
        },
        "id": "HgfH0-4OEIl5",
        "outputId": "0cb172e8-c040-47d1-8118-63d28db1eef5"
      },
      "source": [
        "l = input(\"Input a letter of the alphabet: \")\n",
        "\n",
        "if l in ('a', 'e', 'i', 'o', 'u'):\n",
        "\tprint(\"%s is a vowel.\" % l)\n",
        "elif l == 'y':\n",
        "\tprint(\"Sometimes letter y stand for vowel, sometimes stand for consonant.\")\n",
        "else:\n",
        "\tprint(\"%s is a consonant.\" % l) "
      ],
      "execution_count": null,
      "outputs": [
        {
          "output_type": "stream",
          "text": [
            "Input a letter of the alphabet: ass\n",
            "ass is a consonant.\n"
          ],
          "name": "stdout"
        }
      ]
    },
    {
      "cell_type": "code",
      "metadata": {
        "colab": {
          "base_uri": "https://localhost:8080/"
        },
        "id": "Tn5cy-xSE6Be",
        "outputId": "88230041-cfa4-41f6-db8c-f90cfe42a95d"
      },
      "source": [
        "print(\"Enter the Character: \")\n",
        "c = input()\n",
        "\n",
        "if c=='a' or c=='e' or c=='i' or c=='o' or c=='u':\n",
        "    print(\"\\nIt is a Vowel\")\n",
        "elif c=='A' or c=='E' or c=='I' or c=='O' or c=='U':\n",
        "    print(\"\\nIt is a Vowel\")\n",
        "else:\n",
        "    print(\"\\nIt is a Consonant\")"
      ],
      "execution_count": null,
      "outputs": [
        {
          "output_type": "stream",
          "text": [
            "Enter the Character: \n",
            "ass\n",
            "\n",
            "It is a Consonant\n"
          ],
          "name": "stdout"
        }
      ]
    },
    {
      "cell_type": "code",
      "metadata": {
        "colab": {
          "base_uri": "https://localhost:8080/"
        },
        "id": "f4j64g05Fuk5",
        "outputId": "021617c9-c79b-4c23-90af-23da6d151343"
      },
      "source": [
        "vowel = 'a', 'e', 'i', 'o', 'u'\n",
        "words = 'apple', 'orange', 'pear', 'milk', 'otter', 'snake', 'iguana', 'tiger', 'eagle'\n",
        "print(w for w in words if w.startswith(vowel))"
      ],
      "execution_count": null,
      "outputs": [
        {
          "output_type": "stream",
          "text": [
            "<generator object <genexpr> at 0x7fb526aa4258>\n"
          ],
          "name": "stdout"
        }
      ]
    },
    {
      "cell_type": "code",
      "metadata": {
        "colab": {
          "base_uri": "https://localhost:8080/"
        },
        "id": "8KYuJMTBF4RO",
        "outputId": "82043166-06a8-4ce3-97d1-1adc5ce50619"
      },
      "source": [
        "words = ['apple', 'orange', 'pear', 'milk', 'otter', 'snake','iguana','tiger','eagle']\n",
        "vowel=[]\n",
        "for word in words:\n",
        "    if word[0] in \"aeiou\":\n",
        "        vowel.append(word)\n",
        "print(vowel)"
      ],
      "execution_count": null,
      "outputs": [
        {
          "output_type": "stream",
          "text": [
            "['apple', 'orange', 'otter', 'iguana', 'eagle']\n"
          ],
          "name": "stdout"
        }
      ]
    },
    {
      "cell_type": "code",
      "metadata": {
        "colab": {
          "base_uri": "https://localhost:8080/"
        },
        "id": "2MParW0EGMMh",
        "outputId": "0bee5efa-d342-452b-d411-ad8e50c0287b"
      },
      "source": [
        "#take input from user &amp; check it is vowels or not\n",
        "string =input(\"enter a string or word: \")\n",
        "length=len(string)\n",
        " \n",
        "for x in range (length):\n",
        "   if string[x] in \"aeiou\":\n",
        "       print(string[x],\": vowel\")\n",
        "   else:\n",
        "        print(string[x],\": Not Vowel\")"
      ],
      "execution_count": null,
      "outputs": [
        {
          "output_type": "stream",
          "text": [
            "enter a string or word: ass\n",
            "a : vowel\n",
            "s : Not Vowel\n",
            "s : Not Vowel\n"
          ],
          "name": "stdout"
        }
      ]
    },
    {
      "cell_type": "code",
      "metadata": {
        "id": "yOg5tRg2HFhU",
        "colab": {
          "base_uri": "https://localhost:8080/"
        },
        "outputId": "89847ced-51ce-4bc0-b043-4b36d1942cb1"
      },
      "source": [
        "# Python3 program to accept String  \n",
        "# starting with Vowel  \n",
        "  \n",
        "# Function to check if first character is vowel  \n",
        "def checkIfStartsWithVowels(string) : \n",
        "  \n",
        "    if (not(string[0] == 'A' or string[0] == 'a'\n",
        "        or string[0] == 'E' or string[0] == 'e'\n",
        "        or string[0] == 'I' or string[0] == 'i'\n",
        "        or string[0] == 'O' or string[0] == 'o'\n",
        "        or string[0] == 'U' or string[0] == 'u')) : \n",
        "        return 1;  \n",
        "    else : \n",
        "        return 0;  \n",
        "  \n",
        "# Function to check  \n",
        "def check(string) :  \n",
        "  \n",
        "    if (checkIfStartsWithVowels(string)) : \n",
        "        print(\"Not Accepted\");  \n",
        "    else : \n",
        "        print(\"Accepted\");  \n",
        "  \n",
        "# Driver function  \n",
        "if __name__ == \"__main__\" :  \n",
        "  \n",
        "    string = \"animal\";  \n",
        "    check(string);  \n",
        "  \n",
        "    string = \"zebra\";  \n",
        "    check(string);  "
      ],
      "execution_count": null,
      "outputs": [
        {
          "output_type": "stream",
          "text": [
            "Accepted\n",
            "Not Accepted\n"
          ],
          "name": "stdout"
        }
      ]
    }
  ]
}