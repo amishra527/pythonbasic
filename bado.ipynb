{
  "nbformat": 4,
  "nbformat_minor": 0,
  "metadata": {
    "colab": {
      "name": "bado.ipynb",
      "provenance": [],
      "authorship_tag": "ABX9TyMquqtJtxG35xDbS95sM8T6",
      "include_colab_link": true
    },
    "kernelspec": {
      "name": "python3",
      "display_name": "Python 3"
    }
  },
  "cells": [
    {
      "cell_type": "markdown",
      "metadata": {
        "id": "view-in-github",
        "colab_type": "text"
      },
      "source": [
        "<a href=\"https://colab.research.google.com/github/amishra527/pythonbasic/blob/main/bado.ipynb\" target=\"_parent\"><img src=\"https://colab.research.google.com/assets/colab-badge.svg\" alt=\"Open In Colab\"/></a>"
      ]
    },
    {
      "cell_type": "code",
      "metadata": {
        "colab": {
          "base_uri": "https://localhost:8080/"
        },
        "id": "I7tns7O8CCT-",
        "outputId": "0e962b72-d336-4f62-a642-9fe1038f0857"
      },
      "source": [
        "L1 = [10,20,30,24,18]\n",
        "L2 = [8,14,15,20,10]\n",
        "L3=[]\n",
        "for  i in range(len(L2)):\n",
        "    L3.append(L2[i] -L1[i])\n",
        "L3"
      ],
      "execution_count": null,
      "outputs": [
        {
          "output_type": "execute_result",
          "data": {
            "text/plain": [
              "[-2, -6, -15, -4, -8]"
            ]
          },
          "metadata": {
            "tags": []
          },
          "execution_count": 3
        }
      ]
    },
    {
      "cell_type": "code",
      "metadata": {
        "colab": {
          "base_uri": "https://localhost:8080/",
          "height": 282
        },
        "id": "Q36j85PdDtGN",
        "outputId": "908c1002-f7b7-4e7a-e896-df7028a8eb51"
      },
      "source": [
        "data = ['VARMA', 'raj', 'Gupta', 'SaNdeeP']\n",
        "capitalized = [re.sub(r'^(.)(.*)$', lambda m: m.group(1).upper() + m.group(2).lower(), a)for a in data]\n",
        "print(capitalized)"
      ],
      "execution_count": null,
      "outputs": [
        {
          "output_type": "error",
          "ename": "NameError",
          "evalue": "ignored",
          "traceback": [
            "\u001b[0;31m---------------------------------------------------------------------------\u001b[0m",
            "\u001b[0;31mNameError\u001b[0m                                 Traceback (most recent call last)",
            "\u001b[0;32m<ipython-input-10-92e230911dfc>\u001b[0m in \u001b[0;36m<module>\u001b[0;34m()\u001b[0m\n\u001b[1;32m      1\u001b[0m \u001b[0mdata\u001b[0m \u001b[0;34m=\u001b[0m \u001b[0;34m[\u001b[0m\u001b[0;34m'VARMA'\u001b[0m\u001b[0;34m,\u001b[0m \u001b[0;34m'raj'\u001b[0m\u001b[0;34m,\u001b[0m \u001b[0;34m'Gupta'\u001b[0m\u001b[0;34m,\u001b[0m \u001b[0;34m'SaNdeeP'\u001b[0m\u001b[0;34m]\u001b[0m\u001b[0;34m\u001b[0m\u001b[0;34m\u001b[0m\u001b[0m\n\u001b[0;32m----> 2\u001b[0;31m \u001b[0mcapitalized\u001b[0m \u001b[0;34m=\u001b[0m \u001b[0;34m[\u001b[0m\u001b[0mre\u001b[0m\u001b[0;34m.\u001b[0m\u001b[0msub\u001b[0m\u001b[0;34m(\u001b[0m\u001b[0;34mr'^(.)(.*)$'\u001b[0m\u001b[0;34m,\u001b[0m \u001b[0;32mlambda\u001b[0m \u001b[0mm\u001b[0m\u001b[0;34m:\u001b[0m \u001b[0mm\u001b[0m\u001b[0;34m.\u001b[0m\u001b[0mgroup\u001b[0m\u001b[0;34m(\u001b[0m\u001b[0;36m1\u001b[0m\u001b[0;34m)\u001b[0m\u001b[0;34m.\u001b[0m\u001b[0mupper\u001b[0m\u001b[0;34m(\u001b[0m\u001b[0;34m)\u001b[0m \u001b[0;34m+\u001b[0m \u001b[0mm\u001b[0m\u001b[0;34m.\u001b[0m\u001b[0mgroup\u001b[0m\u001b[0;34m(\u001b[0m\u001b[0;36m2\u001b[0m\u001b[0;34m)\u001b[0m\u001b[0;34m.\u001b[0m\u001b[0mlower\u001b[0m\u001b[0;34m(\u001b[0m\u001b[0;34m)\u001b[0m\u001b[0;34m,\u001b[0m \u001b[0ma\u001b[0m\u001b[0;34m)\u001b[0m\u001b[0;32mfor\u001b[0m \u001b[0ma\u001b[0m \u001b[0;32min\u001b[0m \u001b[0mdata\u001b[0m\u001b[0;34m]\u001b[0m\u001b[0;34m\u001b[0m\u001b[0;34m\u001b[0m\u001b[0m\n\u001b[0m\u001b[1;32m      3\u001b[0m \u001b[0mprint\u001b[0m\u001b[0;34m(\u001b[0m\u001b[0mcapitalized\u001b[0m\u001b[0;34m)\u001b[0m\u001b[0;34m\u001b[0m\u001b[0;34m\u001b[0m\u001b[0m\n",
            "\u001b[0;32m<ipython-input-10-92e230911dfc>\u001b[0m in \u001b[0;36m<listcomp>\u001b[0;34m(.0)\u001b[0m\n\u001b[1;32m      1\u001b[0m \u001b[0mdata\u001b[0m \u001b[0;34m=\u001b[0m \u001b[0;34m[\u001b[0m\u001b[0;34m'VARMA'\u001b[0m\u001b[0;34m,\u001b[0m \u001b[0;34m'raj'\u001b[0m\u001b[0;34m,\u001b[0m \u001b[0;34m'Gupta'\u001b[0m\u001b[0;34m,\u001b[0m \u001b[0;34m'SaNdeeP'\u001b[0m\u001b[0;34m]\u001b[0m\u001b[0;34m\u001b[0m\u001b[0;34m\u001b[0m\u001b[0m\n\u001b[0;32m----> 2\u001b[0;31m \u001b[0mcapitalized\u001b[0m \u001b[0;34m=\u001b[0m \u001b[0;34m[\u001b[0m\u001b[0mre\u001b[0m\u001b[0;34m.\u001b[0m\u001b[0msub\u001b[0m\u001b[0;34m(\u001b[0m\u001b[0;34mr'^(.)(.*)$'\u001b[0m\u001b[0;34m,\u001b[0m \u001b[0;32mlambda\u001b[0m \u001b[0mm\u001b[0m\u001b[0;34m:\u001b[0m \u001b[0mm\u001b[0m\u001b[0;34m.\u001b[0m\u001b[0mgroup\u001b[0m\u001b[0;34m(\u001b[0m\u001b[0;36m1\u001b[0m\u001b[0;34m)\u001b[0m\u001b[0;34m.\u001b[0m\u001b[0mupper\u001b[0m\u001b[0;34m(\u001b[0m\u001b[0;34m)\u001b[0m \u001b[0;34m+\u001b[0m \u001b[0mm\u001b[0m\u001b[0;34m.\u001b[0m\u001b[0mgroup\u001b[0m\u001b[0;34m(\u001b[0m\u001b[0;36m2\u001b[0m\u001b[0;34m)\u001b[0m\u001b[0;34m.\u001b[0m\u001b[0mlower\u001b[0m\u001b[0;34m(\u001b[0m\u001b[0;34m)\u001b[0m\u001b[0;34m,\u001b[0m \u001b[0ma\u001b[0m\u001b[0;34m)\u001b[0m\u001b[0;32mfor\u001b[0m \u001b[0ma\u001b[0m \u001b[0;32min\u001b[0m \u001b[0mdata\u001b[0m\u001b[0;34m]\u001b[0m\u001b[0;34m\u001b[0m\u001b[0;34m\u001b[0m\u001b[0m\n\u001b[0m\u001b[1;32m      3\u001b[0m \u001b[0mprint\u001b[0m\u001b[0;34m(\u001b[0m\u001b[0mcapitalized\u001b[0m\u001b[0;34m)\u001b[0m\u001b[0;34m\u001b[0m\u001b[0;34m\u001b[0m\u001b[0m\n",
            "\u001b[0;31mNameError\u001b[0m: name 're' is not defined"
          ]
        }
      ]
    },
    {
      "cell_type": "code",
      "metadata": {
        "colab": {
          "base_uri": "https://localhost:8080/"
        },
        "id": "45hMyEAEEaMY",
        "outputId": "39f06dca-5ace-4e03-813e-41e17ec5d997"
      },
      "source": [
        "a = ['VARMA', 'raj', 'Gupta', 'SaNdeeP']\n",
        "res = [x.title() for x in a]\n",
        "print(res)\n",
        "#['Varma', 'Raj', 'Gupta', 'Sandeep']\n"
      ],
      "execution_count": null,
      "outputs": [
        {
          "output_type": "stream",
          "text": [
            "['Varma', 'Raj', 'Gupta', 'Sandeep']\n"
          ],
          "name": "stdout"
        }
      ]
    },
    {
      "cell_type": "code",
      "metadata": {
        "colab": {
          "base_uri": "https://localhost:8080/"
        },
        "id": "Awy8NVfKF_cg",
        "outputId": "84fa3f78-3163-44fd-a7f7-85cdfa8f7986"
      },
      "source": [
        "L1 = [10,20,30,24,18]\n",
        "L2 = [8,14,15,20,10]\n",
        "i =0\n",
        "while i<len(L1):\n",
        "    print(L1[i]-L2[i], end=' ')\n",
        "    i=i+1"
      ],
      "execution_count": null,
      "outputs": [
        {
          "output_type": "stream",
          "text": [
            "2 6 15 4 8 "
          ],
          "name": "stdout"
        }
      ]
    },
    {
      "cell_type": "code",
      "metadata": {
        "colab": {
          "base_uri": "https://localhost:8080/"
        },
        "id": "r7gS6NSED_sU",
        "outputId": "12f11519-d3ff-4b99-f202-9d21e89f911e"
      },
      "source": [
        "data = ['VARMA', 'raj', 'Gupta', 'SaNdeeP']\n",
        "\n",
        "capitalized = [a.capitalize() for a in data]\n",
        "\n",
        "print(capitalized)"
      ],
      "execution_count": null,
      "outputs": [
        {
          "output_type": "stream",
          "text": [
            "['Varma', 'Raj', 'Gupta', 'Sandeep']\n"
          ],
          "name": "stdout"
        }
      ]
    },
    {
      "cell_type": "code",
      "metadata": {
        "colab": {
          "base_uri": "https://localhost:8080/"
        },
        "id": "S1i_f_tfGBFm",
        "outputId": "065aab14-2b0d-421c-b047-9794419e0ec6"
      },
      "source": [
        "l = []\n",
        "for i in range(-100,0):\n",
        "    if(i%2==0):\n",
        "        l.append(i)\n",
        "l"
      ],
      "execution_count": null,
      "outputs": [
        {
          "output_type": "execute_result",
          "data": {
            "text/plain": [
              "[-100,\n",
              " -98,\n",
              " -96,\n",
              " -94,\n",
              " -92,\n",
              " -90,\n",
              " -88,\n",
              " -86,\n",
              " -84,\n",
              " -82,\n",
              " -80,\n",
              " -78,\n",
              " -76,\n",
              " -74,\n",
              " -72,\n",
              " -70,\n",
              " -68,\n",
              " -66,\n",
              " -64,\n",
              " -62,\n",
              " -60,\n",
              " -58,\n",
              " -56,\n",
              " -54,\n",
              " -52,\n",
              " -50,\n",
              " -48,\n",
              " -46,\n",
              " -44,\n",
              " -42,\n",
              " -40,\n",
              " -38,\n",
              " -36,\n",
              " -34,\n",
              " -32,\n",
              " -30,\n",
              " -28,\n",
              " -26,\n",
              " -24,\n",
              " -22,\n",
              " -20,\n",
              " -18,\n",
              " -16,\n",
              " -14,\n",
              " -12,\n",
              " -10,\n",
              " -8,\n",
              " -6,\n",
              " -4,\n",
              " -2]"
            ]
          },
          "metadata": {
            "tags": []
          },
          "execution_count": 13
        }
      ]
    },
    {
      "cell_type": "code",
      "metadata": {
        "colab": {
          "base_uri": "https://localhost:8080/"
        },
        "id": "hWGWtLc2GPnN",
        "outputId": "a57d7a82-8137-4927-d9ae-693646ef980f"
      },
      "source": [
        "list(range(-100,-1,2))"
      ],
      "execution_count": null,
      "outputs": [
        {
          "output_type": "execute_result",
          "data": {
            "text/plain": [
              "[-100,\n",
              " -98,\n",
              " -96,\n",
              " -94,\n",
              " -92,\n",
              " -90,\n",
              " -88,\n",
              " -86,\n",
              " -84,\n",
              " -82,\n",
              " -80,\n",
              " -78,\n",
              " -76,\n",
              " -74,\n",
              " -72,\n",
              " -70,\n",
              " -68,\n",
              " -66,\n",
              " -64,\n",
              " -62,\n",
              " -60,\n",
              " -58,\n",
              " -56,\n",
              " -54,\n",
              " -52,\n",
              " -50,\n",
              " -48,\n",
              " -46,\n",
              " -44,\n",
              " -42,\n",
              " -40,\n",
              " -38,\n",
              " -36,\n",
              " -34,\n",
              " -32,\n",
              " -30,\n",
              " -28,\n",
              " -26,\n",
              " -24,\n",
              " -22,\n",
              " -20,\n",
              " -18,\n",
              " -16,\n",
              " -14,\n",
              " -12,\n",
              " -10,\n",
              " -8,\n",
              " -6,\n",
              " -4,\n",
              " -2]"
            ]
          },
          "metadata": {
            "tags": []
          },
          "execution_count": 14
        }
      ]
    },
    {
      "cell_type": "code",
      "metadata": {
        "colab": {
          "base_uri": "https://localhost:8080/"
        },
        "id": "C8eY7tWCGbAg",
        "outputId": "bcd35bda-7cbd-4e64-862e-af6860ad9ee7"
      },
      "source": [
        "sorted(set(range(-2,-101,-2)))"
      ],
      "execution_count": null,
      "outputs": [
        {
          "output_type": "execute_result",
          "data": {
            "text/plain": [
              "[-100,\n",
              " -98,\n",
              " -96,\n",
              " -94,\n",
              " -92,\n",
              " -90,\n",
              " -88,\n",
              " -86,\n",
              " -84,\n",
              " -82,\n",
              " -80,\n",
              " -78,\n",
              " -76,\n",
              " -74,\n",
              " -72,\n",
              " -70,\n",
              " -68,\n",
              " -66,\n",
              " -64,\n",
              " -62,\n",
              " -60,\n",
              " -58,\n",
              " -56,\n",
              " -54,\n",
              " -52,\n",
              " -50,\n",
              " -48,\n",
              " -46,\n",
              " -44,\n",
              " -42,\n",
              " -40,\n",
              " -38,\n",
              " -36,\n",
              " -34,\n",
              " -32,\n",
              " -30,\n",
              " -28,\n",
              " -26,\n",
              " -24,\n",
              " -22,\n",
              " -20,\n",
              " -18,\n",
              " -16,\n",
              " -14,\n",
              " -12,\n",
              " -10,\n",
              " -8,\n",
              " -6,\n",
              " -4,\n",
              " -2]"
            ]
          },
          "metadata": {
            "tags": []
          },
          "execution_count": 15
        }
      ]
    },
    {
      "cell_type": "code",
      "metadata": {
        "id": "qLQiwTa6Ghh7",
        "colab": {
          "base_uri": "https://localhost:8080/"
        },
        "outputId": "6533fd43-f259-48c4-cb3d-68b086c127fc"
      },
      "source": [
        "d = {0: 'Fish', 1: 'Bird', 2: 'Mammal'}\n",
        "for i in d:\n",
        "    print(i)"
      ],
      "execution_count": null,
      "outputs": [
        {
          "output_type": "stream",
          "text": [
            "0\n",
            "1\n",
            "2\n"
          ],
          "name": "stdout"
        }
      ]
    },
    {
      "cell_type": "code",
      "metadata": {
        "colab": {
          "base_uri": "https://localhost:8080/"
        },
        "id": "PejuqYqGFhaV",
        "outputId": "fd3471f5-962a-4ef6-a6fa-1e4ad3b6351b"
      },
      "source": [
        "import ast, sys\n",
        "n = int(input())\n",
        "l=[x*x for x in range(1,n+1)]\n",
        "l"
      ],
      "execution_count": null,
      "outputs": [
        {
          "output_type": "stream",
          "text": [
            "4\n"
          ],
          "name": "stdout"
        },
        {
          "output_type": "execute_result",
          "data": {
            "text/plain": [
              "[1, 4, 9, 16]"
            ]
          },
          "metadata": {
            "tags": []
          },
          "execution_count": 2
        }
      ]
    },
    {
      "cell_type": "code",
      "metadata": {
        "colab": {
          "base_uri": "https://localhost:8080/"
        },
        "id": "Gi2aqnE2LdZk",
        "outputId": "cf1e7862-e00e-4175-e1a6-9c5e80070da2"
      },
      "source": [
        "novowelwords = []\n",
        "words = ['who', 'what', 'when', 'where', 'why', 'sly', 'shy', 'bashful', 'coy', 'myth', 'hymn']\n",
        "vowel = ['a', 'e', 'i', 'o', 'u']\n",
        "for word in words:\n",
        "    novowel = True    \n",
        "    for letter in word:\n",
        "        if letter in vowel:\n",
        "            novowel=False\n",
        "    if novowel == True:\n",
        "       novowelwords.append(word)\n",
        "print(novowelwords)"
      ],
      "execution_count": null,
      "outputs": [
        {
          "output_type": "stream",
          "text": [
            "['why', 'sly', 'shy', 'myth', 'hymn']\n"
          ],
          "name": "stdout"
        }
      ]
    },
    {
      "cell_type": "code",
      "metadata": {
        "colab": {
          "base_uri": "https://localhost:8080/"
        },
        "id": "lcH3oGzxLqOz",
        "outputId": "b8b91210-2174-4060-8d4c-f2036ddb811b"
      },
      "source": [
        "# initializing list \n",
        "test_list = [\"all\", \"love\", \"and\", \"get\", \"educated\", \"by\", \"gfg\"] \n",
        "# printing original list \n",
        "#print(\"The original list is : \" + str(test_list))  \n",
        "res = [] \n",
        "vow = \"aeiou\"\n",
        "for sub in test_list: \n",
        "    flag = False\n",
        "    # checking for begin char \n",
        "    for ele in vow: \n",
        "        if sub.startswith(ele): \n",
        "            flag = True \n",
        "            break\n",
        "    if flag: \n",
        "        res.append(sub) \n",
        "# printing result  \n",
        "print(\"The extracted words : \" + str(res)) "
      ],
      "execution_count": null,
      "outputs": [
        {
          "output_type": "stream",
          "text": [
            "The extracted words : ['all', 'and', 'educated']\n"
          ],
          "name": "stdout"
        }
      ]
    },
    {
      "cell_type": "code",
      "metadata": {
        "colab": {
          "base_uri": "https://localhost:8080/"
        },
        "id": "VAKpF5lXN86f",
        "outputId": "50dfd82f-50c6-4673-9b02-f498e4bfa686"
      },
      "source": [
        "res = [] \n",
        "vow = \"aeiou\"\n",
        "for sub in test_list: \n",
        "    # check for vowel beginning \n",
        "    flag = any(sub.startswith(ele) for ele in vow) \n",
        "    if flag: \n",
        "        res.append(sub)  \n",
        "# printing result  \n",
        "print(\"The extracted words : \" + str(res))"
      ],
      "execution_count": null,
      "outputs": [
        {
          "output_type": "stream",
          "text": [
            "The extracted words : ['all', 'and', 'educated']\n"
          ],
          "name": "stdout"
        }
      ]
    },
    {
      "cell_type": "code",
      "metadata": {
        "colab": {
          "base_uri": "https://localhost:8080/",
          "height": 129
        },
        "id": "q_GIEgWIOkZa",
        "outputId": "66528bab-f0c2-4724-bd93-447c7b19b3fd"
      },
      "source": [
        "import ast,sys\n",
        "input_str = sys.stdin.read()\n",
        "input_list = ast.literal_eval(input_str)\n",
        "list_vowel =[s for s in input_list if s[0].lower() in 'aeiou' and s[-1] in 'aeiou']# [Type your answer here]\n",
        "print(list_vowel)"
      ],
      "execution_count": null,
      "outputs": [
        {
          "output_type": "error",
          "ename": "SyntaxError",
          "evalue": "ignored",
          "traceback": [
            "\u001b[0;36m  File \u001b[0;32m\"<unknown>\"\u001b[0;36m, line \u001b[0;32munknown\u001b[0m\n\u001b[0;31m    \u001b[0m\n\u001b[0m    ^\u001b[0m\n\u001b[0;31mSyntaxError\u001b[0m\u001b[0;31m:\u001b[0m unexpected EOF while parsing\n"
          ]
        }
      ]
    },
    {
      "cell_type": "code",
      "metadata": {
        "colab": {
          "base_uri": "https://localhost:8080/"
        },
        "id": "zhUbD7GgPqUv",
        "outputId": "5754f375-2864-4d37-fa68-92da823de0c3"
      },
      "source": [
        "input_list = list(range(1,100))\n",
        "output_dict = {}\n",
        "for val in input_list:\n",
        "    if val % 3 == 0:\n",
        "        output_dict[val] = val**3\n",
        "output_dict"
      ],
      "execution_count": null,
      "outputs": [
        {
          "output_type": "execute_result",
          "data": {
            "text/plain": [
              "{3: 27,\n",
              " 6: 216,\n",
              " 9: 729,\n",
              " 12: 1728,\n",
              " 15: 3375,\n",
              " 18: 5832,\n",
              " 21: 9261,\n",
              " 24: 13824,\n",
              " 27: 19683,\n",
              " 30: 27000,\n",
              " 33: 35937,\n",
              " 36: 46656,\n",
              " 39: 59319,\n",
              " 42: 74088,\n",
              " 45: 91125,\n",
              " 48: 110592,\n",
              " 51: 132651,\n",
              " 54: 157464,\n",
              " 57: 185193,\n",
              " 60: 216000,\n",
              " 63: 250047,\n",
              " 66: 287496,\n",
              " 69: 328509,\n",
              " 72: 373248,\n",
              " 75: 421875,\n",
              " 78: 474552,\n",
              " 81: 531441,\n",
              " 84: 592704,\n",
              " 87: 658503,\n",
              " 90: 729000,\n",
              " 93: 804357,\n",
              " 96: 884736,\n",
              " 99: 970299}"
            ]
          },
          "metadata": {
            "tags": []
          },
          "execution_count": 17
        }
      ]
    },
    {
      "cell_type": "code",
      "metadata": {
        "id": "j4lNTRG9PyPG"
      },
      "source": [
        "#output_dict= { if val%3==0 val:val**3 for val in input_list}\n",
        "\n",
        "output_dict= {val:val**3 for val in input_list if val%3==0}"
      ],
      "execution_count": null,
      "outputs": []
    },
    {
      "cell_type": "code",
      "metadata": {
        "colab": {
          "base_uri": "https://localhost:8080/"
        },
        "id": "iQ2uHm-2QFl_",
        "outputId": "6214f2fe-311d-4367-ce38-1f2575220ccd"
      },
      "source": [
        "print([i+j for i in \"abc\" for j in \"def\"])"
      ],
      "execution_count": null,
      "outputs": [
        {
          "output_type": "stream",
          "text": [
            "['ad', 'ae', 'af', 'bd', 'be', 'bf', 'cd', 'ce', 'cf']\n"
          ],
          "name": "stdout"
        }
      ]
    },
    {
      "cell_type": "code",
      "metadata": {
        "id": "moUd3N9fQNXN",
        "colab": {
          "base_uri": "https://localhost:8080/"
        },
        "outputId": "e78d78ba-da6b-4275-b10c-89293392bdea"
      },
      "source": [
        "d = {x.upper(): x*3 for x in 'acbd'}\n",
        "print(d)"
      ],
      "execution_count": null,
      "outputs": [
        {
          "output_type": "stream",
          "text": [
            "{'A': 'aaa', 'C': 'ccc', 'B': 'bbb', 'D': 'ddd'}\n"
          ],
          "name": "stdout"
        }
      ]
    },
    {
      "cell_type": "code",
      "metadata": {
        "colab": {
          "base_uri": "https://localhost:8080/"
        },
        "id": "8pyTcNX4SPvd",
        "outputId": "0be5fd1d-74b1-496e-8055-a1079d128145"
      },
      "source": [
        "def square(x, y):\n",
        "    return (x**y)\n",
        "print(square)\n",
        " "
      ],
      "execution_count": null,
      "outputs": [
        {
          "output_type": "stream",
          "text": [
            "<function nsquare at 0x7f6e64897730>\n"
          ],
          "name": "stdout"
        }
      ]
    },
    {
      "cell_type": "code",
      "metadata": {
        "colab": {
          "base_uri": "https://localhost:8080/",
          "height": 197
        },
        "id": "3vnM-qVrVH7k",
        "outputId": "93b696ef-9494-478f-9745-d3c94173a9ea"
      },
      "source": [
        "def func(x,y):\n",
        "    z = x*y + x + y\n",
        "\n",
        "func(2)"
      ],
      "execution_count": null,
      "outputs": [
        {
          "output_type": "error",
          "ename": "TypeError",
          "evalue": "ignored",
          "traceback": [
            "\u001b[0;31m---------------------------------------------------------------------------\u001b[0m",
            "\u001b[0;31mTypeError\u001b[0m                                 Traceback (most recent call last)",
            "\u001b[0;32m<ipython-input-6-1115d04d8745>\u001b[0m in \u001b[0;36m<module>\u001b[0;34m()\u001b[0m\n\u001b[1;32m      2\u001b[0m     \u001b[0mz\u001b[0m \u001b[0;34m=\u001b[0m \u001b[0mx\u001b[0m\u001b[0;34m*\u001b[0m\u001b[0my\u001b[0m \u001b[0;34m+\u001b[0m \u001b[0mx\u001b[0m \u001b[0;34m+\u001b[0m \u001b[0my\u001b[0m\u001b[0;34m\u001b[0m\u001b[0;34m\u001b[0m\u001b[0m\n\u001b[1;32m      3\u001b[0m \u001b[0;34m\u001b[0m\u001b[0m\n\u001b[0;32m----> 4\u001b[0;31m \u001b[0mfunc\u001b[0m\u001b[0;34m(\u001b[0m\u001b[0;36m2\u001b[0m\u001b[0;34m)\u001b[0m\u001b[0;34m\u001b[0m\u001b[0;34m\u001b[0m\u001b[0m\n\u001b[0m",
            "\u001b[0;31mTypeError\u001b[0m: func() missing 1 required positional argument: 'y'"
          ]
        }
      ]
    },
    {
      "cell_type": "code",
      "metadata": {
        "colab": {
          "base_uri": "https://localhost:8080/"
        },
        "id": "ZmkOEefMVhE7",
        "outputId": "969b6653-3c81-4f1e-c0f6-22b167fc00ac"
      },
      "source": [
        "def func(x,y =1):\n",
        "    z = x*y + x + y\n",
        "    return z\n",
        "\n",
        "func(2,func(3))"
      ],
      "execution_count": null,
      "outputs": [
        {
          "output_type": "execute_result",
          "data": {
            "text/plain": [
              "23"
            ]
          },
          "metadata": {
            "tags": []
          },
          "execution_count": 7
        }
      ]
    },
    {
      "cell_type": "code",
      "metadata": {
        "colab": {
          "base_uri": "https://localhost:8080/",
          "height": 197
        },
        "id": "xdz-Fn4RVlmC",
        "outputId": "3912df05-1986-4ff7-fc22-f47a236f3cfc"
      },
      "source": [
        "def func(x,y):\n",
        "    z = x*y + x + y\n",
        "    return z\n",
        "\n",
        "func(2,func(3))"
      ],
      "execution_count": null,
      "outputs": [
        {
          "output_type": "error",
          "ename": "TypeError",
          "evalue": "ignored",
          "traceback": [
            "\u001b[0;31m---------------------------------------------------------------------------\u001b[0m",
            "\u001b[0;31mTypeError\u001b[0m                                 Traceback (most recent call last)",
            "\u001b[0;32m<ipython-input-8-05d116a7c7e5>\u001b[0m in \u001b[0;36m<module>\u001b[0;34m()\u001b[0m\n\u001b[1;32m      3\u001b[0m     \u001b[0;32mreturn\u001b[0m \u001b[0mz\u001b[0m\u001b[0;34m\u001b[0m\u001b[0;34m\u001b[0m\u001b[0m\n\u001b[1;32m      4\u001b[0m \u001b[0;34m\u001b[0m\u001b[0m\n\u001b[0;32m----> 5\u001b[0;31m \u001b[0mfunc\u001b[0m\u001b[0;34m(\u001b[0m\u001b[0;36m2\u001b[0m\u001b[0;34m,\u001b[0m\u001b[0mfunc\u001b[0m\u001b[0;34m(\u001b[0m\u001b[0;36m3\u001b[0m\u001b[0;34m)\u001b[0m\u001b[0;34m)\u001b[0m\u001b[0;34m\u001b[0m\u001b[0;34m\u001b[0m\u001b[0m\n\u001b[0m",
            "\u001b[0;31mTypeError\u001b[0m: func() missing 1 required positional argument: 'y'"
          ]
        }
      ]
    },
    {
      "cell_type": "code",
      "metadata": {
        "colab": {
          "base_uri": "https://localhost:8080/"
        },
        "id": "5utQ3BqXVqx6",
        "outputId": "64c919f4-2670-4041-bfb5-7f095969fc7d"
      },
      "source": [
        "def func(x=1 ,y=2):\n",
        "    z = x*y + x + y\n",
        "    return z\n",
        "\n",
        "func(2,func(3))"
      ],
      "execution_count": null,
      "outputs": [
        {
          "output_type": "execute_result",
          "data": {
            "text/plain": [
              "35"
            ]
          },
          "metadata": {
            "tags": []
          },
          "execution_count": 9
        }
      ]
    },
    {
      "cell_type": "code",
      "metadata": {
        "colab": {
          "base_uri": "https://localhost:8080/"
        },
        "id": "7ZKct1zXVwDl",
        "outputId": "35524230-f566-4e8c-aa4b-81b2d4db8022"
      },
      "source": [
        "L1 =  [2,7,8,10,3]\n",
        "\n",
        "def func(y):\n",
        "    return y**2 - 2*y - 2\n",
        "\n",
        "ans_list = [func(x) for x in L1]\n",
        "ans_list"
      ],
      "execution_count": null,
      "outputs": [
        {
          "output_type": "execute_result",
          "data": {
            "text/plain": [
              "[-2, 33, 46, 78, 1]"
            ]
          },
          "metadata": {
            "tags": []
          },
          "execution_count": 12
        }
      ]
    },
    {
      "cell_type": "code",
      "metadata": {
        "id": "Zyn8otCAX1zs"
      },
      "source": [
        "greater = lambda a, b: a if a > b else b"
      ],
      "execution_count": null,
      "outputs": []
    },
    {
      "cell_type": "code",
      "metadata": {
        "colab": {
          "base_uri": "https://localhost:8080/"
        },
        "id": "8I-VuIorYthH",
        "outputId": "75ac584c-2da7-452e-fe4c-e1113aa4bfc4"
      },
      "source": [
        "def say(message, times = 1):\n",
        "    print(message * times)\n",
        "\n",
        "say('Hello')\n",
        "say('World', 5)"
      ],
      "execution_count": null,
      "outputs": [
        {
          "output_type": "stream",
          "text": [
            "Hello\n",
            "WorldWorldWorldWorldWorld\n"
          ],
          "name": "stdout"
        }
      ]
    },
    {
      "cell_type": "code",
      "metadata": {
        "id": "R0NmIfZ2Y0Hf",
        "colab": {
          "base_uri": "https://localhost:8080/"
        },
        "outputId": "41ce5741-aa91-40d5-d139-60b116bcd779"
      },
      "source": [
        "min = (lambda x, y: x if x < y else y)\n",
        "min(101*99, 102*98)"
      ],
      "execution_count": null,
      "outputs": [
        {
          "output_type": "execute_result",
          "data": {
            "text/plain": [
              "9996"
            ]
          },
          "metadata": {
            "tags": []
          },
          "execution_count": 23
        }
      ]
    }
  ]
}