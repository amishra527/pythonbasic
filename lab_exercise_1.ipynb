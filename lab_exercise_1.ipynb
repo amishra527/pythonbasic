{
  "nbformat": 4,
  "nbformat_minor": 0,
  "metadata": {
    "colab": {
      "name": "lab exercise 1.ipynb",
      "provenance": [],
      "collapsed_sections": [],
      "authorship_tag": "ABX9TyOSCBQ8ttf+VE0C/bLsNi+4",
      "include_colab_link": true
    },
    "kernelspec": {
      "name": "python3",
      "display_name": "Python 3"
    },
    "language_info": {
      "name": "python"
    }
  },
  "cells": [
    {
      "cell_type": "markdown",
      "metadata": {
        "id": "view-in-github",
        "colab_type": "text"
      },
      "source": [
        "<a href=\"https://colab.research.google.com/github/amishra527/pythonbasic/blob/main/lab_exercise_1.ipynb\" target=\"_parent\"><img src=\"https://colab.research.google.com/assets/colab-badge.svg\" alt=\"Open In Colab\"/></a>"
      ]
    },
    {
      "cell_type": "markdown",
      "metadata": {
        "id": "83-vXWGdQapb"
      },
      "source": [
        "Q‌1‌:‌ ‌Write‌ ‌‌a‌ ‌‌Python‌ ‌‌program‌ ‌‌which‌ ‌‌accept‌ ‌‌the‌ ‌‌radius‌ ‌‌of‌ ‌‌a‌ ‌‌circle‌ ‌‌from‌ ‌‌the‌ ‌‌user‌ ‌‌and‌ ‌\n",
        "compute‌ ‌‌the‌ ‌‌area‌.‌ ‌ ‌\n",
        "Sample‌ ‌‌Output‌ ‌‌:‌ ‌‌r‌=‌1‌.‌1‌ ‌‌Area‌ ‌‌=‌ ‌‌3‌.‌801327110843650‌4‌ ‌ "
      ]
    },
    {
      "cell_type": "code",
      "metadata": {
        "colab": {
          "base_uri": "https://localhost:8080/"
        },
        "id": "HCOFXQDXQlKv",
        "outputId": "47e786e6-c8b0-434c-e7ab-0e386969ec0b"
      },
      "source": [
        "from math import pi\n",
        "r= float(input(\"input the radius : \"))\n",
        "print (\"area of the circle \" + str(r) + \"is: \" + str(pi *r**2))"
      ],
      "execution_count": null,
      "outputs": [
        {
          "output_type": "stream",
          "text": [
            "input the radius : 5\n",
            "area of the circle 5.0is: 78.53981633974483\n"
          ],
          "name": "stdout"
        }
      ]
    },
    {
      "cell_type": "markdown",
      "metadata": {
        "id": "icrSFrexSxN-"
      },
      "source": [
        "Q2: Temperature of a city in Fahrenheit degrees is input through the keyboard. Write a program to convert this temperature into Centigrade degrees. "
      ]
    },
    {
      "cell_type": "code",
      "metadata": {
        "colab": {
          "base_uri": "https://localhost:8080/"
        },
        "id": "ggOj1E4pYm8M",
        "outputId": "05855358-f696-4677-c3ba-5364f009d20b"
      },
      "source": [
        "f=int(input(\"enter the tempertature\"))\n",
        "c=(f-32)/1.8\n",
        "print(c)"
      ],
      "execution_count": null,
      "outputs": [
        {
          "output_type": "stream",
          "text": [
            "enter the tempertature100\n",
            "37.77777777777778\n"
          ],
          "name": "stdout"
        }
      ]
    },
    {
      "cell_type": "markdown",
      "metadata": {
        "id": "a2dRXk3WcwRv"
      },
      "source": [
        "Q3: Write a Python Program to make a simple calculator that can add, subtract, multiply and divide "
      ]
    },
    {
      "cell_type": "code",
      "metadata": {
        "colab": {
          "base_uri": "https://localhost:8080/"
        },
        "id": "McQn9ci-c1gb",
        "outputId": "c7c30d9e-d729-40f2-b439-d1d9d7f427b0"
      },
      "source": [
        "a=int(input(\"enter the 1 number \"))\n",
        "b=int(input(\"enter the 2 number \"))\n",
        "add= a+b\n",
        "sub= a-b\n",
        "mul= a*b\n",
        "div=a/b\n",
        "print(add)\n",
        "print(sub)\n",
        "print(mul)\n",
        "print(div)"
      ],
      "execution_count": null,
      "outputs": [
        {
          "output_type": "stream",
          "text": [
            "enter the 1 number 12\n",
            "enter the 2 number 15\n",
            "27\n",
            "-3\n",
            "180\n",
            "0.8\n"
          ],
          "name": "stdout"
        }
      ]
    },
    {
      "cell_type": "markdown",
      "metadata": {
        "id": "JgtuqRiIc245"
      },
      "source": [
        "Q4: Write a Python Program to calculate the square root "
      ]
    },
    {
      "cell_type": "code",
      "metadata": {
        "colab": {
          "base_uri": "https://localhost:8080/"
        },
        "id": "kkU4jV1gc5zX",
        "outputId": "e51d08ba-365d-4e98-b3cc-67de38831b46"
      },
      "source": [
        "n=int(input(\"enter the number\"))\n",
        "sqrt = n**0.5\n",
        "print(\"square root:\",sqrt)\n"
      ],
      "execution_count": null,
      "outputs": [
        {
          "output_type": "stream",
          "text": [
            "enter the number64\n",
            "square root: 8.0\n"
          ],
          "name": "stdout"
        }
      ]
    },
    {
      "cell_type": "code",
      "metadata": {
        "colab": {
          "base_uri": "https://localhost:8080/"
        },
        "id": "MskQfRK6hoVZ",
        "outputId": "22da9fc7-aa3d-4b24-d7b0-e53c96b49790"
      },
      "source": [
        "import math\n",
        "n=int(input(\"enter the number\"))\n",
        "sqrt=math.sqrt(n)\n",
        "print(\"square root:\", sqrt)"
      ],
      "execution_count": null,
      "outputs": [
        {
          "output_type": "stream",
          "text": [
            "enter the number64\n",
            "square root: 8.0\n"
          ],
          "name": "stdout"
        }
      ]
    },
    {
      "cell_type": "markdown",
      "metadata": {
        "id": "AKcgEKvIc6Lc"
      },
      "source": [
        "Q5: Write a Python Program to Solve the quadratic equation ax**2 + bx+c=0 # Coeffients a, b and c are provided by the user \n",
        "[Hint: import complex math module - import cmath]"
      ]
    },
    {
      "cell_type": "code",
      "metadata": {
        "colab": {
          "base_uri": "https://localhost:8080/"
        },
        "id": "xUQA1c5mc9b1",
        "outputId": "dc78b7be-a273-42ab-8784-c0b8404c2dc9"
      },
      "source": [
        "import cmath\n",
        "print(\"Standard Quadratic equation given as: ax**2 + bx + c=0\")\n",
        "a=int(input(\"Enter the value of a \"))\n",
        "b=int(input(\"Enter the value of b \"))\n",
        "c=int(input(\"Enter the value of c \"))\n",
        "d= (b**2)-(4*a*c)\n",
        "result1 = (b+cmath.sqrt(d))/(2*a)\n",
        "result2 = (b-cmath.sqrt(d))/(2*a)\n",
        "print(\"The roots are\",result1,\"&\",result2)"
      ],
      "execution_count": null,
      "outputs": [
        {
          "output_type": "stream",
          "text": [
            "Standard Quadratic equation given as: ax**2 + bx + c=0\n",
            "Enter the value of a 4\n",
            "Enter the value of b 2\n",
            "Enter the value of c 4\n",
            "The roots are (0.25+0.9682458365518543j) & (0.25-0.9682458365518543j)\n"
          ],
          "name": "stdout"
        }
      ]
    },
    {
      "cell_type": "markdown",
      "metadata": {
        "id": "E5oSBSzac90u"
      },
      "source": [
        "Q6: Write a Python Program to find the area of triangle # Three sides of the triangle a, b and c are provided by the user"
      ]
    },
    {
      "cell_type": "code",
      "metadata": {
        "id": "f__UNM2hdBda",
        "colab": {
          "base_uri": "https://localhost:8080/"
        },
        "outputId": "11db9183-9cba-4334-e540-3f628d106df3"
      },
      "source": [
        "a = float(input('Enter first side: '))  \n",
        "b = float(input('Enter second side: '))  \n",
        "c = float(input('Enter third side: '))  \n",
        "s = (a + b + c) / 2   \n",
        "area = (s*(s-a)*(s-b)*(s-c)) ** 0.5  \n",
        "print('The area of the triangle is %0.2f' %area)  "
      ],
      "execution_count": null,
      "outputs": [
        {
          "output_type": "stream",
          "text": [
            "Enter first side: 4\n",
            "Enter second side: 4\n",
            "Enter third side: 8\n",
            "The area of the triangle is 0.00\n"
          ],
          "name": "stdout"
        }
      ]
    },
    {
      "cell_type": "markdown",
      "metadata": {
        "id": "s1nnBaUndGZX"
      },
      "source": [
        "Q7: If a five-digit number is input through the keyboard, write a program to calculate the sum of its digits without using any loop. (Hint: Use the modulus operator '%')"
      ]
    },
    {
      "cell_type": "code",
      "metadata": {
        "id": "Z_fehT2kdJ3E",
        "colab": {
          "base_uri": "https://localhost:8080/"
        },
        "outputId": "751997a1-dfab-42b3-da14-5792641708dd"
      },
      "source": [
        "num = int(input(\"Insert a four digit numbers: \"))\n",
        "x  = num //1000\n",
        "x1 = (num - x*1000)//100\n",
        "x2 = (num - x*1000 - x1*100)//10\n",
        "x3 = num - x*1000 - x1*100 - x2*10\n",
        "print(\"The sum of digits in the number is\", x+x1+x2+x3)"
      ],
      "execution_count": null,
      "outputs": [
        {
          "output_type": "stream",
          "text": [
            "Input a four digit numbers: 7412\n",
            "The sum of digits in the number is 14\n"
          ],
          "name": "stdout"
        }
      ]
    },
    {
      "cell_type": "code",
      "metadata": {
        "colab": {
          "base_uri": "https://localhost:8080/"
        },
        "id": "BGq20N2tGtrA",
        "outputId": "9e5095eb-22ba-472f-f39c-265bece55689"
      },
      "source": [
        "n1 = int(input(\"Insert a  thousand digit numbers: \"))\n",
        "n2 = int(input(\"Insert a four hundred numbers: \"))\n",
        "n3 = int(input(\"Insert a four tens numbers: \"))\n",
        "n4 = int(input(\"Insert a four unit numbers: \"))\n",
        "s= n1+n2+n3+n4\n",
        "print(s)"
      ],
      "execution_count": null,
      "outputs": [
        {
          "output_type": "stream",
          "text": [
            "Insert a  thousand digit numbers: 7\n",
            "Insert a four hundred numbers: 4\n",
            "Insert a four tens numbers: 1\n",
            "Insert a four unit numbers: 2\n",
            "14\n"
          ],
          "name": "stdout"
        }
      ]
    },
    {
      "cell_type": "markdown",
      "metadata": {
        "id": "5bxmpmiNdKQK"
      },
      "source": [
        "Q8: Write a Python program to print the following string in a specific format \n",
        "\n",
        "Twinkle, twinkle, little star, \n",
        "\n",
        "How I wonder what you are! \n",
        "\n",
        "Up above the world so high, \n",
        "\n",
        "Like a diamond in the sky. \n",
        "Twinkle, twinkle, little star, \n",
        "\n",
        "How I wonder what you are \n"
      ]
    },
    {
      "cell_type": "code",
      "metadata": {
        "id": "4k0J3FkCdU1j",
        "colab": {
          "base_uri": "https://localhost:8080/"
        },
        "outputId": "d8babbe5-9f6c-4910-a4fc-ad0f2581627f"
      },
      "source": [
        "print(\"\"\"Twinkle, twinkle, little star, \n",
        "\\n\\tHow I wonder what you are! \n",
        "\\n\\t\\tUp above the world so high, \n",
        "\\n\\t\\tLike a diamond in the sky. \n",
        "\\nTwinkle, twinkle, little star, \n",
        "\\n\\tHow I wonder what you are!\"\"\")\n"
      ],
      "execution_count": null,
      "outputs": [
        {
          "output_type": "stream",
          "text": [
            "Twinkle, twinkle, little star, \n",
            "\n",
            "\tHow I wonder what you are! \n",
            "\n",
            "\t\tUp above the world so high, \n",
            "\n",
            "\t\tLike a diamond in the sky. \n",
            "\n",
            "Twinkle, twinkle, little star, \n",
            "\n",
            "\tHow I wonder what you are!\n"
          ],
          "name": "stdout"
        }
      ]
    },
    {
      "cell_type": "markdown",
      "metadata": {
        "id": "pWMo8oENdVgA"
      },
      "source": [
        "Q9: Write a Python program to display your details like name, age, address in three different lines."
      ]
    },
    {
      "cell_type": "code",
      "metadata": {
        "id": "L_NU1waYdYby"
      },
      "source": [
        "def personal_details():\n",
        "    name, age = \"ashu\", 28\n",
        "    address = \"ghaziabad, up, India\"\n",
        "    print(\"Name: {}\\nAge: {}\\nAddress: {}\".format(name, age, address))\n",
        "\n",
        "personal_details()"
      ],
      "execution_count": null,
      "outputs": []
    },
    {
      "cell_type": "markdown",
      "metadata": {
        "id": "A2DOerocdYuA"
      },
      "source": [
        "Q10: Write a Python program to get a string made of the first 2 and the last 2 chars from a given a string "
      ]
    },
    {
      "cell_type": "code",
      "metadata": {
        "id": "or2ETwfXdbPq",
        "colab": {
          "base_uri": "https://localhost:8080/"
        },
        "outputId": "3898c2fa-a84a-4d4e-8e1f-765de24274c9"
      },
      "source": [
        "s=\"ashutosh\"\n",
        "s=s[0:2]+s[-2:]\n",
        "print(s)"
      ],
      "execution_count": null,
      "outputs": [
        {
          "output_type": "stream",
          "text": [
            "assh\n"
          ],
          "name": "stdout"
        }
      ]
    },
    {
      "cell_type": "markdown",
      "metadata": {
        "id": "QyXqFB-qdbtW"
      },
      "source": [
        "Q11: a Python program to get a string from a given string where all occurrences of its first char have been changed to 'S', except the first char itself. Sample String : 'restart' Expected Result : 'resta$t'"
      ]
    },
    {
      "cell_type": "code",
      "metadata": {
        "colab": {
          "base_uri": "https://localhost:8080/"
        },
        "id": "9ZPhoKftdeBt",
        "outputId": "1ee4718c-23e1-477d-cd70-6d25d5386652"
      },
      "source": [
        "str = \"An apple A day keeps doctor Away.\"\n",
        "str = str.replace('a', '$')\n",
        "print(\"Modified string : \")\n",
        "print(str)"
      ],
      "execution_count": null,
      "outputs": [
        {
          "output_type": "stream",
          "text": [
            "Modified string : \n",
            "An $pple A d$y keeps doctor Aw$y.\n"
          ],
          "name": "stdout"
        }
      ]
    },
    {
      "cell_type": "code",
      "metadata": {
        "colab": {
          "base_uri": "https://localhost:8080/"
        },
        "id": "JazACdrmbxzc",
        "outputId": "694a333e-6d69-4b46-d56d-1038c831a0d3"
      },
      "source": [
        "s=\"restart\"\n",
        "l=s[1:]\n",
        "m=s[:1]\n",
        "e=l.replace('r','$',1)\n",
        "t=m+e\n",
        "print(t)"
      ],
      "execution_count": null,
      "outputs": [
        {
          "output_type": "stream",
          "text": [
            "resta$t\n"
          ],
          "name": "stdout"
        }
      ]
    },
    {
      "cell_type": "code",
      "metadata": {
        "colab": {
          "base_uri": "https://localhost:8080/"
        },
        "id": "rNwEEX_L-z1R",
        "outputId": "6944ef2b-8653-491b-d2df-c49aecbad01c"
      },
      "source": [
        "def change_char(str1):\n",
        "  char = str1[0]\n",
        "  str1 = str1.replace(char, '$')\n",
        "  str1 = char + str1[1:]\n",
        "\n",
        "  return str1\n",
        "\n",
        "print(change_char('restart'))"
      ],
      "execution_count": null,
      "outputs": [
        {
          "output_type": "stream",
          "text": [
            "resta$t\n"
          ],
          "name": "stdout"
        }
      ]
    },
    {
      "cell_type": "markdown",
      "metadata": {
        "id": "ivnrPBvFdegx"
      },
      "source": [
        "Q12: Write a Python program to get a single string from two given strings, separated by a space and swap the first two characters of each string. Sample String : 'abc', 'xyz Expected Result : 'xyc abz'"
      ]
    },
    {
      "cell_type": "code",
      "metadata": {
        "colab": {
          "base_uri": "https://localhost:8080/"
        },
        "id": "fCGcbSFx_d5V",
        "outputId": "fcc4bfd2-3b50-4579-b46c-59f1c1242b9e"
      },
      "source": [
        "str1 = input(\"Please Enter First String : \")\n",
        "str2 =input(\"Please Enter Second String : \")\n",
        "x=str1[0:2]\n",
        "str1=str1.replace(str1[0:2],str2[0:2])\n",
        "str2=str2.replace(str2[0:2],x)\n",
        "print(\"Your first string has become :- \",str1)\n",
        "print(\"Your second string has become :- \",str2)"
      ],
      "execution_count": null,
      "outputs": [
        {
          "output_type": "stream",
          "text": [
            "Please Enter First String : acv\n",
            "Please Enter Second String : sdf\n",
            "Your first string has become :-  sdv\n",
            "Your second string has become :-  acf\n"
          ],
          "name": "stdout"
        }
      ]
    },
    {
      "cell_type": "code",
      "metadata": {
        "colab": {
          "base_uri": "https://localhost:8080/"
        },
        "id": "GuoW33fG_sx3",
        "outputId": "ca061cde-6b88-4d46-e709-3e30b4d2cecb"
      },
      "source": [
        "str1, str2 = 'abc', 'xyz'\n",
        "s1 = str2[:2] + str1[2:]\n",
        "s2 = str1[:2] + str2[2:]\n",
        "print(s1,s2)"
      ],
      "execution_count": null,
      "outputs": [
        {
          "output_type": "stream",
          "text": [
            "xyc abz\n"
          ],
          "name": "stdout"
        }
      ]
    },
    {
      "cell_type": "code",
      "metadata": {
        "id": "P8YyCtHIdgyr"
      },
      "source": [
        "\"\"\"def chars_mix_up(a, b):\n",
        "  new_a = b[:2] + a[2:]\n",
        "  new_b = a[:2] + b[2:]\n",
        "\n",
        "  return new_a + ' ' + new_b\n",
        "print(chars_mix_up('abc', 'xyz'))\"\"\""
      ],
      "execution_count": null,
      "outputs": []
    }
  ]
}