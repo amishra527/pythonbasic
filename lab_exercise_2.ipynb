{
  "nbformat": 4,
  "nbformat_minor": 0,
  "metadata": {
    "colab": {
      "name": "lab exercise 2.ipynb",
      "provenance": [],
      "collapsed_sections": [],
      "authorship_tag": "ABX9TyPimlPBM3W/cQiSP77mgbXk"
    },
    "kernelspec": {
      "name": "python3",
      "display_name": "Python 3"
    },
    "language_info": {
      "name": "python"
    }
  },
  "cells": [
    {
      "cell_type": "markdown",
      "metadata": {
        "id": "4EPRi6zVccqf"
      },
      "source": [
        "[Based on Python Data Types (String, List, Tuple & Conditional statements]\n",
        "\n",
        "Q1: Write a Python program to sum all the items in a list.\n"
      ]
    },
    {
      "cell_type": "code",
      "metadata": {
        "colab": {
          "base_uri": "https://localhost:8080/"
        },
        "id": "Ecp4xIricXxe",
        "outputId": "6864fd48-b070-445f-b4d9-eadeab82a480"
      },
      "source": [
        "lst = []\n",
        "num = int(input('How many numbers: '))\n",
        "for n in range(num):\n",
        "    numbers = int(input('Enter number '))\n",
        "    lst.append(numbers)\n",
        "print(\"Sum of elements in given list is :\", sum(lst))"
      ],
      "execution_count": null,
      "outputs": [
        {
          "output_type": "stream",
          "text": [
            "How many numbers: 3\n",
            "Enter number 45\n",
            "Enter number 55\n",
            "Enter number 100\n",
            "Sum of elements in given list is : 200\n"
          ],
          "name": "stdout"
        }
      ]
    },
    {
      "cell_type": "code",
      "metadata": {
        "colab": {
          "base_uri": "https://localhost:8080/"
        },
        "id": "5yct7x1reASx",
        "outputId": "f059a129-bcc0-4da5-d78c-b9e907012933"
      },
      "source": [
        "def sum_list(items):\n",
        "    sum_numbers = 0\n",
        "    for x in items:\n",
        "        sum_numbers += x\n",
        "    return sum_numbers\n",
        "print(sum_list([1,2,-8]))"
      ],
      "execution_count": null,
      "outputs": [
        {
          "output_type": "stream",
          "text": [
            "-5\n"
          ],
          "name": "stdout"
        }
      ]
    },
    {
      "cell_type": "code",
      "metadata": {
        "colab": {
          "base_uri": "https://localhost:8080/"
        },
        "id": "E076JQB4eNP5",
        "outputId": "cbbaa03f-8c3c-4ad9-f47b-64a7f7bf524a"
      },
      "source": [
        "list1 = [11, 5, 17, 18, 23]\n",
        "total = sum(list1)\n",
        "print(\"Sum of all elements in given list: \", total)"
      ],
      "execution_count": null,
      "outputs": [
        {
          "output_type": "stream",
          "text": [
            "Sum of all elements in given list:  74\n"
          ],
          "name": "stdout"
        }
      ]
    },
    {
      "cell_type": "code",
      "metadata": {
        "colab": {
          "base_uri": "https://localhost:8080/"
        },
        "id": "jKgeZd2oebWK",
        "outputId": "6965a2a2-1cbd-464a-ec8a-b38c4245f736"
      },
      "source": [
        "total = 0\n",
        "list1 = [11, 5, 17, 18, 23]\n",
        "for ele in range(0, len(list1)):\n",
        "    total = total + list1[ele]\n",
        "print(\"Sum of all elements in given list: \", total)"
      ],
      "execution_count": null,
      "outputs": [
        {
          "output_type": "stream",
          "text": [
            "Sum of all elements in given list:  74\n"
          ],
          "name": "stdout"
        }
      ]
    },
    {
      "cell_type": "code",
      "metadata": {
        "colab": {
          "base_uri": "https://localhost:8080/"
        },
        "id": "ckP1MgsaekDq",
        "outputId": "03097d55-7aed-4e9b-a6c3-c26fd4fb933e"
      },
      "source": [
        "total = 0\n",
        "ele = 0\n",
        "list1 = [11, 5, 17, 18, 23]\n",
        "while(ele < len(list1)):\n",
        "    total = total + list1[ele]\n",
        "    ele += 1\n",
        "print(\"Sum of all elements in given list: \", total)"
      ],
      "execution_count": null,
      "outputs": [
        {
          "output_type": "stream",
          "text": [
            "Sum of all elements in given list:  74\n"
          ],
          "name": "stdout"
        }
      ]
    },
    {
      "cell_type": "code",
      "metadata": {
        "colab": {
          "base_uri": "https://localhost:8080/"
        },
        "id": "C1heq0FqexTl",
        "outputId": "c86fb51b-cf75-4e1b-a12c-f2f78d79dd22"
      },
      "source": [
        "list = [1, 2, 3]\n",
        "sum(list)"
      ],
      "execution_count": null,
      "outputs": [
        {
          "output_type": "execute_result",
          "data": {
            "text/plain": [
              "6"
            ]
          },
          "metadata": {
            "tags": []
          },
          "execution_count": 6
        }
      ]
    },
    {
      "cell_type": "markdown",
      "metadata": {
        "id": "qdxtLBFccoet"
      },
      "source": [
        "Q2: Write a Python program to get the largest number from a list."
      ]
    },
    {
      "cell_type": "code",
      "metadata": {
        "colab": {
          "base_uri": "https://localhost:8080/"
        },
        "id": "3u4ENMDZcuLv",
        "outputId": "bc6129b1-6782-41f9-c9f7-bc5cb44e8899"
      },
      "source": [
        "list1 = [10, 20, 4, 45, 99]\n",
        "list1.sort()\n",
        "print(\"Largest element is:\", list1[-1])"
      ],
      "execution_count": null,
      "outputs": [
        {
          "output_type": "stream",
          "text": [
            "Largest element is: 99\n"
          ],
          "name": "stdout"
        }
      ]
    },
    {
      "cell_type": "code",
      "metadata": {
        "colab": {
          "base_uri": "https://localhost:8080/"
        },
        "id": "qMbtB5Uofm9K",
        "outputId": "c819c02c-5c8e-4fc9-db57-532a28cc355f"
      },
      "source": [
        "list1 = [10, 20, 4, 45, 99]\n",
        "print(\"Largest element is:\", max(list1))"
      ],
      "execution_count": null,
      "outputs": [
        {
          "output_type": "stream",
          "text": [
            "Largest element is: 99\n"
          ],
          "name": "stdout"
        }
      ]
    },
    {
      "cell_type": "code",
      "metadata": {
        "colab": {
          "base_uri": "https://localhost:8080/"
        },
        "id": "2BNdoaaqf6CW",
        "outputId": "98cf32b8-2163-408f-a6f9-14dd4a09ed8e"
      },
      "source": [
        "list1 = []\n",
        "num = int(input(\"Enter number of elements in list: \"))\n",
        "for i in range(1, num + 1):\n",
        "    ele = int(input(\"Enter elements: \"))\n",
        "    list1.append(ele)\n",
        "print(\"Largest element is:\", max(list1))"
      ],
      "execution_count": null,
      "outputs": [
        {
          "output_type": "stream",
          "text": [
            "Enter number of elements in list: 5\n",
            "Enter elements: 14\n",
            "Enter elements: 14\n",
            "Enter elements: 14\n",
            "Enter elements: 14\n",
            "Enter elements: 14\n",
            "Largest element is: 14\n"
          ],
          "name": "stdout"
        }
      ]
    },
    {
      "cell_type": "markdown",
      "metadata": {
        "id": "Ol0tQj5mcuiW"
      },
      "source": [
        "Q3: Write a Python program to get the smallest number from a list."
      ]
    },
    {
      "cell_type": "code",
      "metadata": {
        "colab": {
          "base_uri": "https://localhost:8080/"
        },
        "id": "gbtdJ2bucxZj",
        "outputId": "6f0c20fa-2520-462f-903f-874fb6e2d3e3"
      },
      "source": [
        "list1 = [10, 20, 4, 45, 99]\n",
        "list1.sort()\n",
        "print(\"Smallest element is:\", *list1[:1])"
      ],
      "execution_count": null,
      "outputs": [
        {
          "output_type": "stream",
          "text": [
            "Smallest element is: 4\n"
          ],
          "name": "stdout"
        }
      ]
    },
    {
      "cell_type": "code",
      "metadata": {
        "colab": {
          "base_uri": "https://localhost:8080/"
        },
        "id": "YZwwsl_kgqqz",
        "outputId": "658b28a3-ecb7-4084-cc1f-0f0d1a9f4a47"
      },
      "source": [
        "list1 = [10, 20, 1, 45, 99]\n",
        "print(\"Smallest element is:\", min(list1))"
      ],
      "execution_count": null,
      "outputs": [
        {
          "output_type": "stream",
          "text": [
            "Smallest element is: 1\n"
          ],
          "name": "stdout"
        }
      ]
    },
    {
      "cell_type": "code",
      "metadata": {
        "colab": {
          "base_uri": "https://localhost:8080/"
        },
        "id": "rfcKc3Rugzfu",
        "outputId": "8a460dcb-a07d-4796-c808-bf53707afcb0"
      },
      "source": [
        "list1 = []\n",
        "num = int(input(\"Enter number of elements in list: \"))\n",
        "for i in range(1, num + 1):\n",
        "    ele= int(input(\"Enter elements: \"))\n",
        "    list1.append(ele)\n",
        "print(\"Smallest element is:\", min(list1))"
      ],
      "execution_count": null,
      "outputs": [
        {
          "output_type": "stream",
          "text": [
            "Enter number of elements in list: 2\n",
            "Enter elements: 5\n",
            "Enter elements: 6\n",
            "Smallest element is: 5\n"
          ],
          "name": "stdout"
        }
      ]
    },
    {
      "cell_type": "markdown",
      "metadata": {
        "id": "s4DsBS76czjB"
      },
      "source": [
        "Q4: Write a Python program to display the first and last colors from the following list.\n",
        "\n",
        "color_list = [\"Red\",\"Green\",\"White\" ,\"Black\"]\n"
      ]
    },
    {
      "cell_type": "code",
      "metadata": {
        "colab": {
          "base_uri": "https://localhost:8080/"
        },
        "id": "n3LSIweTc1fx",
        "outputId": "104a47b1-836a-47c2-d6ba-55ba63a78ed2"
      },
      "source": [
        "color_list = [\"Red\",\"Green\",\"White\" ,\"Black\"]\n",
        "print( \"%s %s\"%(color_list[0],color_list[-1]))"
      ],
      "execution_count": null,
      "outputs": [
        {
          "output_type": "stream",
          "text": [
            "Red Black\n"
          ],
          "name": "stdout"
        }
      ]
    },
    {
      "cell_type": "markdown",
      "metadata": {
        "id": "49KdIhhxc1zR"
      },
      "source": [
        "Q5: Write a Python program to add 'ing' at the end of a given string (length should be at least 3). If the given string is already ends with 'ing' then add 'ly' instead."
      ]
    },
    {
      "cell_type": "code",
      "metadata": {
        "colab": {
          "base_uri": "https://localhost:8080/"
        },
        "id": "LEgbXomJc4Ms",
        "outputId": "15d36382-2486-48ac-ee1e-e94335b0db2f"
      },
      "source": [
        "string = input()\n",
        "if len(string) < 3:\n",
        "  print(string)\n",
        "elif string[-3:] == 'ing':\n",
        "  print(string + 'ly')\n",
        "else:\n",
        "  print(string + 'ing')"
      ],
      "execution_count": null,
      "outputs": [
        {
          "output_type": "stream",
          "text": [
            "str\n",
            "string\n"
          ],
          "name": "stdout"
        }
      ]
    },
    {
      "cell_type": "code",
      "metadata": {
        "colab": {
          "base_uri": "https://localhost:8080/",
          "height": 129
        },
        "id": "04emsJan6D48",
        "outputId": "dc31ee44-5f45-4aff-8f48-e88714b77379"
      },
      "source": [
        "s=input(\"enter a string\")\n",
        "if(s[len]>2):\n",
        "  if s[-3:]=='ing'\n",
        "    s=s+'ly'\n",
        "  else:\n",
        "    s=s+'ing'\n",
        "print(s)"
      ],
      "execution_count": null,
      "outputs": [
        {
          "output_type": "error",
          "ename": "SyntaxError",
          "evalue": "ignored",
          "traceback": [
            "\u001b[0;36m  File \u001b[0;32m\"<ipython-input-31-b4f8b2d2c025>\"\u001b[0;36m, line \u001b[0;32m3\u001b[0m\n\u001b[0;31m    if s[-3:]=='ing'\u001b[0m\n\u001b[0m                    ^\u001b[0m\n\u001b[0;31mSyntaxError\u001b[0m\u001b[0;31m:\u001b[0m invalid syntax\n"
          ]
        }
      ]
    },
    {
      "cell_type": "markdown",
      "metadata": {
        "id": "AI8dLMRcc4kg"
      },
      "source": [
        "Q6: The marks obtained by a student in 5 different Subjects are input through a keyboard. The Student gets a division as per the following rules.\n",
        "\n",
        "Percentage above or equal to 60 – First Division\n",
        "\n",
        "Percentage between 50 and 59 – Second Division\n",
        "\n",
        "Percentage between 40 and 49 – Third Division\n",
        "\n",
        "Percentage less than 40 – Fail\n",
        "\n",
        "Write a python program to Display the result based on the above Criteria.\n"
      ]
    },
    {
      "cell_type": "code",
      "metadata": {
        "colab": {
          "base_uri": "https://localhost:8080/"
        },
        "id": "g5C4vwmBc_jA",
        "outputId": "8aa02077-3f9d-4b92-d5fc-85dfdf7ddba9"
      },
      "source": [
        "print(\"Enter Marks Obtained in 5 Subjects: \")\n",
        "english = float(input(\" Please enter English Marks: \"))\n",
        "math = float(input(\" Please enter Math score: \"))\n",
        "computers = float(input(\" Please enter Computer Marks: \"))\n",
        "physics = float(input(\" Please enter Physics Marks: \"))\n",
        "chemistry = float(input(\" Please enter Chemistry Marks: \"))\n",
        "total = english + math + computers + physics + chemistry\n",
        "percentage = (total / 500) * 100\n",
        "print(\"Total Marks = %.2f\"  %total)\n",
        "print(\"Marks Percentage = %.2f\"  %percentage)\n",
        "if(percentage >= 60):\n",
        "    print(\"First Division\")\n",
        "elif(percentage >= 50):\n",
        "    print(\"Second Division\")\n",
        "elif(percentage >= 40):\n",
        "    print(\"Third Division\")\n",
        "else:\n",
        "    print(\"Fail\")\n"
      ],
      "execution_count": null,
      "outputs": [
        {
          "output_type": "stream",
          "text": [
            "Enter Marks Obtained in 5 Subjects: \n",
            " Please enter English Marks: 78\n",
            " Please enter Math score: 87\n",
            " Please enter Computer Marks: 74\n",
            " Please enter Physics Marks: 36\n",
            " Please enter Chemistry Marks: 99\n",
            "Total Marks = 374.00\n",
            "Marks Percentage = 74.80\n",
            "First Division\n"
          ],
          "name": "stdout"
        }
      ]
    },
    {
      "cell_type": "markdown",
      "metadata": {
        "id": "baTczP6yc_1T"
      },
      "source": [
        "Q7: write a Python program to find the largest number among the three input numbers"
      ]
    },
    {
      "cell_type": "code",
      "metadata": {
        "colab": {
          "base_uri": "https://localhost:8080/"
        },
        "id": "dGZA7KYydCHU",
        "outputId": "c3c6fd98-306d-432e-9fb1-21e95084f411"
      },
      "source": [
        "num1 = float(input(\"Enter first number: \"))\n",
        "num2 = float(input(\"Enter second number: \"))\n",
        "num3 = float(input(\"Enter third number: \"))\n",
        "if (num1 >= num2) and (num1 >= num3):\n",
        "   largest = num1\n",
        "elif (num2 >= num1) and (num2 >= num3):\n",
        "   largest = num2\n",
        "else:\n",
        "   largest = num3\n",
        "print(\"The largest number is\", largest)"
      ],
      "execution_count": null,
      "outputs": [
        {
          "output_type": "stream",
          "text": [
            "Enter first number: 45\n",
            "Enter second number: 55\n",
            "Enter third number: 65\n",
            "The largest number is 65.0\n"
          ],
          "name": "stdout"
        }
      ]
    },
    {
      "cell_type": "markdown",
      "metadata": {
        "id": "1wy17yyIdCTB"
      },
      "source": [
        "Q8: Write a Python program to check if the input year is a leap year or not."
      ]
    },
    {
      "cell_type": "code",
      "metadata": {
        "colab": {
          "base_uri": "https://localhost:8080/"
        },
        "id": "GYiUHhQhdEYR",
        "outputId": "80693787-5106-4992-9e32-406b016ab7e4"
      },
      "source": [
        "year = int(input(\"Enter a year: \")) \n",
        "if (year % 4) == 0:\n",
        "  print(\"{0} is a leap year\".format(year))\n",
        "else:\n",
        "  print(\"{0} is not a leap year\".format(year))"
      ],
      "execution_count": null,
      "outputs": [
        {
          "output_type": "stream",
          "text": [
            "Enter a year: 2000\n",
            "2000 is a leap year\n"
          ],
          "name": "stdout"
        }
      ]
    },
    {
      "cell_type": "markdown",
      "metadata": {
        "id": "2q6RPGD4dEkB"
      },
      "source": [
        "Q9: write a Program to check if a string is palindrome or not"
      ]
    },
    {
      "cell_type": "code",
      "metadata": {
        "colab": {
          "base_uri": "https://localhost:8080/",
          "height": 231
        },
        "id": "uw734ip0dGY6",
        "outputId": "7ace4de4-75e7-4460-a26c-fef9b50a4813"
      },
      "source": [
        "my_str = 'nitin'\n",
        "rev_str = reversed(my_str)\n",
        "if list(my_str) == list(rev_str):\n",
        "   print(\"The string is a palindrome.\")\n",
        "else:\n",
        "   print(\"The string is not a palindrome.\")"
      ],
      "execution_count": null,
      "outputs": [
        {
          "output_type": "error",
          "ename": "TypeError",
          "evalue": "ignored",
          "traceback": [
            "\u001b[0;31m---------------------------------------------------------------------------\u001b[0m",
            "\u001b[0;31mTypeError\u001b[0m                                 Traceback (most recent call last)",
            "\u001b[0;32m<ipython-input-30-acf46f891a14>\u001b[0m in \u001b[0;36m<module>\u001b[0;34m()\u001b[0m\n\u001b[1;32m      1\u001b[0m \u001b[0mmy_str\u001b[0m \u001b[0;34m=\u001b[0m \u001b[0;34m'nitin'\u001b[0m\u001b[0;34m\u001b[0m\u001b[0;34m\u001b[0m\u001b[0m\n\u001b[1;32m      2\u001b[0m \u001b[0mrev_str\u001b[0m \u001b[0;34m=\u001b[0m \u001b[0mreversed\u001b[0m\u001b[0;34m(\u001b[0m\u001b[0mmy_str\u001b[0m\u001b[0;34m)\u001b[0m\u001b[0;34m\u001b[0m\u001b[0;34m\u001b[0m\u001b[0m\n\u001b[0;32m----> 3\u001b[0;31m \u001b[0;32mif\u001b[0m \u001b[0mlist\u001b[0m\u001b[0;34m(\u001b[0m\u001b[0mmy_str\u001b[0m\u001b[0;34m)\u001b[0m \u001b[0;34m==\u001b[0m \u001b[0mlist\u001b[0m\u001b[0;34m(\u001b[0m\u001b[0mrev_str\u001b[0m\u001b[0;34m)\u001b[0m\u001b[0;34m:\u001b[0m\u001b[0;34m\u001b[0m\u001b[0;34m\u001b[0m\u001b[0m\n\u001b[0m\u001b[1;32m      4\u001b[0m    \u001b[0mprint\u001b[0m\u001b[0;34m(\u001b[0m\u001b[0;34m\"The string is a palindrome.\"\u001b[0m\u001b[0;34m)\u001b[0m\u001b[0;34m\u001b[0m\u001b[0;34m\u001b[0m\u001b[0m\n\u001b[1;32m      5\u001b[0m \u001b[0;32melse\u001b[0m\u001b[0;34m:\u001b[0m\u001b[0;34m\u001b[0m\u001b[0;34m\u001b[0m\u001b[0m\n",
            "\u001b[0;31mTypeError\u001b[0m: 'list' object is not callable"
          ]
        }
      ]
    },
    {
      "cell_type": "code",
      "metadata": {
        "id": "kEK1JSFR4F9M"
      },
      "source": [
        "string=input((\"Enter a string:\"))\n",
        "if(string==string[::-1]):\n",
        "      print(\"The string is a palindrome\")\n",
        "else:\n",
        "      print(\"Not a palindrome\")"
      ],
      "execution_count": null,
      "outputs": []
    },
    {
      "cell_type": "markdown",
      "metadata": {
        "id": "PyKAY-IAdGlj"
      },
      "source": [
        "Q10: write a Program to sort alphabetically the words form a string provided by the user.\n",
        "[You can use split() method to split string into a list of words. ]"
      ]
    },
    {
      "cell_type": "code",
      "metadata": {
        "colab": {
          "base_uri": "https://localhost:8080/"
        },
        "id": "-rf5njKydK5U",
        "outputId": "4660b274-44f0-4763-e48f-4e908fd913df"
      },
      "source": [
        "my_str = input(\"Enter a string: \")  \n",
        "words = my_str.split()  \n",
        "words.sort()    \n",
        "for word in words:  \n",
        "   print(word)"
      ],
      "execution_count": null,
      "outputs": [
        {
          "output_type": "stream",
          "text": [
            "Enter a string: hi how are you\n",
            "are\n",
            "hi\n",
            "how\n",
            "you\n"
          ],
          "name": "stdout"
        }
      ]
    },
    {
      "cell_type": "code",
      "metadata": {
        "colab": {
          "base_uri": "https://localhost:8080/",
          "height": 248
        },
        "id": "-mU-MIiYAVIa",
        "outputId": "1a1080d0-f6d1-42ef-e14e-02d9497246f3"
      },
      "source": [
        "string1=input(\"Enter a string: \")\n",
        "s=list(reversed(string1))\n",
        "print(s)\n",
        "s.sort()\n",
        "for s1 in s:\n",
        "  print(s1,end=\"\")"
      ],
      "execution_count": null,
      "outputs": [
        {
          "output_type": "stream",
          "text": [
            "Enter a string: cdac\n"
          ],
          "name": "stdout"
        },
        {
          "output_type": "error",
          "ename": "TypeError",
          "evalue": "ignored",
          "traceback": [
            "\u001b[0;31m---------------------------------------------------------------------------\u001b[0m",
            "\u001b[0;31mTypeError\u001b[0m                                 Traceback (most recent call last)",
            "\u001b[0;32m<ipython-input-36-c08d7b26f295>\u001b[0m in \u001b[0;36m<module>\u001b[0;34m()\u001b[0m\n\u001b[1;32m      1\u001b[0m \u001b[0mstring1\u001b[0m\u001b[0;34m=\u001b[0m\u001b[0minput\u001b[0m\u001b[0;34m(\u001b[0m\u001b[0;34m\"Enter a string: \"\u001b[0m\u001b[0;34m)\u001b[0m\u001b[0;34m\u001b[0m\u001b[0;34m\u001b[0m\u001b[0m\n\u001b[0;32m----> 2\u001b[0;31m \u001b[0ms\u001b[0m\u001b[0;34m=\u001b[0m\u001b[0mlist\u001b[0m\u001b[0;34m(\u001b[0m\u001b[0mreversed\u001b[0m\u001b[0;34m(\u001b[0m\u001b[0mstring1\u001b[0m\u001b[0;34m)\u001b[0m\u001b[0;34m)\u001b[0m\u001b[0;34m\u001b[0m\u001b[0;34m\u001b[0m\u001b[0m\n\u001b[0m\u001b[1;32m      3\u001b[0m \u001b[0mprint\u001b[0m\u001b[0;34m(\u001b[0m\u001b[0ms\u001b[0m\u001b[0;34m)\u001b[0m\u001b[0;34m\u001b[0m\u001b[0;34m\u001b[0m\u001b[0m\n\u001b[1;32m      4\u001b[0m \u001b[0ms\u001b[0m\u001b[0;34m.\u001b[0m\u001b[0msort\u001b[0m\u001b[0;34m(\u001b[0m\u001b[0;34m)\u001b[0m\u001b[0;34m\u001b[0m\u001b[0;34m\u001b[0m\u001b[0m\n\u001b[1;32m      5\u001b[0m \u001b[0;32mfor\u001b[0m \u001b[0ms1\u001b[0m \u001b[0;32min\u001b[0m \u001b[0ms\u001b[0m\u001b[0;34m:\u001b[0m\u001b[0;34m\u001b[0m\u001b[0;34m\u001b[0m\u001b[0m\n",
            "\u001b[0;31mTypeError\u001b[0m: 'list' object is not callable"
          ]
        }
      ]
    },
    {
      "cell_type": "markdown",
      "metadata": {
        "id": "VHLSg5uYdLJi"
      },
      "source": [
        "Q11: Given a nested list. Write a python program to extend it with adding sub list [\"h\", \"i\", \"j\"] in a such a way that it will look like the following list\n",
        "\n",
        "Given List:\n",
        "\n",
        "list1 = [\"a\", \"b\", [\"c\", [\"d\", \"e\", [\"f\", \"g\"], \"k\"], \"l\"], \"m\", \"n\"]\n",
        "\n",
        "Sub List to be added = [\"h\", \"i\", \"j\"]\n",
        "\n",
        "Expected output:\n",
        "\n",
        "['a', 'b', ['c', ['d', 'e', ['f', 'g', 'h', 'i', 'j'], 'k'], 'l'], 'm', 'n']\n"
      ]
    },
    {
      "cell_type": "code",
      "metadata": {
        "colab": {
          "base_uri": "https://localhost:8080/"
        },
        "id": "b4Ss2MVidULD",
        "outputId": "1c1b45ab-666d-4f5a-d98b-c1448b068d68"
      },
      "source": [
        "list1 = [\"a\", \"b\", [\"c\", [\"d\", \"e\", [\"f\", \"g\"], \"k\"], \"l\"], \"m\", \"n\"]\n",
        "subList = [\"h\", \"i\", \"j\"]\n",
        "\n",
        "list1[2][1][2].extend(subList)\n",
        "print(list1)"
      ],
      "execution_count": null,
      "outputs": [
        {
          "output_type": "stream",
          "text": [
            "['a', 'b', ['c', ['d', 'e', ['f', 'g', 'h', 'i', 'j'], 'k'], 'l'], 'm', 'n']\n"
          ],
          "name": "stdout"
        }
      ]
    },
    {
      "cell_type": "markdown",
      "metadata": {
        "id": "OtuufR-tdUhG"
      },
      "source": [
        "Q12: Write a python program for Given a Python list, to find value 20 in the list, and if it is present, replace it with 200. Only update the first occurrence of a value\n",
        "\n",
        "list1 = [5, 10, 15, 20, 25, 50, 20]\n",
        "\n",
        "Expected output:\n",
        "\n",
        "list1 = [5, 10, 15, 200, 25, 50, 20]\n"
      ]
    },
    {
      "cell_type": "code",
      "metadata": {
        "colab": {
          "base_uri": "https://localhost:8080/"
        },
        "id": "Ru_hMGOLdZVa",
        "outputId": "5d88215f-2ba0-45d0-f929-34d3f6a07c6f"
      },
      "source": [
        "list1 = [5, 10, 15, 20, 25, 50, 20]\n",
        "index = list1.index(20)\n",
        "list1[index] = 200\n",
        "print(list1)"
      ],
      "execution_count": null,
      "outputs": [
        {
          "output_type": "stream",
          "text": [
            "[5, 10, 15, 200, 25, 50, 20]\n"
          ],
          "name": "stdout"
        }
      ]
    }
  ]
}