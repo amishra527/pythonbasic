{
  "nbformat": 4,
  "nbformat_minor": 0,
  "metadata": {
    "colab": {
      "name": "lab exercise 3.ipynb",
      "provenance": [],
      "collapsed_sections": [],
      "authorship_tag": "ABX9TyPZfe5jTG37cGb6ZK/YpxhS"
    },
    "kernelspec": {
      "name": "python3",
      "display_name": "Python 3"
    },
    "language_info": {
      "name": "python"
    }
  },
  "cells": [
    {
      "cell_type": "markdown",
      "metadata": {
        "id": "FrPNjpNr-BVx"
      },
      "source": [
        "[Based on Python data types, conditional statements & Loops]\n",
        "\n",
        "Q1: Write a python program to add all the odd numbers from 0 to 20.\n"
      ]
    },
    {
      "cell_type": "code",
      "metadata": {
        "colab": {
          "base_uri": "https://localhost:8080/"
        },
        "id": "lsrOSeix-HDV",
        "outputId": "00e20a84-c8a1-415e-816d-c8199a6acfa0"
      },
      "source": [
        "n=20\n",
        "m=0\n",
        "for i in range(1,n+1,2):\n",
        "    m+=i\n",
        "print(m)"
      ],
      "execution_count": null,
      "outputs": [
        {
          "output_type": "stream",
          "text": [
            "100\n"
          ],
          "name": "stdout"
        }
      ]
    },
    {
      "cell_type": "code",
      "metadata": {
        "id": "CpGTdppWCtjf"
      },
      "source": [
        "n=20\n",
        "print(sum([i for i in range(1,n+1,2)])) "
      ],
      "execution_count": null,
      "outputs": []
    },
    {
      "cell_type": "code",
      "metadata": {
        "id": "rE82VMt0JJmX"
      },
      "source": [
        "\"\"\"\n",
        "for i in range(0, 11, 2): \n",
        "    print(i) \n",
        "sum(range(0, 11, 2)) \n",
        "\"\"\""
      ],
      "execution_count": null,
      "outputs": []
    },
    {
      "cell_type": "code",
      "metadata": {
        "id": "oIJzSkC4JL87"
      },
      "source": [
        "\"\"\"\n",
        "sum = 0 \n",
        "for i in range(0, 11, 2): \n",
        "    print(i) \n",
        "    sum += i\n",
        "\"\"\""
      ],
      "execution_count": null,
      "outputs": []
    },
    {
      "cell_type": "markdown",
      "metadata": {
        "id": "JXF89huo-Hj0"
      },
      "source": [
        "Q 2: Write a python program to find the sum of all integers greater than 100 and less than 200."
      ]
    },
    {
      "cell_type": "code",
      "metadata": {
        "colab": {
          "base_uri": "https://localhost:8080/"
        },
        "id": "T5GEOhCj-LMa",
        "outputId": "ece76c58-afc1-4cf3-a08b-0ce95dfe3013"
      },
      "source": [
        "sum = 0 \n",
        "for i in range(100,200): \n",
        "\tsum += i \n",
        "print(sum) "
      ],
      "execution_count": null,
      "outputs": [
        {
          "output_type": "stream",
          "text": [
            "14950\n"
          ],
          "name": "stdout"
        }
      ]
    },
    {
      "cell_type": "code",
      "metadata": {
        "id": "Oh0sRyCYIkT2"
      },
      "source": [
        "sum(range(100, 200))"
      ],
      "execution_count": null,
      "outputs": []
    },
    {
      "cell_type": "markdown",
      "metadata": {
        "id": "2z68Njz0-LhV"
      },
      "source": [
        "Q3: Write a program to display the sum of square of the first ten even natural numbers\n",
        "\n",
        "(2*2+ 4*4 + 6*6 + 8*8 + 10*10 + 12*12 + 14 * 14 + 16 * 16 + 18*18 + 20*20)\n"
      ]
    },
    {
      "cell_type": "code",
      "metadata": {
        "colab": {
          "base_uri": "https://localhost:8080/"
        },
        "id": "KT-tk2Zq-Puu",
        "outputId": "9ff17d4b-0b71-4747-ad97-474aff3b1184"
      },
      "source": [
        "s=0  \n",
        "for i in range(1,20):  \n",
        "   s+=i**2 \n",
        "print(s)"
      ],
      "execution_count": null,
      "outputs": [
        {
          "output_type": "stream",
          "text": [
            "2470\n"
          ],
          "name": "stdout"
        }
      ]
    },
    {
      "cell_type": "code",
      "metadata": {
        "colab": {
          "base_uri": "https://localhost:8080/"
        },
        "id": "NATLc8j7LuMH",
        "outputId": "36546b90-be8a-4d43-f84e-8247304daf59"
      },
      "source": [
        "n=20\n",
        "m=0\n",
        "for i in range(2,n+1,2):\n",
        "    m+=i**2\n",
        "print(m)"
      ],
      "execution_count": null,
      "outputs": [
        {
          "output_type": "stream",
          "text": [
            "1540\n"
          ],
          "name": "stdout"
        }
      ]
    },
    {
      "cell_type": "markdown",
      "metadata": {
        "id": "qmQ7Ht7q-QO1"
      },
      "source": [
        " Q4: Write a python program to display ascii characters from 65 to 90\n"
      ]
    },
    {
      "cell_type": "code",
      "metadata": {
        "colab": {
          "base_uri": "https://localhost:8080/"
        },
        "id": "RtlqEzKH-dco",
        "outputId": "4e5bcc45-641f-4123-8724-ad7e855a6c27"
      },
      "source": [
        "for i in range(65,90):\n",
        "    print(chr(i), end=\" \")"
      ],
      "execution_count": null,
      "outputs": [
        {
          "output_type": "stream",
          "text": [
            "A B C D E F G H I J K L M N O P Q R S T U V W X Y "
          ],
          "name": "stdout"
        }
      ]
    },
    {
      "cell_type": "markdown",
      "metadata": {
        "id": "WeuoXD9M-iYb"
      },
      "source": [
        "Q5: Display ascii characters from 48 to 57."
      ]
    },
    {
      "cell_type": "code",
      "metadata": {
        "colab": {
          "base_uri": "https://localhost:8080/"
        },
        "id": "EhZH3EzB-lSD",
        "outputId": "3cbb3f30-cc28-42f4-e1b5-5c0b844093e7"
      },
      "source": [
        "for i in range(48,57):\n",
        "    print(chr(i), end=\" \")"
      ],
      "execution_count": null,
      "outputs": [
        {
          "output_type": "stream",
          "text": [
            "0 1 2 3 4 5 6 7 8 "
          ],
          "name": "stdout"
        }
      ]
    },
    {
      "cell_type": "markdown",
      "metadata": {
        "id": "07TcHHsg-lgT"
      },
      "source": [
        "Q6: Display the following output with the help of Ascii character."
      ]
    },
    {
      "cell_type": "code",
      "metadata": {
        "colab": {
          "base_uri": "https://localhost:8080/"
        },
        "id": "E_tB0VKX-oxy",
        "outputId": "44e89b3e-5e70-4d20-e284-e4d5a1ab0268"
      },
      "source": [
        "for i in range(97,122):\n",
        "    print(chr(i), end=\" \")"
      ],
      "execution_count": null,
      "outputs": [
        {
          "output_type": "stream",
          "text": [
            "a b c d e f g h i j k l m n o p q r s t u v w x y "
          ],
          "name": "stdout"
        }
      ]
    },
    {
      "cell_type": "markdown",
      "metadata": {
        "id": "hwuco-JU-pCq"
      },
      "source": [
        "Q7: Write a python program for given a Python list you should be able to display Python list in the following order\n",
        "\n",
        "L1 = [100, 200, 300, 400, 500]\n",
        "\n",
        "Expected output:\n",
        "\n",
        "\n",
        "[500, 400, 300, 200, 100]\n"
      ]
    },
    {
      "cell_type": "code",
      "metadata": {
        "colab": {
          "base_uri": "https://localhost:8080/"
        },
        "id": "-SxLjMoW-s4V",
        "outputId": "b3dd50ee-b5e4-43e5-9292-d87132cd1d62"
      },
      "source": [
        "l1=[100,200,300,400,500]\n",
        "l1.sort()\n",
        "l2=l1\n",
        "l2.reverse()\n",
        "print(l2)"
      ],
      "execution_count": null,
      "outputs": [
        {
          "output_type": "stream",
          "text": [
            "[500, 400, 300, 200, 100]\n"
          ],
          "name": "stdout"
        }
      ]
    },
    {
      "cell_type": "markdown",
      "metadata": {
        "id": "0mTAEY5h-tSz"
      },
      "source": [
        "Q6: Write a Python program to concatenate following dictionaries to create a new one.\n",
        "\n",
        "Sample Dictionary : \n",
        "\n",
        "dic1={1:10, 2:20} \n",
        "\n",
        "dic2={3:30, 4:40} \n",
        "\n",
        "dic3={5:50,6:60}\n",
        "\n",
        "Expected Result : {1: 10, 2: 20, 3: 30, 4: 40, 5: 50, 6: 60}"
      ]
    },
    {
      "cell_type": "code",
      "metadata": {
        "colab": {
          "base_uri": "https://localhost:8080/"
        },
        "id": "CGaom05i-1Gz",
        "outputId": "11f0b1e7-185f-4abc-a53c-c56150844ad5"
      },
      "source": [
        "dic1={1:10, 2:20}  \n",
        "dic2={3:30, 4:40}  \n",
        "dic3={5:50,6:60}    \n",
        "for d in (dic1, dic2, dic3): dic1.update(d)  \n",
        "print(dic1) "
      ],
      "execution_count": null,
      "outputs": [
        {
          "output_type": "stream",
          "text": [
            "{1: 10, 2: 20, 3: 30, 4: 40, 5: 50, 6: 60}\n"
          ],
          "name": "stdout"
        }
      ]
    },
    {
      "cell_type": "markdown",
      "metadata": {
        "id": "LAKe8Aol-1ds"
      },
      "source": [
        "Q7: Write a Python program to add key to a dictionary.\n",
        "\n",
        "Sample Dictionary : {0: 10, 1: 20}\n",
        "\n",
        "Expected Result : {0: 10, 1: 20, 2: 30}"
      ]
    },
    {
      "cell_type": "code",
      "metadata": {
        "colab": {
          "base_uri": "https://localhost:8080/"
        },
        "id": "qfNW6yTU-6CH",
        "outputId": "ca3bc5a2-f6ab-477d-c0f7-aa77e7bb58f3"
      },
      "source": [
        "d1 = {0:10, 1:20}\n",
        "print(d1)\n",
        "d1.update({2:30})\n",
        "print(d1)"
      ],
      "execution_count": null,
      "outputs": [
        {
          "output_type": "stream",
          "text": [
            "{0: 10, 1: 20}\n",
            "{0: 10, 1: 20, 2: 30}\n"
          ],
          "name": "stdout"
        }
      ]
    },
    {
      "cell_type": "markdown",
      "metadata": {
        "id": "FhJWbYHs-6Q9"
      },
      "source": [
        "Q8: Write a Python program to print out a set containing all the colors from a list which are not present in another list\n",
        "Test Data : \n",
        "\n",
        "color_list_1 = set([\"White\", \"Black\", \"Red\"]) \n",
        "\n",
        "color_list_2 = set([\"Red\", \"Green\"])\n"
      ]
    },
    {
      "cell_type": "code",
      "metadata": {
        "colab": {
          "base_uri": "https://localhost:8080/"
        },
        "id": "OadCZ4xa-_C3",
        "outputId": "b545ec44-f104-407f-9de8-87df61c83907"
      },
      "source": [
        "color_list_1 = set([\"White\", \"Black\", \"Red\"])\n",
        "color_list_2 = set([\"Red\", \"Green\"])\n",
        "color_list_1.union(color_list_2)\n"
      ],
      "execution_count": null,
      "outputs": [
        {
          "output_type": "execute_result",
          "data": {
            "text/plain": [
              "{'Black', 'Green', 'Red', 'White'}"
            ]
          },
          "metadata": {
            "tags": []
          },
          "execution_count": 25
        }
      ]
    },
    {
      "cell_type": "markdown",
      "metadata": {
        "id": "7pm7FM-b-_bc"
      },
      "source": [
        "Q9: Write a python program to concatenate following two lists index-wise:\n",
        "\n",
        "list1 = [\"M\", \"na\", \"i\", \"Ke\"]\n",
        "\n",
        "list2 = [\"y\", \"me\", \"s\", \"lly\"]\n",
        "\n",
        "Expected output:\n",
        "\n",
        "['My', 'name', 'is', 'Kelly']\n",
        "\n",
        "[ you can use zip() to concatenate sequences index-wise.so explore it and then try this exercise]\n"
      ]
    },
    {
      "cell_type": "code",
      "metadata": {
        "colab": {
          "base_uri": "https://localhost:8080/"
        },
        "id": "8EaTUP90_DHr",
        "outputId": "720fa6d9-fb13-46d4-8121-6d7a8ea7111f"
      },
      "source": [
        "list1 = [\"M\", \"na\", \"i\", \"Ke\"]\n",
        "list2 = [\"y\", \"me\", \"s\", \"lly\"]\n",
        "list3 = [i + j for i, j in zip(list1, list2)]\n",
        "print(list3)"
      ],
      "execution_count": null,
      "outputs": [
        {
          "output_type": "stream",
          "text": [
            "['My', 'name', 'is', 'Kelly']\n"
          ],
          "name": "stdout"
        }
      ]
    },
    {
      "cell_type": "markdown",
      "metadata": {
        "id": "EZd9akMh_DgY"
      },
      "source": [
        "Q10: Given a Python list. Write a python program to turn every item of a list into its square \n",
        "\n",
        "List1 = [1, 2, 3, 4, 5, 6, 7]\n",
        "\n",
        "Expected output:\n",
        "\n",
        "[1, 4, 9, 16, 25, 36, 49]\n"
      ]
    },
    {
      "cell_type": "code",
      "metadata": {
        "colab": {
          "base_uri": "https://localhost:8080/"
        },
        "id": "56GU88IY_Gej",
        "outputId": "db1114be-3239-42b9-88d0-4b21e2b1f53f"
      },
      "source": [
        "List1 = [1, 2, 3, 4, 5, 6, 7]\n",
        "List1 =  [x * x for x in List1]\n",
        "print(List1)"
      ],
      "execution_count": null,
      "outputs": [
        {
          "output_type": "stream",
          "text": [
            "[1, 4, 9, 16, 25, 36, 49]\n"
          ],
          "name": "stdout"
        }
      ]
    },
    {
      "cell_type": "markdown",
      "metadata": {
        "id": "8E20ieZ0_MP7"
      },
      "source": [
        "Q11: Program to count the number of each vowel in a string."
      ]
    },
    {
      "cell_type": "code",
      "metadata": {
        "id": "9X2wO3ir_Ozr",
        "colab": {
          "base_uri": "https://localhost:8080/"
        },
        "outputId": "912f82a6-d3b6-49b1-e315-3275b030d8d3"
      },
      "source": [
        "str1 = 'Hello, how are you'\n",
        "str1 = str1.casefold()\n",
        "count = {x:sum([1 for char in str1 if char == x]) for x in 'aeiou'}\n",
        "print(count)\n"
      ],
      "execution_count": null,
      "outputs": [
        {
          "output_type": "stream",
          "text": [
            "{'a': 1, 'e': 2, 'i': 0, 'o': 3, 'u': 1}\n"
          ],
          "name": "stdout"
        }
      ]
    },
    {
      "cell_type": "code",
      "metadata": {
        "colab": {
          "base_uri": "https://localhost:8080/"
        },
        "id": "M85C0HpvVkMj",
        "outputId": "b2844aaf-3f2b-4926-bd89-4af2d72d051e"
      },
      "source": [
        "str=input(\"Enter string:\")\n",
        "vowels=0\n",
        "for i in str:\n",
        "      if(i=='a' or i=='e' or i=='i' or i=='o' or i=='u' or i=='A' or i=='E' or i=='I' or i=='O' or i=='U'):\n",
        "            vowels=vowels+1\n",
        "print(\"Number of vowels are:\")\n",
        "print(vowels)"
      ],
      "execution_count": null,
      "outputs": [
        {
          "output_type": "stream",
          "text": [
            "Enter string:hi how are you\n",
            "Number of vowels are:\n",
            "6\n"
          ],
          "name": "stdout"
        }
      ]
    },
    {
      "cell_type": "markdown",
      "metadata": {
        "id": "J0EjCttr_O_r"
      },
      "source": [
        "Q12:Write a python program to Access the value of key ‘history’ from the following dictionary-\n",
        "\n",
        "sampleDict = {\n",
        "\n",
        "\n",
        "\"class\":{\n",
        "\n",
        "\"student\":{\n",
        "\n",
        "\"name\":\"Mike\",\n",
        "\n",
        "\"marks\":{\n",
        "\n",
        "\"physics\":70,\n",
        "\n",
        "\"history\":80\n",
        "\n",
        "}\n",
        "\n",
        "}\n",
        "\n",
        "}\n",
        "\n",
        "}\n"
      ]
    },
    {
      "cell_type": "code",
      "metadata": {
        "id": "xiRynnEJ_aRw",
        "colab": {
          "base_uri": "https://localhost:8080/"
        },
        "outputId": "9d827ddb-f612-4908-f8f3-9910c1e738b8"
      },
      "source": [
        "sampleDict = { \n",
        "   \"class\":{ \n",
        "      \"student\":{ \n",
        "         \"name\":\"Mike\",\n",
        "         \"marks\":{ \n",
        "            \"physics\":70,\n",
        "            \"history\":80\n",
        "         }\n",
        "      }\n",
        "   }\n",
        "}\n",
        "print(sampleDict['class']['student']['marks']['history'])"
      ],
      "execution_count": null,
      "outputs": [
        {
          "output_type": "stream",
          "text": [
            "80\n"
          ],
          "name": "stdout"
        }
      ]
    },
    {
      "cell_type": "markdown",
      "metadata": {
        "id": "UvQniwcn_asW"
      },
      "source": [
        "Q 13: write a Program to Remove Punctuations from a String provided by the user. [Hint: use punctuation attribute of string module to get all punctuations \n",
        "\n",
        "(i.e. !\"#$%&\\'()*+,-./:;<=>?@[\\\\]^_`{|}~ ) ]"
      ]
    },
    {
      "cell_type": "code",
      "metadata": {
        "id": "R8ycDlOM_gjp",
        "colab": {
          "base_uri": "https://localhost:8080/"
        },
        "outputId": "e144ffa9-622d-44f1-813b-bd4b3ce13924"
      },
      "source": [
        "punctuations = '''!()-[]{};:'\"\\,<>./?@#$%^&*_~'''\n",
        "input_str = input(\"Enter a string: \")\n",
        "final_str = \"\"\n",
        "for char in input_str:\n",
        "    if char not in punctuations:\n",
        "        final_str += char\n",
        "print(final_str)"
      ],
      "execution_count": null,
      "outputs": [
        {
          "output_type": "stream",
          "text": [
            "Enter a string: hi, how? are's upo?\n",
            "hi how ares upo\n"
          ],
          "name": "stdout"
        }
      ]
    },
    {
      "cell_type": "code",
      "metadata": {
        "colab": {
          "base_uri": "https://localhost:8080/"
        },
        "id": "NhPkxi4VbC_e",
        "outputId": "6065b80a-9c19-40d6-9607-279fbf4e045d"
      },
      "source": [
        "import string\n",
        "string.punctuation\n",
        "input_str = input(\"Enter a string: \")\n",
        "final_str = \"\"\n",
        "for char in input_str:\n",
        "    if char not in punctuations:\n",
        "        final_str += char\n",
        "print(final_str)\n"
      ],
      "execution_count": null,
      "outputs": [
        {
          "output_type": "stream",
          "text": [
            "Enter a string: hi, how' are' you ;doing?\n",
            "hi how are you doing\n"
          ],
          "name": "stdout"
        }
      ]
    },
    {
      "cell_type": "markdown",
      "metadata": {
        "id": "15rJaJVH_gyn"
      },
      "source": [
        "[Nested Loops]\n",
        "\n",
        "Q14: Write a python program to print the Following:\n",
        "\n",
        "1\n",
        "\n",
        "12\n",
        "\n",
        "123\n"
      ]
    },
    {
      "cell_type": "code",
      "metadata": {
        "id": "_-AtFiC3_wwT"
      },
      "source": [
        "rows = 4\n",
        "for i in range(rows):\n",
        "    for j in range(i):\n",
        "        print(i, end=' ')\n",
        "    print('')"
      ],
      "execution_count": null,
      "outputs": []
    },
    {
      "cell_type": "code",
      "metadata": {
        "id": "FTldgbmnc5FQ"
      },
      "source": [
        "for i in range(1,4):\n",
        "  for j in range (i,0,-1):\n",
        "    print(j,end=\"\")\n",
        "  print(\"\")"
      ],
      "execution_count": null,
      "outputs": []
    },
    {
      "cell_type": "markdown",
      "metadata": {
        "id": "Gpaaqf05_xHS"
      },
      "source": [
        "Q15: WAP to print the following asterisk pattern:\n"
      ]
    },
    {
      "cell_type": "code",
      "metadata": {
        "id": "71fnkbFDACFB"
      },
      "source": [
        "rows = 6\n",
        "for i in range(0, rows):\n",
        "    for j in range(0, i + 1):\n",
        "        print(\"*\", end=' ')\n",
        "    print(\"\\r\")"
      ],
      "execution_count": null,
      "outputs": []
    },
    {
      "cell_type": "markdown",
      "metadata": {
        "id": "CO9zpMCuACY1"
      },
      "source": [
        "Q16: WAP to create a function traiangle to print the following asterisk triangle pattern:"
      ]
    },
    {
      "cell_type": "code",
      "metadata": {
        "id": "TtEtJQioAFHS"
      },
      "source": [
        "rows = 5\n",
        "for i in range(0, rows):\n",
        "    for j in range(0, i + 1):\n",
        "        print(\"*\", end=' ')\n",
        "    print(\"\\r\")\n",
        "\n",
        "for i in range(rows, 0, -1):\n",
        "    for j in range(0, i - 1):\n",
        "        print(\"*\", end=' ')\n",
        "    print(\"\\r\")"
      ],
      "execution_count": null,
      "outputs": []
    },
    {
      "cell_type": "markdown",
      "metadata": {
        "id": "vKvI8pTNAFUD"
      },
      "source": [
        "Q17: Write a python program to print following multiplication table on the screen"
      ]
    },
    {
      "cell_type": "code",
      "metadata": {
        "id": "AYy9Rwh9aGMY"
      },
      "source": [
        "num = int(input(\"Enter a number: \"))\n",
        "for i in range(1, 11):\n",
        "   print(num, 'x', i, '=', num*i)"
      ],
      "execution_count": null,
      "outputs": []
    },
    {
      "cell_type": "code",
      "metadata": {
        "id": "bu7GU_1hwRKU"
      },
      "source": [
        "print"
      ],
      "execution_count": null,
      "outputs": []
    },
    {
      "cell_type": "code",
      "metadata": {
        "id": "S1KV54XncOHU"
      },
      "source": [
        "\"\"\"\n",
        "question?\n",
        "n=int(input('Please enter a positive integer between 1 and 10: '))\n",
        "for row in range(1,n+1):\n",
        "    for col in range(1,n+1):\n",
        "        print(row*col, end=\"\\t\")\n",
        "    print()\n",
        "\"\"\""
      ],
      "execution_count": null,
      "outputs": []
    },
    {
      "cell_type": "code",
      "metadata": {
        "id": "b7_0qi6cAID_"
      },
      "source": [
        "\"\"\"\n",
        "question?\n",
        "n=9\n",
        "m = list(list(range(1*i,(n+1)*i, i)) for i in range(1,n+1))\n",
        "for i in m:\n",
        "    i = [str(j).rjust(len(str(m[-1][-1]))+1) for j in i]\n",
        "    print(''.join(i))\n",
        "\"\"\""
      ],
      "execution_count": null,
      "outputs": []
    },
    {
      "cell_type": "code",
      "metadata": {
        "id": "uUJM51HCb1uC"
      },
      "source": [
        "\"\"\"\n",
        "question?\n",
        "n=int(input('Please enter a positive integer between 1 and 20: '))\n",
        "for row in range(1,n+1):\n",
        "    print(*(\"{:3}\".format(row*col) for col in range(1, n+1)))\n",
        "\"\"\""
      ],
      "execution_count": null,
      "outputs": []
    },
    {
      "cell_type": "code",
      "metadata": {
        "id": "lZ41llkMxf0j"
      },
      "source": [
        "\"\"\"\n",
        "for i in range(1,11):\n",
        "  print(\" \",i,end=\" \")\n",
        "print(\" +\",\"- - - - - - - - - - - - - - - - - - - - - - - - - - - - - - - - - - - - - \")\n",
        "for i in range(1, 10+1):\n",
        "  print(\"\",i,end=\"|\")\n",
        "for j in range(i, (i*10)+1,i):\n",
        "  print(\"\",j,end=\"\\t\")\n",
        "print()\n",
        "\"\"\""
      ],
      "execution_count": null,
      "outputs": []
    },
    {
      "cell_type": "code",
      "metadata": {
        "colab": {
          "base_uri": "https://localhost:8080/"
        },
        "id": "7hwxGruJkLds",
        "outputId": "0a9aa263-3270-44da-bd58-5bca41782c6e"
      },
      "source": [
        "def recur_fact(x):\n",
        "  if x==1:\n",
        "    return 1\n",
        "  else:\n",
        "    return(x*recur_fact(x-1))\n",
        "num=int(input(\"enter a number : \"))\n",
        "if num>=1:\n",
        "  print(\"the factorial of \",num,\"is\",recur_fact(num))"
      ],
      "execution_count": null,
      "outputs": [
        {
          "output_type": "stream",
          "text": [
            "enter a number : 4\n",
            "the factorial of  4 is 24\n"
          ],
          "name": "stdout"
        }
      ]
    }
  ]
}